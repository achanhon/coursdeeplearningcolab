{
  "nbformat": 4,
  "nbformat_minor": 0,
  "metadata": {
    "colab": {
      "provenance": [],
      "authorship_tag": "ABX9TyMd7Bdidsxbdl1RRpNb013b",
      "include_colab_link": true
    },
    "kernelspec": {
      "name": "python3",
      "display_name": "Python 3"
    },
    "language_info": {
      "name": "python"
    }
  },
  "cells": [
    {
      "cell_type": "markdown",
      "metadata": {
        "id": "view-in-github",
        "colab_type": "text"
      },
      "source": [
        "<a href=\"https://colab.research.google.com/github/achanhon/coursdeeplearningcolab/blob/master/2022/sample_projet.ipynb\" target=\"_parent\"><img src=\"https://colab.research.google.com/assets/colab-badge.svg\" alt=\"Open In Colab\"/></a>"
      ]
    },
    {
      "cell_type": "code",
      "source": [
        "!wget https://httpmail.onera.fr/21/23a611334d7e2725a045a4af25ded52b1qJq6D/Imagenet_images.tar.xz\n",
        "!tar -xf Imagenet_images.tar.xz"
      ],
      "metadata": {
        "colab": {
          "base_uri": "https://localhost:8080/"
        },
        "id": "3SV_Vy_DJHNF",
        "outputId": "5f123161-09ef-4b87-ca52-4e178e8cb76f"
      },
      "execution_count": 1,
      "outputs": [
        {
          "output_type": "stream",
          "name": "stdout",
          "text": [
            "--2022-12-13 15:47:42--  https://httpmail.onera.fr/21/23a611334d7e2725a045a4af25ded52b1qJq6D/Imagenet_images.tar.xz\n",
            "Resolving httpmail.onera.fr (httpmail.onera.fr)... 144.204.16.9\n",
            "Connecting to httpmail.onera.fr (httpmail.onera.fr)|144.204.16.9|:443... connected.\n",
            "HTTP request sent, awaiting response... 200 OK\n",
            "Length: 4282004 (4.1M) [application/force-download]\n",
            "Saving to: ‘Imagenet_images.tar.xz.3’\n",
            "\n",
            "Imagenet_images.tar 100%[===================>]   4.08M  3.97MB/s    in 1.0s    \n",
            "\n",
            "2022-12-13 15:47:43 (3.97 MB/s) - ‘Imagenet_images.tar.xz.3’ saved [4282004/4282004]\n",
            "\n"
          ]
        }
      ]
    },
    {
      "cell_type": "code",
      "execution_count": 2,
      "metadata": {
        "id": "dy2MmhXVChx3"
      },
      "outputs": [],
      "source": [
        "import torch\n",
        "import torchvision"
      ]
    },
    {
      "cell_type": "code",
      "source": [
        "net = torchvision.models.resnet18(weights=\"IMAGENET1K_V1\")\n",
        "net.eval()\n",
        "normalisation = torchvision.transforms.Normalize(torch.Tensor([0.485, 0.456, 0.406]), torch.Tensor([0.229, 0.224, 0.225]))"
      ],
      "metadata": {
        "id": "wbL-y7YuCl7u"
      },
      "execution_count": null,
      "outputs": []
    },
    {
      "cell_type": "code",
      "source": [
        "for i in range(50):\n",
        "  x = torchvision.io.read_image(\"projet/img\"+str(i)+\".png\")\n",
        "  x = x/255\n",
        "  x = torch.Tensor(x).reshape(1,3,224,224)\n",
        "  x = normalisation(x)\n",
        "  score = net(x)\n",
        "  _,label = score.max(1)\n",
        "  print(int(label))"
      ],
      "metadata": {
        "colab": {
          "base_uri": "https://localhost:8080/"
        },
        "id": "PrNjfQzEDN8k",
        "outputId": "34b66667-924a-47af-c4d2-b7361865d7d3"
      },
      "execution_count": 4,
      "outputs": [
        {
          "output_type": "stream",
          "name": "stdout",
          "text": [
            "719\n",
            "979\n",
            "538\n",
            "770\n",
            "481\n",
            "746\n",
            "989\n",
            "100\n",
            "633\n",
            "385\n",
            "659\n",
            "295\n",
            "236\n",
            "4\n",
            "532\n",
            "603\n",
            "5\n",
            "997\n",
            "472\n",
            "181\n",
            "617\n",
            "206\n",
            "126\n",
            "18\n",
            "936\n",
            "317\n",
            "553\n",
            "871\n",
            "456\n",
            "803\n",
            "814\n",
            "37\n",
            "956\n",
            "497\n",
            "573\n",
            "216\n",
            "565\n",
            "941\n",
            "118\n",
            "302\n",
            "181\n",
            "117\n",
            "223\n",
            "394\n",
            "353\n",
            "492\n",
            "720\n",
            "816\n",
            "259\n",
            "937\n"
          ]
        }
      ]
    }
  ]
}