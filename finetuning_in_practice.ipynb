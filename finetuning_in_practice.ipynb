{
  "nbformat": 4,
  "nbformat_minor": 0,
  "metadata": {
    "colab": {
      "provenance": [],
      "authorship_tag": "ABX9TyPIl+C7m1kKLYI468Oc8WhG",
      "include_colab_link": true
    },
    "kernelspec": {
      "name": "python3",
      "display_name": "Python 3"
    },
    "language_info": {
      "name": "python"
    }
  },
  "cells": [
    {
      "cell_type": "markdown",
      "metadata": {
        "id": "view-in-github",
        "colab_type": "text"
      },
      "source": [
        "<a href=\"https://colab.research.google.com/github/achanhon/coursdeeplearningcolab/blob/master/finetuning_in_practice.ipynb\" target=\"_parent\"><img src=\"https://colab.research.google.com/assets/colab-badge.svg\" alt=\"Open In Colab\"/></a>"
      ]
    },
    {
      "cell_type": "markdown",
      "source": [
        "#Finetuning#\n",
        "\n",
        "L'objectif de ce TP est de montrer le concept du \"finetuning\" très souvent\n",
        "utilisé pour traiter une tache spécifique à l'aide de réseaux de neurones génériques.\n",
        "\n",
        "Le point de départ de ce concept est qu'il existe beaucoup de modèles disponibles sur internet pour des taches génériques.\n",
        "Par exemple, si vous regarder la page https://pytorch.org/vision/main/models.html vous pouvez voir qu'il existe un grand nombre de modèle de classification \"Imagenet\", mais aussi des modèles de segmentation ou de détection \"Ms Coco\" (et il ne s'agit que des modèles pytorch, vous pourrez en trouver BEAUCOUP d'autres sur internet).\n",
        "\n",
        "Cela signifique que si je veux segmenter des images de Ms Coco (ou très similaire), je n'ai pas forcément besoin d'apprendre un modèle moi-même: je peux juste repartir d'un modèle pytorch.\n",
        "\n",
        "Testons ça."
      ],
      "metadata": {
        "id": "tAWjBU6bvdKk"
      }
    },
    {
      "cell_type": "code",
      "execution_count": null,
      "metadata": {
        "id": "2-MGJj34vaI2"
      },
      "outputs": [],
      "source": []
    }
  ]
}