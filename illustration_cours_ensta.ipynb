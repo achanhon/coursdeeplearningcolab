{
  "nbformat": 4,
  "nbformat_minor": 0,
  "metadata": {
    "colab": {
      "provenance": [],
      "authorship_tag": "ABX9TyOkJbCPR0KjBVIc+0rTgXkF",
      "include_colab_link": true
    },
    "kernelspec": {
      "name": "python3",
      "display_name": "Python 3"
    },
    "language_info": {
      "name": "python"
    }
  },
  "cells": [
    {
      "cell_type": "markdown",
      "metadata": {
        "id": "view-in-github",
        "colab_type": "text"
      },
      "source": [
        "<a href=\"https://colab.research.google.com/github/achanhon/coursdeeplearningcolab/blob/master/illustration_cours_ensta.ipynb\" target=\"_parent\"><img src=\"https://colab.research.google.com/assets/colab-badge.svg\" alt=\"Open In Colab\"/></a>"
      ]
    },
    {
      "cell_type": "markdown",
      "source": [
        "### COURS INTRODUCTION AU DEEP LEARNING (ENSTA)\n",
        "\n",
        "Dans un premier temps, l'objectif est d'insister entre la différence entre une architecture de réseau de neurones (qui peut coder différentes fonctions via les valeurs d'un ensemble de poids).\n",
        "\n",
        "Considérons par exemple un réseau de neurones sur des points 2D fait de 3 neurones en couche caché et 1 neurone terminal."
      ],
      "metadata": {
        "id": "isyhk3XfyN90"
      }
    },
    {
      "cell_type": "code",
      "source": [
        "import torch\n",
        "\n",
        "class LittleNet(torch.nn.Module):\n",
        "    def __init__(self):\n",
        "        super(LittleNet, self).__init__()\n",
        "        self.fc1 = torch.nn.Linear(2, 3, bias=False)\n",
        "        self.fc2 = torch.nn.Linear(3, 1, bias=False)\n",
        "\n",
        "    def forward(self, x):\n",
        "        x = torch.nn.functional.relu(self.fc1(x))\n",
        "        x = self.fc2(x)\n",
        "        return x"
      ],
      "metadata": {
        "id": "nMIlzxWjyrnl"
      },
      "execution_count": 1,
      "outputs": []
    },
    {
      "cell_type": "markdown",
      "source": [
        "donnons lui une initialisation arbitraire, et regardons le signe de la fonction correspondante dans le plan"
      ],
      "metadata": {
        "id": "wAxNCdOc0Ss7"
      }
    },
    {
      "cell_type": "code",
      "source": [
        "import matplotlib.pyplot as plt\n",
        "grid = []\n",
        "for i in range(-5,5):\n",
        "  for j in range(-5,5):\n",
        "    grid.append(torch.Tensor([i,j]))\n",
        "grid = torch.stack(grid).long()\n",
        "print(grid.shape)\n",
        "\n",
        "net = LittleNet()\n",
        "output = net(grid.float())\n",
        "\n",
        "visu = torch.zeros(10,10,3)\n",
        "for k in range(grid.shape[0]):\n",
        "  if output[k]>0:\n",
        "    visu[grid[k][0]+5][grid[k][1]+5][1]=1\n",
        "  else:\n",
        "    visu[grid[k][0]+5][grid[k][1]+5][2]=1\n",
        "\n",
        "plt.imshow(visu.numpy())\n",
        "plt.show()"
      ],
      "metadata": {
        "colab": {
          "base_uri": "https://localhost:8080/",
          "height": 447
        },
        "id": "TUzPna2IzMvt",
        "outputId": "5f6529c7-598f-41a7-c2c5-0ef3ef3856b1"
      },
      "execution_count": 14,
      "outputs": [
        {
          "output_type": "stream",
          "name": "stdout",
          "text": [
            "torch.Size([100, 2])\n"
          ]
        },
        {
          "output_type": "display_data",
          "data": {
            "text/plain": [
              "<Figure size 640x480 with 1 Axes>"
            ],
            "image/png": "[encoded data removed]"
          },
          "metadata": {}
        }
      ]
    },
    {
      "cell_type": "code",
      "source": [],
      "metadata": {
        "id": "teFd7oM83Frr"
      },
      "execution_count": 2,
      "outputs": []
    }
  ]
}