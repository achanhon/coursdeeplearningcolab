{
  "nbformat": 4,
  "nbformat_minor": 0,
  "metadata": {
    "colab": {
      "provenance": [],
      "authorship_tag": "ABX9TyN8kuM1uk9Ktz01wwKFdIBf",
      "include_colab_link": true
    },
    "kernelspec": {
      "name": "python3",
      "display_name": "Python 3"
    },
    "language_info": {
      "name": "python"
    }
  },
  "cells": [
    {
      "cell_type": "markdown",
      "metadata": {
        "id": "view-in-github",
        "colab_type": "text"
      },
      "source": [
        "<a href=\"https://colab.research.google.com/github/achanhon/coursdeeplearningcolab/blob/master/illustration_cours_ensta.ipynb\" target=\"_parent\"><img src=\"https://colab.research.google.com/assets/colab-badge.svg\" alt=\"Open In Colab\"/></a>"
      ]
    },
    {
      "cell_type": "markdown",
      "source": [
        "### COURS INTRODUCTION AU DEEP LEARNING (ENSTA)\n",
        "\n",
        "Dans un premier temps, l'objectif est d'insister entre la différence entre une architecture de réseau de neurones (qui peut coder différentes fonctions via les valeurs d'un ensemble de poids).\n",
        "\n",
        "Considérons par exemple un réseau de neurones sur des points 2D fait de 3 neurones en couche caché et 1 neurone terminal."
      ],
      "metadata": {
        "id": "isyhk3XfyN90"
      }
    },
    {
      "cell_type": "code",
      "source": [
        "import torch\n",
        "\n",
        "class LittleNet(torch.nn.Module):\n",
        "    def __init__(self):\n",
        "        super(LittleNet, self).__init__()\n",
        "        self.fc1 = torch.nn.Linear(2, 3, bias=False)\n",
        "        self.fc2 = torch.nn.Linear(3, 1, bias=False)\n",
        "\n",
        "    def forward(self, x):\n",
        "        x = torch.nn.functional.relu(self.fc1(x))\n",
        "        x = self.fc2(x)\n",
        "        return x"
      ],
      "metadata": {
        "id": "nMIlzxWjyrnl"
      },
      "execution_count": 1,
      "outputs": []
    },
    {
      "cell_type": "markdown",
      "source": [
        "donnons lui une initialisation arbitraire, et regardons le signe de la fonction correspondante dans le plan"
      ],
      "metadata": {
        "id": "wAxNCdOc0Ss7"
      }
    },
    {
      "cell_type": "code",
      "source": [
        "import matplotlib.pyplot as plt\n",
        "grid = []\n",
        "for i in range(-5,5):\n",
        "  for j in range(-5,5):\n",
        "    grid.append(torch.Tensor([i,j]))\n",
        "grid = torch.stack(grid).long()\n",
        "print(grid.shape)\n",
        "\n",
        "net = LittleNet()\n",
        "output = net(grid.float())\n",
        "\n",
        "visu = torch.zeros(10,10,3)\n",
        "for k in range(grid.shape[0]):\n",
        "  if output[k]>0:\n",
        "    visu[grid[k][0]+5][grid[k][1]+5][1]=1\n",
        "  else:\n",
        "    visu[grid[k][0]+5][grid[k][1]+5][2]=2\n",
        "\n",
        "plt.imshow(visu.numpy())\n",
        "plt.show()"
      ],
      "metadata": {
        "colab": {
          "base_uri": "https://localhost:8080/",
          "height": 465
        },
        "id": "TUzPna2IzMvt",
        "outputId": "9ccd4163-c9d1-4474-8261-a6d0dc5a5d7e"
      },
      "execution_count": 10,
      "outputs": [
        {
          "output_type": "stream",
          "name": "stderr",
          "text": [
            "WARNING:matplotlib.image:Clipping input data to the valid range for imshow with RGB data ([0..1] for floats or [0..255] for integers).\n"
          ]
        },
        {
          "output_type": "stream",
          "name": "stdout",
          "text": [
            "torch.Size([100, 2])\n"
          ]
        },
        {
          "output_type": "display_data",
          "data": {
            "text/plain": [
              "<Figure size 640x480 with 1 Axes>"
            ],
            "image/png": "[encoded data removed]"
          },
          "metadata": {}
        }
      ]
    },
    {
      "cell_type": "code",
      "source": [],
      "metadata": {
        "id": "teFd7oM83Frr"
      },
      "execution_count": 2,
      "outputs": []
    }
  ]
}