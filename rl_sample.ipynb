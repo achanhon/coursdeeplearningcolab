{
  "nbformat": 4,
  "nbformat_minor": 0,
  "metadata": {
    "colab": {
      "provenance": [],
      "authorship_tag": "ABX9TyNbS6c8A1MwaZlKNl906q02",
      "include_colab_link": true
    },
    "kernelspec": {
      "name": "python3",
      "display_name": "Python 3"
    },
    "language_info": {
      "name": "python"
    }
  },
  "cells": [
    {
      "cell_type": "markdown",
      "metadata": {
        "id": "view-in-github",
        "colab_type": "text"
      },
      "source": [
        "<a href=\"https://colab.research.google.com/github/achanhon/coursdeeplearningcolab/blob/master/rl_sample.ipynb\" target=\"_parent\"><img src=\"https://colab.research.google.com/assets/colab-badge.svg\" alt=\"Open In Colab\"/></a>"
      ]
    },
    {
      "cell_type": "code",
      "execution_count": null,
      "metadata": {
        "id": "K4RF9azGJ4RN"
      },
      "outputs": [],
      "source": [
        "import torch\n",
        "import gymnasium\n",
        "\n",
        "GAMMA=0.99\n",
        "\n",
        "class MemoryBuffer:\n",
        "    def __init__(self):\n",
        "        self.i = 0\n",
        "        self.full = False\n",
        "\n",
        "        L=50000\n",
        "        self.s = torch.zeros(L,8)\n",
        "        self.a = torch.zeros(L,4)\n",
        "        self.r = torch.zeros(L)\n",
        "        self.s_ = torch.zeros(L,8)\n",
        "        self.f = torch.zeros(L)\n",
        "\n",
        "    def push(self, s, a, r, s_, f):\n",
        "        self.s[self.i] = s\n",
        "        self.a[self.i][a] = 1\n",
        "        self.r[self.i] = r\n",
        "        self.s_[self.i] = s_\n",
        "        self.f[self.i] = 1-f\n",
        "        self.i += 1\n",
        "        if self.i >= self.r.shape[0]:\n",
        "            self.full = True\n",
        "            self.i = 0\n",
        "\n",
        "    def getBatch(self, B=64):\n",
        "        if self.full:\n",
        "            I = list((torch.rand(B) * self.r.shape[0]).long())\n",
        "        else:\n",
        "            I = list((torch.rand(B) * self.i).long())\n",
        "        return (self.s[I], self.a[I], self.r[I], self.s_[I], self.f[I])\n",
        "\n",
        "def trial(env,agent, T, memory):\n",
        "    totalR = 0\n",
        "    s, info = env.reset()\n",
        "    for _ in range(1000):\n",
        "        a = agent.sample(s,T)\n",
        "        s_, r, terminated, truncated, info = env.step(a)\n",
        "\n",
        "        memory.push(s,a,r,s_,terminated or truncated)\n",
        "        totalR+=r\n",
        "        if terminated or truncated:\n",
        "            return totalR\n",
        "        else:\n",
        "            s = s_\n",
        "\n",
        "def train(agent,T,memory,nbsteps):\n",
        "    agent.cuda()\n",
        "    optimizer = torch.optim.Adam(agent.parameters(), lr=0.0001, weight_decay=0.001)\n",
        "\n",
        "    meanloss = torch.zeros(50).cuda()\n",
        "    for step in range(nbsteps):\n",
        "        B = memorybuffer.getBatch()\n",
        "        S, A, R, S_,F = B\n",
        "        S, A, R, S_,F = S.cuda(), A.cuda(), R.cuda(), S_.cuda(),F.cuda()\n",
        "\n",
        "        Q = agent.Q(S)\n",
        "        QA = (Q * A).sum(1)\n",
        "        Q_ = agent.V(S_)\n",
        "        loss = ((GAMMA * Q_ * F + R - QA)**2).mean()\n",
        "\n",
        "        optimizer.zero_grad()\n",
        "        loss.backward()\n",
        "        optimizer.step()\n",
        "\n",
        "        with torch.no_grad():\n",
        "            meanloss[step % 50] = loss.clone()\n",
        "            if step % 50 == 49:\n",
        "                meanloss = meanloss.mean()\n",
        "                print(\"\\t\", step, float(meanloss))\n",
        "                meanloss = torch.zeros(50).cuda()\n"
      ]
    },
    {
      "cell_type": "code",
      "source": [
        "env = gym.make(\"LunarLander-v3\", render_mode=\"human\")\n",
        "\n",
        "T = 0.25\n",
        "\n",
        "for i in range(10):\n",
        "    for j in range(10):"
      ],
      "metadata": {
        "id": "pgzIHX3nNIWS"
      },
      "execution_count": null,
      "outputs": []
    }
  ]
}