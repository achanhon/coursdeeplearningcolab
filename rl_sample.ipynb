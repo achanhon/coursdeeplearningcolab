{
  "nbformat": 4,
  "nbformat_minor": 0,
  "metadata": {
    "colab": {
      "provenance": [],
      "authorship_tag": "ABX9TyMGnGBrsi++HbdKb9rzbG0/",
      "include_colab_link": true
    },
    "kernelspec": {
      "name": "python3",
      "display_name": "Python 3"
    },
    "language_info": {
      "name": "python"
    }
  },
  "cells": [
    {
      "cell_type": "markdown",
      "metadata": {
        "id": "view-in-github",
        "colab_type": "text"
      },
      "source": [
        "<a href=\"https://colab.research.google.com/github/achanhon/coursdeeplearningcolab/blob/master/rl_sample.ipynb\" target=\"_parent\"><img src=\"https://colab.research.google.com/assets/colab-badge.svg\" alt=\"Open In Colab\"/></a>"
      ]
    },
    {
      "cell_type": "code",
      "execution_count": 1,
      "metadata": {
        "id": "K4RF9azGJ4RN",
        "outputId": "cf95a782-ece6-49dc-ee7a-87a22956fcc4",
        "colab": {
          "base_uri": "https://localhost:8080/",
          "height": 384
        }
      },
      "outputs": [
        {
          "output_type": "error",
          "ename": "ModuleNotFoundError",
          "evalue": "No module named 'gymnasium'",
          "traceback": [
            "\u001b[0;31m---------------------------------------------------------------------------\u001b[0m",
            "\u001b[0;31mModuleNotFoundError\u001b[0m                       Traceback (most recent call last)",
            "\u001b[0;32m<ipython-input-1-b76ef2c7d931>\u001b[0m in \u001b[0;36m<cell line: 2>\u001b[0;34m()\u001b[0m\n\u001b[1;32m      1\u001b[0m \u001b[0;32mimport\u001b[0m \u001b[0mtorch\u001b[0m\u001b[0;34m\u001b[0m\u001b[0;34m\u001b[0m\u001b[0m\n\u001b[0;32m----> 2\u001b[0;31m \u001b[0;32mimport\u001b[0m \u001b[0mgymnasium\u001b[0m\u001b[0;34m\u001b[0m\u001b[0;34m\u001b[0m\u001b[0m\n\u001b[0m\u001b[1;32m      3\u001b[0m \u001b[0;34m\u001b[0m\u001b[0m\n\u001b[1;32m      4\u001b[0m \u001b[0mGAMMA\u001b[0m\u001b[0;34m=\u001b[0m\u001b[0;36m0.99\u001b[0m\u001b[0;34m\u001b[0m\u001b[0;34m\u001b[0m\u001b[0m\n\u001b[1;32m      5\u001b[0m \u001b[0;34m\u001b[0m\u001b[0m\n",
            "\u001b[0;31mModuleNotFoundError\u001b[0m: No module named 'gymnasium'",
            "",
            "\u001b[0;31m---------------------------------------------------------------------------\u001b[0;32m\nNOTE: If your import is failing due to a missing package, you can\nmanually install dependencies using either !pip or !apt.\n\nTo view examples of installing some common dependencies, click the\n\"Open Examples\" button below.\n\u001b[0;31m---------------------------------------------------------------------------\u001b[0m\n"
          ],
          "errorDetails": {
            "actions": [
              {
                "action": "open_url",
                "actionText": "Open Examples",
                "url": "/notebooks/snippets/importing_libraries.ipynb"
              }
            ]
          }
        }
      ],
      "source": [
        "import torch\n",
        "import gymnasium\n",
        "\n",
        "GAMMA=0.99\n",
        "\n",
        "class MemoryBuffer:\n",
        "    def __init__(self):\n",
        "        self.i = 0\n",
        "        self.full = False\n",
        "\n",
        "        L=50000\n",
        "        self.s = torch.zeros(L,8)\n",
        "        self.a = torch.zeros(L,4)\n",
        "        self.r = torch.zeros(L)\n",
        "        self.s_ = torch.zeros(L,8)\n",
        "        self.f = torch.zeros(L)\n",
        "\n",
        "    def push(self, s, a, r, s_, f):\n",
        "        self.s[self.i] = s\n",
        "        self.a[self.i][a] = 1\n",
        "        self.r[self.i] = r\n",
        "        self.s_[self.i] = s_\n",
        "        self.f[self.i] = 1-f\n",
        "        self.i += 1\n",
        "        if self.i >= self.r.shape[0]:\n",
        "            self.full = True\n",
        "            self.i = 0\n",
        "\n",
        "    def getBatch(self, B=64):\n",
        "        if self.full:\n",
        "            I = list((torch.rand(B) * self.r.shape[0]).long())\n",
        "        else:\n",
        "            I = list((torch.rand(B) * self.i).long())\n",
        "        return (self.s[I], self.a[I], self.r[I], self.s_[I], self.f[I])\n",
        "\n",
        "def trial(env,agent, T, memory):\n",
        "    totalR = 0\n",
        "    s, info = env.reset()\n",
        "    for _ in range(1000):\n",
        "        a = agent.sample(s,T)\n",
        "        s_, r, terminated, truncated, info = env.step(a)\n",
        "\n",
        "        memory.push(s,a,r,s_,terminated or truncated)\n",
        "        totalR+=r\n",
        "        if terminated or truncated:\n",
        "            return totalR\n",
        "        else:\n",
        "            s = s_\n",
        "\n",
        "def train(agent,T,memory,nbsteps=50):\n",
        "    agent.cuda()\n",
        "    optimizer = torch.optim.Adam(agent.parameters(), lr=0.0001, weight_decay=0.001)\n",
        "\n",
        "    meanloss = torch.zeros(50).cuda()\n",
        "    for step in range(nbsteps):\n",
        "        B = memorybuffer.getBatch()\n",
        "        S, A, R, S_,F = B\n",
        "        S, A, R, S_,F = S.cuda(), A.cuda(), R.cuda(), S_.cuda(),F.cuda()\n",
        "\n",
        "        Q = agent.Q(S)\n",
        "        QA = (Q * A).sum(1)\n",
        "        Q_ = agent.V(S_,T)\n",
        "        loss = ((GAMMA * Q_ * F + R - QA)**2).mean()\n",
        "\n",
        "        optimizer.zero_grad()\n",
        "        loss.backward()\n",
        "        optimizer.step()\n",
        "\n",
        "        with torch.no_grad():\n",
        "            meanloss[step % 50] = loss.clone()\n",
        "            if step % 50 == 49:\n",
        "                meanloss = meanloss.mean()\n",
        "                print(\"\\t\", step, float(meanloss))\n",
        "                meanloss = torch.zeros(50).cuda()\n"
      ]
    },
    {
      "cell_type": "code",
      "source": [
        "def leakyRelu(x):\n",
        "    return torch.minimum(x,x*0.2)\n",
        "\n",
        "class Block(torch.nn.Module):\n",
        "    def __init__(self):\n",
        "        super(Block,self).__init__()\n",
        "\n",
        "        self.f1 =torch.nn.Linear(24,8)\n",
        "        self.f2 =torch.nn.Linear(8,24)\n",
        "        self.f3 =torch.nn.Linear(24,16)\n",
        "\n",
        "    def forward(self,x):\n",
        "        f = leakyRelu(self.f1(x))\n",
        "        f = leakyRelu(self.f2(f))\n",
        "        f = leakyRelu(self.f3(f))\n",
        "\n",
        "        tmp = torch.nn.zeros(x.shape[0],8)\n",
        "        f = torch.cat([tmp,f],dim=1)\n",
        "        return x+f\n",
        "\n",
        "\n",
        "class LunarAgent(torch.nn.Module):\n",
        "    def __init__(self):\n",
        "        super(LunarAgent,self).__init__()\n",
        "\n",
        "        self.b1 = Block()\n",
        "        self.b2 = Block()\n",
        "        self.b3 = Block()\n",
        "        self.b4 = Block()\n",
        "        self.b5 = Block()\n",
        "\n",
        "        self.A =torch.nn.Linear(24,4)\n",
        "\n",
        "    def forward(self,x):\n",
        "        code = torch.nn.zeros(x.shape[0],16)\n",
        "        x = torch.cat([x,code],dim=1)\n",
        "\n",
        "        x = self.b1(x)\n",
        "        x = self.b2(x)\n",
        "        x = self.b3(x)\n",
        "        x = self.b4(x)\n",
        "        x = self.b5(x)\n",
        "\n",
        "        return self.A(x)\n",
        "\n",
        "    def Q(self,x):\n",
        "        return self.forward(x)\n",
        "\n",
        "    def pi(self,Q,T):\n",
        "        return torch.nn.softmax(T*Q,dim=1)\n",
        "\n",
        "    def V(self,x,T):\n",
        "        Q =self.Q(x)\n",
        "        pi = self.pi(Q,T)\n",
        "        return (Q*pi).sum(1)\n",
        "\n",
        "    def sample(self,x,T):\n",
        "        with torch.no_grad():\n",
        "            pi = self.pi(self.Q(x.view(1,-1)),T)\n",
        "            return int(torch.multinomial(pi, num_samples=1))"
      ],
      "metadata": {
        "id": "b3Bk10nV2gYi"
      },
      "execution_count": null,
      "outputs": []
    },
    {
      "cell_type": "code",
      "source": [
        "env = gym.make(\"LunarLander-v3\")\n",
        "\n",
        "memory = MemoryBuffer()\n",
        "agent = LunarAgent()\n",
        "\n",
        "T = 0.25\n",
        "for _ in range(10):\n",
        "    trial(env,agent,T,memory)\n",
        "\n",
        "for _ in range(10):\n",
        "    T = 2*T\n",
        "    for _ in range(10):\n",
        "        trial(env,agent,T,memory)\n",
        "        train(agent,T,memory)\n",
        "    tot = 0\n",
        "    for _ in range(10):\n",
        "        tot+=trial(env,agent,T,memory)\n",
        ""
      ],
      "metadata": {
        "id": "pgzIHX3nNIWS"
      },
      "execution_count": null,
      "outputs": []
    }
  ]
}