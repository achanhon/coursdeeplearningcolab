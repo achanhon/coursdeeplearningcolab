{
  "nbformat": 4,
  "nbformat_minor": 0,
  "metadata": {
    "colab": {
      "name": "Untitled6.ipynb",
      "provenance": [],
      "collapsed_sections": [],
      "include_colab_link": true
    },
    "kernelspec": {
      "name": "python3",
      "display_name": "Python 3"
    },
    "accelerator": "GPU"
  },
  "cells": [
    {
      "cell_type": "markdown",
      "metadata": {
        "id": "view-in-github",
        "colab_type": "text"
      },
      "source": [
        "<a href=\"https://colab.research.google.com/github/achanhon/coursdeeplearningcolab/blob/master/bow_mnist.ipynb\" target=\"_parent\"><img src=\"https://colab.research.google.com/assets/colab-badge.svg\" alt=\"Open In Colab\"/></a>"
      ]
    },
    {
      "cell_type": "markdown",
      "metadata": {
        "id": "UTUF2gpAcOr5"
      },
      "source": [
        "# TP Sac de mot\n",
        "\n",
        "L'objectif de ce tp est de coder une approche sac de mots : c'est ce qu'on faisait de mieux **avant** le deep learning.\n",
        "\n",
        "Alternativement, vous pouvez aussi regarder les questions en fin de TP qui porte sur des méthodes d'auto encoding par deep learning (mais on est en limite de ce qu'on peut faire avec collab).\n",
        "\n",
        "\n",
        "On va réutiliser MNIST que vous connaissez désormais.\n"
      ]
    },
    {
      "cell_type": "markdown",
      "metadata": {
        "id": "UGNwRuVjdE5W"
      },
      "source": [
        "## Création d'un dictionnaire\n",
        "\n",
        "On va extraire un ensemble dense de patch dans des images MNIST et appliquer K moyenne dessus, cela nous donnera un dictionnaire de patches !\n",
        "\n",
        "D'abord récupérons MNIST (avec torchvision -- juste par faciliter mais ce n'est pas pertinent)."
      ]
    },
    {
      "cell_type": "code",
      "metadata": {
        "id": "ouvhsCnwdPgm"
      },
      "source": [
        "import torch\n",
        "import torchvision\n",
        "transform_mnist = torchvision.transforms.Compose([\n",
        "    torchvision.transforms.Resize((32,32)),\n",
        "    torchvision.transforms.ToTensor()\n",
        "])\n",
        "mnisttrain = torchvision.datasets.MNIST(\"./mnist\",train=True, transform=transform_mnist, download=True)\n",
        "trainloader = torch.utils.data.DataLoader(mnisttrain, batch_size=64, shuffle=True, num_workers=2)\n",
        "mnisttest = torchvision.datasets.MNIST(\"./mnist\",train=False, transform=transform_mnist, download=True)\n",
        "testloader = torch.utils.data.DataLoader(mnisttest, batch_size=64, shuffle=True, num_workers=2)\n",
        "\n",
        "import matplotlib.pyplot as plt\n",
        "import numpy as np\n",
        "def show(img):\n",
        "    npimg = img.numpy()\n",
        "    plt.imshow(np.transpose(npimg, (1,2,0)), interpolation='nearest')\n",
        "\n",
        "sample = next(iter(trainloader))[0]\n",
        "show(torchvision.utils.make_grid(sample))\n",
        "print(sample.shape)  ## 64 c'est le batch\n",
        "                        ## 1 c'est du gris -- sinon ce serait 3 pour du RGB\n",
        "                        ## 32x32 c'est pour la taille de l'image (petite ici)"
      ],
      "execution_count": null,
      "outputs": []
    },
    {
      "cell_type": "markdown",
      "metadata": {
        "id": "6gNOHjffefzg"
      },
      "source": [
        "**Q1** (moyen) : écrire une fonction qui extrait des patch 8x8 dans une image, les transforme en vecteur (flatten) et les mets dans une liste donnée en argument"
      ]
    },
    {
      "cell_type": "code",
      "metadata": {
        "id": "GBPJ5pdmdghW"
      },
      "source": [
        "def extraitpatch2D(allpatch,inputs):\n",
        "  print(\"TODO\")\n",
        "\n",
        "def extraitpatchinbatch(allpatch,inputs):\n",
        "  for i in range(inputs.shape[0]):\n",
        "      extraitpatch2D(allpatch,inputs[i][0].cpu().numpy())"
      ],
      "execution_count": null,
      "outputs": []
    },
    {
      "cell_type": "markdown",
      "metadata": {
        "id": "iauL3XSqfISU"
      },
      "source": [
        "**ATTENTION :** en fait c'est vraiment consommateur de ressource d'extraire autant de patches...\n",
        "\n",
        "On vous fourniera une version qui tire de façon efficace des patchs à extraire au hasard de sorte que chaque position soit équiprobable.\n",
        "\n",
        "**Q2 (facile)** : utiliser la fonction show64patches pour visualiser 64 patchs tirés au hasard et/ou les patchs extraits d'une image unique. Chacun apporte une information \"faible\" mais dans leur ensemble, on espère qu'ils encodent l'image."
      ]
    },
    {
      "cell_type": "code",
      "metadata": {
        "id": "a6CxcGFzCord"
      },
      "source": [
        "import random\n",
        "\n",
        "def show64patch(patches):\n",
        "  patches = [torch.Tensor(patches[i]) for i in range(64)]\n",
        "  patches = [patch.view(8,8) for patch in patches]\n",
        "  patches = [patch.unsqueeze(0) for patch in patches]\n",
        "  patches = torch.stack(patches)\n",
        "  show(torchvision.utils.make_grid(patches))\n",
        "\n",
        "tmp = []\n",
        "\n",
        "print(\"TODO\")"
      ],
      "execution_count": null,
      "outputs": []
    },
    {
      "cell_type": "markdown",
      "metadata": {
        "id": "A0VqQCfVEhYr"
      },
      "source": [
        "**Q3 (facile)** Parcourer le dataset de train pour extraire \"l'ensemble\" des patchs de l'ensemble des images (normalement on utilise train **ET** test mais bon)"
      ]
    },
    {
      "cell_type": "code",
      "metadata": {
        "id": "a5GqZNlohsM3"
      },
      "source": [
        "allpatch = []\n",
        "print(\"TODO\")"
      ],
      "execution_count": null,
      "outputs": []
    },
    {
      "cell_type": "markdown",
      "metadata": {
        "id": "hhlChYqxFjl8"
      },
      "source": [
        "**Q4 (moyen)** : Appliquer sklearn.cluster.KMeans pour créer un dictionnaire de 512 clusters\n",
        "\n",
        "https://scikit-learn.org/stable/modules/generated/sklearn.cluster.KMeans.html\n",
        "\n",
        "\n",
        "c'est normal si ça prend 10 mins !\n"
      ]
    },
    {
      "cell_type": "code",
      "metadata": {
        "id": "EFrKO733GDrR"
      },
      "source": [
        "from sklearn.cluster import KMeans\n",
        "\n",
        "print(len(allpatch)) ## on a un gros problème Kmeans !! \n",
        "                     ## dimension des vecteurs 64, \n",
        "                     ## K = 512\n",
        "                     ## N = 600000\n",
        "\n",
        "print(\"TODO\")"
      ],
      "execution_count": null,
      "outputs": []
    },
    {
      "cell_type": "markdown",
      "metadata": {
        "id": "DtunFS0S4qYQ"
      },
      "source": [
        "**Q5 (facile)** : avez vous utiliser la classe des images jusqu'à maintenant ??"
      ]
    },
    {
      "cell_type": "markdown",
      "metadata": {
        "id": "dR3KCn3g5i6W"
      },
      "source": [
        "Non pour l'instant on utilise que de la données !"
      ]
    },
    {
      "cell_type": "code",
      "metadata": {
        "id": "a3ipypqT-iRb"
      },
      "source": [
        "del allpatch  ### libérer de la ram\n",
        "print(kmeans.cluster_centers_.shape) ### vérification"
      ],
      "execution_count": null,
      "outputs": []
    },
    {
      "cell_type": "markdown",
      "metadata": {
        "id": "plvLXR2-GH5B"
      },
      "source": [
        "## Encodage\n",
        "\n",
        "L'objectif maintenant est d'utiliser le dictionnaire pour créer une fonction qui prend une image en entrée et qui produit un histogramme H avec h_i qui correspond au nombre de fois qu'on a vu un patch qui se rattache au groupe \"i\" du dictionnaire !\n",
        "\n",
        "cette fois on extraira tous les patchs -- vu que de toute façon on va juste en conserver leur index\n"
      ]
    },
    {
      "cell_type": "code",
      "metadata": {
        "id": "i6GqksktIDKe"
      },
      "source": [
        "def extractallpatch(allpatch,image):\n",
        "  for row in range(image.shape[0]-8):\n",
        "    for col in range(image.shape[1]-8):\n",
        "        allpatch.append(image[row:row+8,col:col+8].copy().flatten())\n",
        "\n",
        "def extraitallpatchinbatch(allpatch,inputs):\n",
        "  for i in range(inputs.shape[0]):\n",
        "      extractallpatch(allpatch,inputs[i][0].cpu().numpy())"
      ],
      "execution_count": null,
      "outputs": []
    },
    {
      "cell_type": "markdown",
      "metadata": {
        "id": "1H3CXh6D_KAO"
      },
      "source": [
        "**Q6 (facile)** : écrivez une fonction qui prend une liste contenant des entiers de 0 à 512 et qui retourne un histogramme de taille 512 avec h[i] le nombre de i dans la liste"
      ]
    },
    {
      "cell_type": "code",
      "metadata": {
        "id": "8K-rPU0oAUoT"
      },
      "source": [
        "\n",
        "print(\"TODO\")"
      ],
      "execution_count": null,
      "outputs": []
    },
    {
      "cell_type": "markdown",
      "metadata": {
        "id": "-5PcoVeWAhmB"
      },
      "source": [
        "**Q7 facile :** écrire une fonction qui trie les indices d'un tableau en fonction des valeurs associées"
      ]
    },
    {
      "cell_type": "code",
      "metadata": {
        "id": "ABiuLW2kAsFo"
      },
      "source": [
        "\n",
        "print(\"TODO\")\n"
      ],
      "execution_count": null,
      "outputs": []
    },
    {
      "cell_type": "markdown",
      "metadata": {
        "id": "2Kd4iBZBZMGt"
      },
      "source": [
        "On va visualiser des \"classes de patchs\" **Attention** rien à voir avec la classe de l'image chat/chien -- on parle bien de la classe du patch vis à vis des K moyennes.\n",
        "\n",
        "Seulement, les classes les plus communes sont probablement justes des patchs tout noir ou tout blanc, ils contiennent peu d'information...\n",
        "d'un autre coté, si un groupe de patch contient 0 patch il n'est pas intéressant non plus...\n",
        "\n",
        "Le code suivant récupère 3 indices contenant au moins 64 éléments sans qu'ils soient juste à coté..."
      ]
    },
    {
      "cell_type": "code",
      "metadata": {
        "id": "4M4_8J74Z_Dw"
      },
      "source": [
        "def get3index(histo):\n",
        "  tmp = [(histo[i],i) for i in range(len(histo))]\n",
        "  tmp = sorted(tmp)\n",
        "  i = 0\n",
        "  while tmp[i][0]<64:\n",
        "    i+=1\n",
        "  return tmp[i][1],tmp[i+4][1],tmp[i+8][1]"
      ],
      "execution_count": null,
      "outputs": []
    },
    {
      "cell_type": "markdown",
      "metadata": {
        "id": "wjYSI67oICOK"
      },
      "source": [
        "**Q8 (moyen)** : visualiser des patchs d'un même centroide (disons correspondant à 3 centres comme ci dessus)\n",
        "\n",
        "*regarder l'exemple donnée dans la doc de scikit -- il vous permet de voir comment avoir le label associé à un patch*\n",
        "\n",
        "*ATTENTION 1 seul \"show64patch\" par case de notebook*\n",
        "\n",
        "le résultat des kmeans vous parait il pertinent ?\n",
        "\n"
      ]
    },
    {
      "cell_type": "code",
      "metadata": {
        "id": "uOY5DzQmIurp"
      },
      "source": [
        "\n",
        "sample = next(iter(trainloader))[0]\n",
        "tmp = []\n",
        "\n",
        "print(\"TODO\")"
      ],
      "execution_count": null,
      "outputs": []
    },
    {
      "cell_type": "code",
      "metadata": {
        "id": "267BbgCkcMKx"
      },
      "source": [
        "\n",
        "print(\"TODO\")\n"
      ],
      "execution_count": null,
      "outputs": []
    },
    {
      "cell_type": "code",
      "metadata": {
        "id": "EtRDIVnVcNru"
      },
      "source": [
        "\n",
        "print(\"TODO\")"
      ],
      "execution_count": null,
      "outputs": []
    },
    {
      "cell_type": "markdown",
      "metadata": {
        "id": "xYQNyKpJVdQT"
      },
      "source": [
        "**Q9 (moyen)** : écrire une fonction qui prend 1 image et produit l'histogramme associé"
      ]
    },
    {
      "cell_type": "code",
      "metadata": {
        "id": "D-Ys7PxCWLF3"
      },
      "source": [
        "print(\"TODO\")"
      ],
      "execution_count": null,
      "outputs": []
    },
    {
      "cell_type": "markdown",
      "metadata": {
        "id": "ZNWsXptRI4V5"
      },
      "source": [
        "## Classification\n",
        "\n",
        "**Q BONUS (pas si dur mais à la limite des moyens de calcul)** : parcourir l'ensemble du dataset de train, produire et stocker l'ensemble des histogrammes, puis apprendre un MLP (2 couches) ou arbre ou SVM sur ces histogrammes -> utiliser plutôt des classifiers scikit learn \n",
        "\n",
        "https://scikit-learn.org/stable/modules/generated/sklearn.svm.LinearSVC.html#sklearn.svm.LinearSVC\n",
        "\n",
        "https://scikit-learn.org/stable/modules/tree.html#classification\n",
        "\n",
        "https://scikit-learn.org/stable/modules/neural_networks_supervised.html#classification\n",
        "\n",
        "\n",
        "Puis utiliser ce classifier sur les données de test -- (qu'il convient d'encoder au préalable)"
      ]
    },
    {
      "cell_type": "code",
      "metadata": {
        "id": "JRmPiA6pUg7O"
      },
      "source": [
        "print(\"TODO\")"
      ],
      "execution_count": null,
      "outputs": []
    },
    {
      "cell_type": "markdown",
      "source": [
        "===========================================================================\n",
        "\n",
        "## Auto encodage\n",
        "\n",
        "On va auto encoder les images - donc on va optimiser un modèle à regresser la donnée elle même\n",
        "\n",
        "-> il n'y a donc que du \"x\" et pas de \"y\" (ce qui est normal pour ce TP sur le non supervisée)\n",
        "\n",
        "voilà donc des fonctions \"apprentissage/test\" mais adapté au non supervisé"
      ],
      "metadata": {
        "id": "FMBFX_DOiaK1"
      }
    },
    {
      "cell_type": "code",
      "source": [
        "import torch\n",
        "\n",
        "\n",
        "def compute_L1(batchprovider, net):\n",
        "    with torch.no_grad():\n",
        "        net.eval()\n",
        "        net = net.cuda()\n",
        "        nb, L1 = 0, 0\n",
        "        for x, _ in batchprovider:\n",
        "            x = x.cuda()\n",
        "            z, _ = net(x)\n",
        "\n",
        "            L1 += (x - z).abs().sum()\n",
        "            nb += x.shape[0]\n",
        "    return L1, nb\n",
        "\n",
        "\n",
        "def training_epoch(batchprovider, net, lr):\n",
        "    net.train()\n",
        "    criterion = torch.nn.CrossEntropyLoss()\n",
        "    optimizer = torch.optim.Adam(net.parameters(), lr=lr)\n",
        "    meanloss = 0\n",
        "    nb, L1 = 0, 0\n",
        "    for i, (x, _) in enumerate(batchprovider):\n",
        "        x = x.cuda()\n",
        "        z, _ = net(x)\n",
        "\n",
        "        loss = (x - z).abs().sum()\n",
        "\n",
        "        with torch.no_grad():\n",
        "            meanloss += loss.clone().cpu().numpy()\n",
        "            L1 += loss.clone().cpu().numpy()\n",
        "            nb += x.shape[0]\n",
        "            if i % 50 == 49:\n",
        "                print(\"loss=\", meanloss / 50)\n",
        "                meanloss = 0\n",
        "\n",
        "        optimizer.zero_grad()\n",
        "        loss.backward()\n",
        "        torch.nn.utils.clip_grad_norm_(net.parameters(), 3)\n",
        "        optimizer.step()\n",
        "\n",
        "    return L1, nb\n"
      ],
      "metadata": {
        "id": "wSc7VPsYiewu"
      },
      "execution_count": 1,
      "outputs": []
    },
    {
      "cell_type": "markdown",
      "source": [
        "Par contre, ici le réseau ne doit pas prédire une classe mais bien produire une image, il faut donc écrire un réseau à la main qui fait ce type de tache"
      ],
      "metadata": {
        "id": "nUXvxCBgjjQM"
      }
    },
    {
      "cell_type": "code",
      "source": [
        "\n",
        "class MyAutoencoder(torch.nn.Module):\n",
        "    def __init__(self, latent_space=16):\n",
        "        super(MyAutoencoder, self).__init__()\n",
        "        self.conv1 = torch.nn.Conv2d(1, 16, kernel_size=5, padding=2)\n",
        "        self.conv2 = torch.nn.Conv2d(16, 64, kernel_size=5, padding=2)\n",
        "        self.l1 = torch.nn.Linear(64 * 7 * 7, latent_space)\n",
        "\n",
        "        self.d1 = torch.nn.Linear(latent_space, 512)\n",
        "        self.d2 = torch.nn.Linear(512, 512)\n",
        "        self.d3 = torch.nn.Linear(512, 7 * 7 * 64)\n",
        "        self.convd1 = torch.nn.Conv2d(64, 16, kernel_size=5, padding=2)\n",
        "        self.convd2 = torch.nn.Conv2d(16, 1, kernel_size=5, padding=2)\n",
        "\n",
        "        self.tmp = torch.nn.AdaptiveAvgPool2d((14, 14))\n",
        "        self.tmp2 = torch.nn.AdaptiveAvgPool2d((28, 28))\n",
        "\n",
        "    def forward(self, x):\n",
        "        x = torch.nn.functional.leaky_relu(self.conv1(x))\n",
        "        x = torch.nn.functional.max_pool2d(x, kernel_size=2, stride=2)\n",
        "        x = torch.nn.functional.max_pool2d(self.conv2(x), kernel_size=2, stride=2)\n",
        "        x = x.view(x.shape[0], 64 * 7 * 7)\n",
        "\n",
        "        code = torch.nn.functional.sigmoid(self.l1(x) * 100) * 10\n",
        "\n",
        "        x = torch.nn.functional.leaky_relu(self.d1(code))\n",
        "        x = torch.nn.functional.relu(self.d2(x))\n",
        "        x = torch.nn.functional.relu(self.d3(x))\n",
        "        x = x.view(x.shape[0], 64, 7, 7)\n",
        "\n",
        "        x = torch.nn.functional.leaky_relu(self.convd1(self.tmp(x)))\n",
        "        x = torch.nn.functional.sigmoid(self.convd2(self.tmp2(x)) * 100)\n",
        "\n",
        "        return x, code\n"
      ],
      "metadata": {
        "id": "sdfmmEF3jFgj"
      },
      "execution_count": 4,
      "outputs": []
    },
    {
      "cell_type": "markdown",
      "source": [
        "On peut maintenant appliquer ce réseau à MNIST"
      ],
      "metadata": {
        "id": "-YJKAtqOj86V"
      }
    },
    {
      "cell_type": "code",
      "source": [
        "import torchvision\n",
        "\n",
        "net = MyAutoencoder()\n",
        "net = net.cuda()\n",
        "\n",
        "print(\"load data\")\n",
        "trainset = torchvision.datasets.MNIST(\n",
        "    root=\"build\",\n",
        "    train=True,\n",
        "    download=True,\n",
        "    transform=torchvision.transforms.ToTensor(),\n",
        ")\n",
        "testset = torchvision.datasets.MNIST(\n",
        "    root=\"build\",\n",
        "    train=False,\n",
        "    download=True,\n",
        "    transform=torchvision.transforms.ToTensor(),\n",
        ")\n",
        "trainloader = torch.utils.data.DataLoader(\n",
        "    trainset, batch_size=128, shuffle=True, num_workers=2\n",
        ")\n",
        "testloader = torch.utils.data.DataLoader(\n",
        "    testset, batch_size=128, shuffle=True, num_workers=2\n",
        ")\n"
      ],
      "metadata": {
        "id": "IYb-wAdXmBLm"
      },
      "execution_count": null,
      "outputs": []
    },
    {
      "cell_type": "code",
      "source": [
        "\n",
        "print(\"train the model on the data\")\n",
        "\n",
        "for epoch in range(8):\n",
        "    print(\"epoch\", epoch)\n",
        "    L1, nb = training_epoch(trainloader, net, 0.00001)\n",
        "    print(\"train L1\", L1 / nb)\n",
        "\n",
        "print(\"eval model\")\n",
        "L1, nb = compute_L1(testloader, net)\n",
        "print(\"test L1\", L1 / nb)\n"
      ],
      "metadata": {
        "id": "0mbHHy1HkBEx",
        "outputId": "d62af50e-20c7-4fde-a63e-88a494593640",
        "colab": {
          "base_uri": "https://localhost:8080/"
        }
      },
      "execution_count": 5,
      "outputs": [
        {
          "output_type": "stream",
          "name": "stdout",
          "text": [
            "load data\n",
            "train the model on the data\n",
            "epoch 0\n"
          ]
        },
        {
          "output_type": "stream",
          "name": "stderr",
          "text": [
            "/usr/local/lib/python3.7/dist-packages/torch/nn/functional.py:1806: UserWarning: nn.functional.sigmoid is deprecated. Use torch.sigmoid instead.\n",
            "  warnings.warn(\"nn.functional.sigmoid is deprecated. Use torch.sigmoid instead.\")\n"
          ]
        },
        {
          "output_type": "stream",
          "name": "stdout",
          "text": [
            "loss= 13499.38744140625\n",
            "loss= 12457.26837890625\n",
            "loss= 11487.30484375\n",
            "loss= 10595.5625\n",
            "loss= 9999.4964453125\n",
            "loss= 9523.31490234375\n",
            "loss= 9127.48275390625\n",
            "loss= 8729.0262109375\n",
            "loss= 8491.223916015624\n",
            "train L1 80.86031052246094\n",
            "epoch 1\n",
            "loss= 8217.725078125\n",
            "loss= 8090.51083984375\n",
            "loss= 8026.642744140625\n",
            "loss= 7934.1998828125\n",
            "loss= 7831.10419921875\n",
            "loss= 7802.143623046875\n",
            "loss= 7660.40333984375\n",
            "loss= 7624.09861328125\n",
            "loss= 7576.137021484375\n",
            "train L1 61.30629036458333\n",
            "epoch 2\n",
            "loss= 7495.608525390625\n",
            "loss= 7456.249453125\n",
            "loss= 7403.76921875\n",
            "loss= 7347.797177734375\n",
            "loss= 7286.288369140625\n",
            "loss= 7249.278828125\n",
            "loss= 7230.968505859375\n",
            "loss= 7148.968642578125\n",
            "loss= 7100.6816796875\n",
            "train L1 56.9961411702474\n",
            "epoch 3\n",
            "loss= 7083.01490234375\n",
            "loss= 7022.91845703125\n",
            "loss= 7053.47783203125\n",
            "loss= 7000.287236328125\n",
            "loss= 6949.062197265625\n",
            "loss= 6907.069423828125\n",
            "loss= 6900.790703125\n",
            "loss= 6860.770625\n",
            "loss= 6792.79177734375\n",
            "train L1 54.27356276855469\n",
            "epoch 4\n",
            "loss= 6801.295791015625\n",
            "loss= 6755.355693359375\n",
            "loss= 6738.73546875\n",
            "loss= 6674.2466796875\n",
            "loss= 6671.62462890625\n",
            "loss= 6613.59248046875\n",
            "loss= 6631.888916015625\n",
            "loss= 6648.221875\n",
            "loss= 6591.331474609375\n",
            "train L1 52.15117258300781\n",
            "epoch 5\n",
            "loss= 6487.961806640625\n",
            "loss= 6537.101015625\n",
            "loss= 6457.44271484375\n",
            "loss= 6483.734228515625\n",
            "loss= 6452.128583984375\n",
            "loss= 6442.135830078125\n",
            "loss= 6445.578671875\n",
            "loss= 6399.555048828125\n",
            "loss= 6385.532177734375\n",
            "train L1 50.37699971516927\n",
            "epoch 6\n",
            "loss= 6333.43734375\n",
            "loss= 6266.497666015625\n",
            "loss= 6331.6725390625\n",
            "loss= 6220.15525390625\n",
            "loss= 6272.302822265625\n",
            "loss= 6271.212998046875\n",
            "loss= 6200.37546875\n",
            "loss= 6181.26353515625\n",
            "loss= 6202.291123046875\n",
            "train L1 48.827913346354165\n",
            "epoch 7\n",
            "loss= 6144.604169921875\n",
            "loss= 6185.699716796875\n",
            "loss= 6117.04267578125\n",
            "loss= 6120.72990234375\n",
            "loss= 6072.586123046875\n",
            "loss= 6031.959873046875\n",
            "loss= 6026.158740234375\n",
            "loss= 6068.073955078125\n",
            "loss= 5964.473056640625\n",
            "train L1 47.488629760742185\n",
            "eval model\n",
            "test L1 tensor(46.7428, device='cuda:0')\n"
          ]
        }
      ]
    },
    {
      "cell_type": "markdown",
      "source": [
        "### Q1 : \n",
        "Afficher un paquet d'image\n",
        "\n",
        "Puis la sortie du réseau\n",
        "\n",
        "La forme globale est \"correctement\" reproduite alors qu'on a au coeur du réseau transformer l'image 28x28 en un vecteur de taille \"latent_space\"\n",
        "\n"
      ],
      "metadata": {
        "id": "P74wR7Qxlg27"
      }
    },
    {
      "cell_type": "code",
      "source": [
        "print(\"TODO\")"
      ],
      "metadata": {
        "id": "tal-JdwXmnv9"
      },
      "execution_count": null,
      "outputs": []
    },
    {
      "cell_type": "markdown",
      "source": [
        "### Q2\n",
        "\n",
        "oui mais est ce que ce n'est qu'une compression ou est ce que c'est une compression qui conserve un peu de sémantique ??\n",
        "\n",
        "pour le savoir affichons (dans l'espace) les \"CODES\" associé aus images"
      ],
      "metadata": {
        "id": "Zld1IcM7mpWg"
      }
    },
    {
      "cell_type": "code",
      "source": [
        "colors = [\n",
        "    \"#fff100\",\n",
        "    \"#ff8c00\",\n",
        "    \"#e81123\",\n",
        "    \"#ec008c\",\n",
        "    \"#68217a\",\n",
        "    \"#00188f\",\n",
        "    \"#00bcf2\",\n",
        "    \"#00b294\",\n",
        "    \"#009e49\",\n",
        "    \"#bad80a\",\n",
        "]\n",
        "\n",
        "import matplotlib.pyplot as plt\n",
        "\n",
        "with torch.no_grad():\n",
        "    x, y = next(iter(testloader))\n",
        "    x = x.cuda()\n",
        "    _, code = net(x)\n",
        "    code = code.cpu().numpy()\n",
        "    code *= 100\n",
        "\n",
        "    C = [colors[y[i]] for i in range(128)]\n",
        "\n",
        "    fig = plt.figure()\n",
        "    ax = fig.add_subplot(111)\n",
        "\n",
        "    ax.scatter(code[:, 0], code[:, 1], c=C)\n",
        "    plt.show()"
      ],
      "metadata": {
        "id": "_yhovjw9nlQ1",
        "outputId": "b0af83bc-fa44-4b80-96de-340e3f7d23f1",
        "colab": {
          "base_uri": "https://localhost:8080/",
          "height": 300
        }
      },
      "execution_count": 6,
      "outputs": [
        {
          "output_type": "stream",
          "name": "stderr",
          "text": [
            "/usr/local/lib/python3.7/dist-packages/torch/nn/functional.py:1806: UserWarning: nn.functional.sigmoid is deprecated. Use torch.sigmoid instead.\n",
            "  warnings.warn(\"nn.functional.sigmoid is deprecated. Use torch.sigmoid instead.\")\n"
          ]
        },
        {
          "output_type": "display_data",
          "data": {
            "text/plain": [
              "<Figure size 432x288 with 1 Axes>"
            ],
            "image/png": "[encoded data removed]"
          },
          "metadata": {
            "needs_background": "light"
          }
        }
      ]
    },
    {
      "cell_type": "markdown",
      "source": [
        "les points sont normalements +/- regroupés par couleur - mais probablement pas suffisamment - mais c'est normal puisque l'espace latent n'est pas juste 2\n",
        "\n",
        "-> que se passe-t-il avec une espace latent de 2 ?\n",
        "(en terme d'erreur et ou de regroupement des points)"
      ],
      "metadata": {
        "id": "LS9aeC2mo6Yt"
      }
    },
    {
      "cell_type": "code",
      "source": [
        "print(\"TODO\")"
      ],
      "metadata": {
        "id": "Vn-Jh-xEpRBz"
      },
      "execution_count": null,
      "outputs": []
    },
    {
      "cell_type": "markdown",
      "source": [
        "### Q3\n",
        "\n",
        "faites grossir le réseau pour obtenir une bonne compression et un bon regroupement\n",
        "(il n'y aura pas de correction de cette question : actuellement je ne suis pas 100% sur que ce soit possible sur collab)"
      ],
      "metadata": {
        "id": "8VwFVmk5pWx4"
      }
    },
    {
      "cell_type": "code",
      "source": [
        "print(TODO)"
      ],
      "metadata": {
        "id": "juHryoD8pta5"
      },
      "execution_count": null,
      "outputs": []
    }
  ]
}