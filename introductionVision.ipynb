{
  "nbformat": 4,
  "nbformat_minor": 0,
  "metadata": {
    "colab": {
      "provenance": [],
      "authorship_tag": "ABX9TyNbVrKcmN1VB1y7t7kaG6tR",
      "include_colab_link": true
    },
    "kernelspec": {
      "name": "python3",
      "display_name": "Python 3"
    },
    "language_info": {
      "name": "python"
    }
  },
  "cells": [
    {
      "cell_type": "markdown",
      "metadata": {
        "id": "view-in-github",
        "colab_type": "text"
      },
      "source": [
        "<a href=\"https://colab.research.google.com/github/achanhon/coursdeeplearningcolab/blob/master/introductionVision.ipynb\" target=\"_parent\"><img src=\"https://colab.research.google.com/assets/colab-badge.svg\" alt=\"Open In Colab\"/></a>"
      ]
    },
    {
      "cell_type": "markdown",
      "source": [
        "#Méthode de vision par ordinateur \"traditionnelles\"\n",
        "\n",
        "## Extraction de contours"
      ],
      "metadata": {
        "id": "rX-amW26Sk8T"
      }
    },
    {
      "cell_type": "code",
      "source": [],
      "metadata": {
        "id": "SVV3mH2VS2dl"
      },
      "execution_count": null,
      "outputs": []
    }
  ]
}