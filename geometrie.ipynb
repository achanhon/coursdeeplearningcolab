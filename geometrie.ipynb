{
  "nbformat": 4,
  "nbformat_minor": 0,
  "metadata": {
    "colab": {
      "provenance": [],
      "authorship_tag": "ABX9TyMmhGNL62pKRm3pith6ZbgN",
      "include_colab_link": true
    },
    "kernelspec": {
      "name": "python3",
      "display_name": "Python 3"
    },
    "language_info": {
      "name": "python"
    }
  },
  "cells": [
    {
      "cell_type": "markdown",
      "metadata": {
        "id": "view-in-github",
        "colab_type": "text"
      },
      "source": [
        "<a href=\"https://colab.research.google.com/github/achanhon/coursdeeplearningcolab/blob/master/geometrie.ipynb\" target=\"_parent\"><img src=\"https://colab.research.google.com/assets/colab-badge.svg\" alt=\"Open In Colab\"/></a>"
      ]
    },
    {
      "cell_type": "code",
      "execution_count": null,
      "metadata": {
        "id": "HnuvBuCLGc8X"
      },
      "outputs": [],
      "source": [
        "import torch\n",
        "\n",
        "\n",
        "def extractCropOld(ABCD, img, s=256, inner=2048):\n",
        "    EPS, img = 0.1, img\n",
        "    _, H, W = img.shape\n",
        "    rA, cA, rB, cB, rC, cC, rD, cD = ABCD\n",
        "\n",
        "    tmp = (torch.arange(inner).float() + 0.5) / inner\n",
        "    u = tmp.view(-1, 1).expand(inner, inner)\n",
        "    v = tmp.view(1, -1).expand(inner, inner)\n",
        "    mask = (u + v <= 1.001).float()\n",
        "    maskbis = (u + v <= 1.001).float()\n",
        "\n",
        "    rP = (rB - rA) * u + (rD - rA) * v + rA\n",
        "    rPc = torch.clamp(rP, EPS, H - EPS)\n",
        "    cP = (cB - cA) * u + (cD - cA) * v + cA\n",
        "    cPc = torch.clamp(cP, EPS, W - EPS)\n",
        "    rP, cP = rPc.long().flatten(), cPc.long().flatten()\n",
        "    out1 = img[:, rP, cP].view(3, inner, inner) * mask.view(1, inner, inner)\n",
        "\n",
        "    rP = (rD - rC) * u + (rB - rC) * v + rC\n",
        "    rPc = torch.clamp(rP, EPS, H - EPS)\n",
        "    cP = (cD - cC) * u + (cB - cC) * v + cC\n",
        "    cPc = torch.clamp(cP, EPS, W - EPS)\n",
        "    rP, cP = rPc.long().flatten(), cPc.long().flatten()\n",
        "    out2 = img[:, rP, cP].view(3, inner, inner) * mask.view(1, inner, inner)\n",
        "    out2 = torch.flip(out2, dims=[1, 2])\n",
        "    maskbis = torch.flip(maskbis, dims=[0, 1])\n",
        "\n",
        "    mask = (mask + maskbis + EPS).view(1, 1, inner, inner)\n",
        "    out = (out1 + out2).view(1, 3, inner, inner) / mask\n",
        "    out = torch.nn.functional.interpolate(out, size=(s, s), mode=\"bilinear\")\n",
        "    return out[0]\n",
        "\n",
        "def extractCropNew(ABCD, img, s=256, inner=2048):\n",
        "    EPS, img = 0.1, img\n",
        "    _, H, W = img.shape\n",
        "    rA, cA, rB, cB, rC, cC, rD, cD = ABCD\n",
        "\n",
        "    tmp = (torch.arange(inner).float() + 0.5) / inner\n",
        "    u = tmp.view(-1, 1).expand(inner, inner)\n",
        "    v = tmp.view(1, -1).expand(inner, inner)\n",
        "    mask = (u + v <= 1.001).float()\n",
        "    maskbis = (u + v <= 1.001).float()\n",
        "\n",
        "    rP = (rB - rA) * u + (rD - rA) * v + rA\n",
        "    rPc = torch.clamp(rP, EPS, H - EPS)\n",
        "    cP = (cB - cA) * u + (cD - cA) * v + cA\n",
        "    cPc = torch.clamp(cP, EPS, W - EPS)\n",
        "    rP, cP = rPc.long().flatten(), cPc.long().flatten()\n",
        "    out1 = img[:, rP, cP].view(3, inner, inner) * mask.view(1, inner, inner)\n",
        "\n",
        "    rP = (rD - rC) * u + (rB - rC) * v + rC\n",
        "    rPc = torch.clamp(rP, EPS, H - EPS)\n",
        "    cP = (cD - cC) * u + (cB - cC) * v + cC\n",
        "    cPc = torch.clamp(cP, EPS, W - EPS)\n",
        "    rP, cP = rPc.long().flatten(), cPc.long().flatten()\n",
        "    out2 = img[:, rP, cP].view(3, inner, inner) * mask.view(1, inner, inner)\n",
        "    out2 = torch.flip(out2, dims=[1, 2])\n",
        "    maskbis = torch.flip(maskbis, dims=[0, 1])\n",
        "\n",
        "    mask = (mask + maskbis + EPS).view(1, 1, inner, inner)\n",
        "    out = (out1 + out2).view(1, 3, inner, inner) / mask\n",
        "    out = torch.nn.functional.interpolate(out, size=(s, s), mode=\"bilinear\")\n",
        "    return out[0]"
      ]
    }
  ]
}