{
  "nbformat": 4,
  "nbformat_minor": 0,
  "metadata": {
    "colab": {
      "provenance": [],
      "authorship_tag": "ABX9TyN7koFrL6Pu4+fr5N/SXORU",
      "include_colab_link": true
    },
    "kernelspec": {
      "name": "python3",
      "display_name": "Python 3"
    },
    "language_info": {
      "name": "python"
    }
  },
  "cells": [
    {
      "cell_type": "markdown",
      "metadata": {
        "id": "view-in-github",
        "colab_type": "text"
      },
      "source": [
        "<a href=\"https://colab.research.google.com/github/achanhon/coursdeeplearningcolab/blob/master/TP_ADVERSAIRE.ipynb\" target=\"_parent\"><img src=\"https://colab.research.google.com/assets/colab-badge.svg\" alt=\"Open In Colab\"/></a>"
      ]
    },
    {
      "cell_type": "markdown",
      "source": [
        "#deep learning sous attaque adversaire\n",
        "\n",
        "L'objet de ce TP est de démontrer\n",
        "- la faciliter de produire des attaques adversaires \"white box\" sur des réseaux naifs quelles soient invisibles ou par patch\n",
        "- mais que cela est beaucoup plus dur sur un réseau robustifier (cas invisible)\n",
        "- ou encore qu'il est beaucoup plus difficile de produire des attaques \"transferable\"\n",
        "\n",
        "### generalité\n",
        "\n",
        "Commençons par prendre en main un simple code d'inférence.\n",
        "(D'abord téléchargeons 10 images d'imagenet.)"
      ],
      "metadata": {
        "id": "AZhlLxX-l_5m"
      }
    },
    {
      "cell_type": "code",
      "source": [
        "!wget https://httpmail.onera.fr/21/d6754a5e46012222fbd154d021d8fda6ESW7OC/data.zip\n",
        "!unzip data.zip\n",
        "!ls"
      ],
      "metadata": {
        "colab": {
          "base_uri": "https://localhost:8080/"
        },
        "id": "g6FDb1CEFqXa",
        "outputId": "820804c1-9723-498c-d7cb-d6cb14b4060d"
      },
      "execution_count": 7,
      "outputs": [
        {
          "output_type": "stream",
          "name": "stdout",
          "text": [
            "--2024-09-23 18:17:43--  https://httpmail.onera.fr/21/d6754a5e46012222fbd154d021d8fda6ESW7OC/data.zip\n",
            "Resolving httpmail.onera.fr (httpmail.onera.fr)... 144.204.16.9\n",
            "Connecting to httpmail.onera.fr (httpmail.onera.fr)|144.204.16.9|:443... connected.\n",
            "HTTP request sent, awaiting response... 200 OK\n",
            "Length: 636508 (622K) [application/force-download]\n",
            "Saving to: ‘data.zip’\n",
            "\n",
            "data.zip            100%[===================>] 621.59K  1.20MB/s    in 0.5s    \n",
            "\n",
            "2024-09-23 18:17:44 (1.20 MB/s) - ‘data.zip’ saved [636508/636508]\n",
            "\n",
            "Archive:  data.zip\n",
            " extracting: 0.png                   \n",
            "  inflating: 1.png                   \n",
            " extracting: 2.png                   \n",
            " extracting: 3.png                   \n",
            "  inflating: 4.png                   \n",
            " extracting: 5.png                   \n",
            " extracting: 6.png                   \n",
            " extracting: 8.png                   \n",
            " extracting: 9.png                   \n",
            "0.png  1.png  2.png  3.png  4.png  5.png  6.png  8.png\t9.png  data.zip\n"
          ]
        }
      ]
    },
    {
      "cell_type": "code",
      "execution_count": 1,
      "metadata": {
        "id": "x7OtnMFzl_HU"
      },
      "outputs": [],
      "source": [
        "import torch\n",
        "import torchvision\n",
        "import matplotlib.pyplot as plt\n",
        "\n",
        "x = [torchvision.io.read_image(str(i)+\".png\") for i in range(10)]\n",
        "x = torch.stack(x)\n",
        "\n",
        "visu =\n",
        "plt.imshow(images[0][0], cmap='gray')\n",
        "plt.title(labels[0])\n",
        "plt.show()\n",
        "\n",
        "\n",
        "\n",
        "SHARK, PLANE = [2, 3, 4], [403, 404, 405]\n",
        "net ="
      ]
    },
    {
      "cell_type": "code",
      "source": [],
      "metadata": {
        "id": "idDfEQKFFejn"
      },
      "execution_count": null,
      "outputs": []
    }
  ]
}