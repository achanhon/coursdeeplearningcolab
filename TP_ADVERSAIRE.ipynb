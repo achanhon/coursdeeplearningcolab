{
  "cells": [
    {
      "cell_type": "markdown",
      "metadata": {
        "id": "view-in-github",
        "colab_type": "text"
      },
      "source": [
        "<a href=\"https://colab.research.google.com/github/achanhon/coursdeeplearningcolab/blob/master/TP_ADVERSAIRE.ipynb\" target=\"_parent\"><img src=\"https://colab.research.google.com/assets/colab-badge.svg\" alt=\"Open In Colab\"/></a>"
      ]
    },
    {
      "cell_type": "markdown",
      "metadata": {
        "id": "AZhlLxX-l_5m"
      },
      "source": [
        "#TP deep learning sous attaque adversaire (2024)\n",
        "####Adrien Chan-Hon-Tong\n",
        "####TP réalisé à partir de résultats de Pol Labarbarie\n",
        "\n",
        "\n",
        "L'objet de ce TP est de démontrer\n",
        "- la faciliter de produire des attaques adversaires \"white box\" sur des réseaux naifs quelles soient invisibles ou par patch\n",
        "- mais que cela est beaucoup plus dur sur un réseau robustifier (cas invisible)\n",
        "- ou encore qu'il est beaucoup plus difficile de produire des attaques \"transferable\"\n",
        "\n",
        "## generalité\n",
        "Commençons par télécharger 10 images d'imagenet."
      ]
    },
    {
      "cell_type": "code",
      "execution_count": null,
      "metadata": {
        "id": "g6FDb1CEFqXa"
      },
      "outputs": [],
      "source": [
        "!rm -f *\n",
        "!wget https://httpmail.onera.fr/21/500df56b6a7a034ecc2f3e0345f1ce9cYqsE3G/data.zip\n",
        "!unzip data.zip\n",
        "!ls"
      ]
    },
    {
      "cell_type": "markdown",
      "metadata": {
        "id": "arTqlxWjK1UQ"
      },
      "source": [
        "Affichons les : les 5 premières sont des \"avions\" et les 5 suivantes des \"requins\""
      ]
    },
    {
      "cell_type": "code",
      "execution_count": null,
      "metadata": {
        "id": "x7OtnMFzl_HU"
      },
      "outputs": [],
      "source": [
        "import torch\n",
        "import torchvision\n",
        "import matplotlib.pyplot as plt\n",
        "\n",
        "x = [torchvision.io.read_image(str(i)+\".png\") for i in range(10)]\n",
        "x = torch.stack(x,dim=0).float()/255\n",
        "\n",
        "visu = torchvision.utils.make_grid(x, nrow=5)\n",
        "plt.imshow(visu.permute(1, 2, 0).numpy())\n",
        "plt.show()"
      ]
    },
    {
      "cell_type": "code",
      "execution_count": null,
      "metadata": {
        "id": "z9I5vYlpLRAF"
      },
      "outputs": [],
      "source": [
        "SHARK, PLANE = [2, 3, 4], [403, 404, 405]\n",
        "normalize = torchvision.transforms.Normalize(\n",
        "    mean=[0.485, 0.456, 0.406], std=[0.229, 0.224, 0.225]\n",
        ")\n",
        "resnet = torchvision.models.resnet101(\n",
        "    weights=torchvision.models.ResNet101_Weights.IMAGENET1K_V1\n",
        ").eval()\n",
        "\n",
        "with torch.no_grad():\n",
        "    z = resnet(normalize(x))\n",
        "    _,z = z.max(1)\n",
        "    print(z)"
      ]
    },
    {
      "cell_type": "markdown",
      "metadata": {
        "id": "h8Ti-1roOsJ7"
      },
      "source": [
        "On voit que le réseau classe correctement ces images.\n",
        "\n",
        "## Attaque standard \"white box\"\n",
        "\n",
        "On va maintenant rajouter à ces images un petit bruit \"invisible\" pour l'oeil mais perturbant pour le réseau."
      ]
    },
    {
      "cell_type": "code",
      "execution_count": null,
      "metadata": {
        "id": "idDfEQKFFejn"
      },
      "outputs": [],
      "source": [
        "y = torch.Tensor([403, 405, 404, 405, 404,   4,   3,   3,   3,   2]).long()\n",
        "cefunction = torch.nn.CrossEntropyLoss()\n",
        "attaque = torch.nn.Parameter(torch.zeros(x.shape))\n",
        "optimizer = torch.optim.SGD([attaque],lr=0.005)\n",
        "for i in range(10):\n",
        "  z = resnet(normalize(x+attaque))\n",
        "  ce = cefunction(z,y)\n",
        "  print(i,float(ce))\n",
        "  ce = -ce # on veut MAXIMISER la cross entropy puisqu'on attaque\n",
        "  optimizer.zero_grad()\n",
        "  ce.backward()\n",
        "  attaque.grad = attaque.grad.sign()\n",
        "  optimizer.step()\n",
        "  with torch.no_grad():\n",
        "      # l'attaque doit être invisible\n",
        "      attaque = torch.clamp(attaque, -10./255,+10./255)\n",
        "\n",
        "      # attaque+x doit être entre 0 et 1\n",
        "      lowbound = -x\n",
        "      uppbound = 1-x\n",
        "      attaque = lowbound*(attaque<lowbound).float() + uppbound*(attaque>uppbound).float() + attaque *(attaque>=lowbound).float()*(attaque<=uppbound).float()\n",
        "\n",
        "  attaque = torch.nn.Parameter(attaque.clone())\n",
        "  optimizer = torch.optim.SGD([attaque],lr=0.005)"
      ]
    },
    {
      "cell_type": "markdown",
      "metadata": {
        "id": "ZmMDfE1AR6hx"
      },
      "source": [
        "80% des images \"x+attaque\" sont désormais mal classées ! (et le label de toutes à changer)\n",
        "Pourtant, l'attaque ne se voit pas :"
      ]
    },
    {
      "cell_type": "code",
      "execution_count": null,
      "metadata": {
        "id": "W236tA8DSGHu"
      },
      "outputs": [],
      "source": [
        "with torch.no_grad():\n",
        "    z = resnet(normalize(x))\n",
        "    _,z = z.max(1)\n",
        "    print(z)\n",
        "    z = resnet(normalize(x+attaque))\n",
        "    _,z = z.max(1)\n",
        "    print(z)\n",
        "\n",
        "visu = torch.cat([x,x+attaque],dim=0)\n",
        "visu = torchvision.utils.make_grid(visu, nrow=5)\n",
        "plt.imshow(visu.permute(1, 2, 0).numpy())\n",
        "plt.show()"
      ]
    },
    {
      "cell_type": "markdown",
      "source": [
        "Comment est ce que c'est possible ? Les réseaux ne sont pas du tout lipschitziens..."
      ],
      "metadata": {
        "id": "kR3NAbhIID13"
      }
    },
    {
      "cell_type": "code",
      "source": [
        "with torch.no_grad():\n",
        "    resnet = torchvision.models.resnet101(\n",
        "        weights=torchvision.models.ResNet101_Weights.IMAGENET1K_V1\n",
        "    ).eval()\n",
        "    resnet.fc = torch.nn.Identity()\n",
        "    z = resnet(x)\n",
        "    print(((z[0]-z[5])**2).sum())\n",
        "    z_ = resnet(x+attaque)\n",
        "    print(((z[0]-z_[0])**2).sum())"
      ],
      "metadata": {
        "id": "zVA7QMbyJgOM"
      },
      "execution_count": null,
      "outputs": []
    },
    {
      "cell_type": "markdown",
      "source": [
        "On voit que la représentation de l'image 0 devient presque aussi lointaine à cause de l'attaque que la distance avec l'image 5 !\n",
        "Alors que nous ne voyons même pas la différence !\n",
        "\n",
        "____________________________________________________________________________\n",
        "=> retour aux slides (on revient ici après).\n",
        "____________________________________________________________________________\n",
        "\n",
        "# Attaque standard par patch \"white box\"\n",
        "Maintenant on va regarder la création d'un patch adversarial : pour rappel, le problème des bruits invisibles c'est l'impossibilité de les faire dans le monde physique et l'existance de défense -> deux choses que les patches peuvent bypasser.\n",
        "\n",
        "On va mettre un patch 36x36 en haut à gauche (remarquons que si le patch est juste noir, ça change rien)."
      ],
      "metadata": {
        "id": "k59OChLKKXnf"
      }
    },
    {
      "cell_type": "code",
      "source": [
        "mask = torch.zeros(1,3,224,224)\n",
        "mask[:,:,0:36,0:36] = 1\n",
        "\n",
        "resnet = torchvision.models.resnet101(\n",
        "    weights=torchvision.models.ResNet101_Weights.IMAGENET1K_V1\n",
        ").eval()\n",
        "with torch.no_grad():\n",
        "    z = resnet(normalize(x))\n",
        "    _,z = z.max(1)\n",
        "    print(z)\n",
        "    z = resnet(normalize(x*(1-mask)))\n",
        "    _,z = z.max(1)\n",
        "    print(z)\n",
        "\n",
        "visu = torch.cat([x,x*(1-mask)],dim=0)\n",
        "visu = torchvision.utils.make_grid(visu, nrow=5)\n",
        "plt.imshow(visu.permute(1, 2, 0).numpy())\n",
        "plt.show()"
      ],
      "metadata": {
        "id": "0mdKRmHdS8Fz"
      },
      "execution_count": null,
      "outputs": []
    },
    {
      "cell_type": "markdown",
      "source": [
        "mais s'il est optimisé ?"
      ],
      "metadata": {
        "id": "4sEsZnlaTjJL"
      }
    },
    {
      "cell_type": "code",
      "source": [
        "y = torch.Tensor([403, 405, 404, 405, 404,   4,   3,   3,   3,   2]).long()\n",
        "cefunction = torch.nn.CrossEntropyLoss()\n",
        "attaque = torch.nn.Parameter(torch.rand(1,3,224,224))\n",
        "optimizer = torch.optim.SGD([attaque],lr=0.1)\n",
        "for i in range(40):\n",
        "  z = resnet(normalize(x*(1-mask)+mask*attaque))\n",
        "  ce = cefunction(z,y)\n",
        "  print(i,float(ce))\n",
        "  ce = -ce # on veut MAXIMISER la cross entropy puisqu'on attaque\n",
        "  optimizer.zero_grad()\n",
        "  ce.backward()\n",
        "  attaque.grad = attaque.grad.sign()\n",
        "  optimizer.step()\n",
        "  with torch.no_grad():\n",
        "      # l'attaque doit être dans le domaine image\n",
        "      attaque = torch.clamp(attaque, 0,1)\n",
        "\n",
        "  attaque = torch.nn.Parameter(attaque.clone())\n",
        "  if i<20:\n",
        "      optimizer = torch.optim.SGD([attaque],lr=0.1)\n",
        "  else:\n",
        "      optimizer = torch.optim.SGD([attaque],lr=0.05)\n",
        "\n",
        "with torch.no_grad():\n",
        "    z = resnet(normalize(x))\n",
        "    _,z = z.max(1)\n",
        "    print(z)\n",
        "    z = resnet(normalize(x*(1-mask) + attaque*mask))\n",
        "    _,z = z.max(1)\n",
        "    print(z)\n",
        "\n",
        "visu = torch.cat([x,x*(1-mask)+attaque*mask],dim=0)\n",
        "visu = torchvision.utils.make_grid(visu, nrow=5)\n",
        "plt.imshow(visu.permute(1, 2, 0).numpy())\n",
        "plt.show()"
      ],
      "metadata": {
        "id": "az8_ho5lLWbD"
      },
      "execution_count": null,
      "outputs": []
    },
    {
      "cell_type": "markdown",
      "source": [
        "Des images ont vu leur label changé (c'est ici pas 100% mais c'est le MÊME patch pour toutes les images - et il n'est pas vraiment optimisé suffisamment longtemps).\n",
        "\n",
        "## Limites\n",
        "\n",
        "Ici on montre la facilité de faire une attaque **numérique** contre un réseau **naif** et **connu**.\n",
        "Heureusement, la situation est très différente contre un réseau *défendu* ou *inconnu* ou quand l'attaque doit être *physiquement réalisable*.\n",
        "\n",
        "### Réseaux défendus\n",
        "\n",
        "On trouve très peu de réseaux défendus sur internet pour Imagenet (on trouve surtout des réseaux CIFAR et les rares qu'on peut trouver pour Imagenet comme dans le github https://github.com/MadryLab/robustness sont des réseaux custom).\n",
        "Aussi, nous allons abandonnés nos avions/requins et faire des petites expériences sur CIFAR10.\n",
        "\n",
        "Commençons par apprendre un réseau sur CIFAR:"
      ],
      "metadata": {
        "id": "JeoPFyyhldXS"
      }
    },
    {
      "cell_type": "code",
      "source": [
        "import torch\n",
        "import torchvision\n",
        "\n",
        "normalize = torchvision.transforms.Normalize(\n",
        "    mean=[0.485, 0.456, 0.406], std=[0.229, 0.224, 0.225]\n",
        ")\n",
        "transform = torchvision.transforms.Compose([torchvision.transforms.ToTensor(),normalize])\n",
        "trainset = torchvision.datasets.CIFAR10(\n",
        "    root=\"build\",\n",
        "    train=True,\n",
        "    download=True,\n",
        "    transform=transform,\n",
        ")"
      ],
      "metadata": {
        "id": "P1kLcM0QXF6n"
      },
      "execution_count": null,
      "outputs": []
    },
    {
      "cell_type": "code",
      "source": [
        "resnet = torchvision.models.resnet18(\n",
        "    weights=torchvision.models.ResNet18_Weights.IMAGENET1K_V1\n",
        ").eval()\n",
        "resnet.fc = torch.nn.Linear(512,10)\n",
        "\n",
        "trainloader = torch.utils.data.DataLoader(\n",
        "    trainset, batch_size=64, shuffle=True, num_workers=2\n",
        ")\n",
        "cefunction = torch.nn.CrossEntropyLoss()\n",
        "optimizer = torch.optim.Adam(resnet.parameters(), lr=0.0001)\n",
        "meanloss = torch.zeros(50)\n",
        "for i,(x,y) in enumerate(trainloader):\n",
        "    z=resnet(x)\n",
        "    loss = cefunction(z,y)\n",
        "\n",
        "    optimizer.zero_grad()\n",
        "    loss.backward()\n",
        "    optimizer.step()\n",
        "\n",
        "    with torch.no_grad():\n",
        "        meanloss[i%50]=loss.clone()\n",
        "        if i%50==49:\n",
        "          print(float(meanloss.mean()))\n",
        "    if i==1000:\n",
        "        break"
      ],
      "metadata": {
        "id": "MT3aTtf-XI1y"
      },
      "execution_count": null,
      "outputs": []
    },
    {
      "cell_type": "markdown",
      "source": [
        "vérifions que la perfo est pas trop mauvaise même si là on a appris vraiment très très très peu :"
      ],
      "metadata": {
        "id": "HfSHsT0hfx2m"
      }
    },
    {
      "cell_type": "code",
      "source": [
        "testset = torchvision.datasets.CIFAR10(\n",
        "    root=\"build\",\n",
        "    train=False,\n",
        "    download=True,\n",
        "    transform=transform,\n",
        ")\n",
        "testloader = torch.utils.data.DataLoader(\n",
        "    testset, batch_size=500, shuffle=True, num_workers=2\n",
        ")\n",
        "\n",
        "with torch.no_grad():\n",
        "    for x,y in testloader:\n",
        "        z = resnet(x)\n",
        "        _,z = z.max(1)\n",
        "        good = (z==y).float().sum()\n",
        "        print(float(good/5))\n",
        "        break"
      ],
      "metadata": {
        "id": "o-QLjDDLV1u_"
      },
      "execution_count": null,
      "outputs": []
    },
    {
      "cell_type": "markdown",
      "source": [
        "c'est pas \"terrible\" mais ça ira pour la preuve de concept...\n",
        "\n",
        "attaquons 10 images bien classée !"
      ],
      "metadata": {
        "id": "tUVr78-ChjHn"
      }
    },
    {
      "cell_type": "code",
      "source": [
        "I = [i for i in range(500) if y[i]==z[i]]\n",
        "I = I[0:10]\n",
        "y,x=y[I],x[I]\n",
        "#ces 10 là sont bien classées !\n",
        "\n",
        "cefunction = torch.nn.CrossEntropyLoss()\n",
        "attaque = torch.nn.Parameter(torch.zeros(x.shape))\n",
        "optimizer = torch.optim.SGD([attaque],lr=0.005)\n",
        "for i in range(25):\n",
        "  z = resnet(x+attaque)\n",
        "  ce = cefunction(z,y)\n",
        "  print(i,float(ce))\n",
        "  ce = -ce # on veut MAXIMISER la cross entropy puisqu'on attaque\n",
        "  optimizer.zero_grad()\n",
        "  ce.backward()\n",
        "  attaque.grad = attaque.grad.sign()\n",
        "  optimizer.step()\n",
        "  with torch.no_grad():\n",
        "    # l'attaque doit être invisible\n",
        "    attaque = torch.clamp(attaque, -10./255,+10./255)\n",
        "\n",
        "    # attaque+x doit être entre 0 et 1\n",
        "    lowbound = -x\n",
        "    uppbound = 1-x\n",
        "    attaque = lowbound*(attaque<lowbound).float() + uppbound*(attaque>uppbound).float() + attaque *(attaque>=lowbound).float()*(attaque<=uppbound).float()\n",
        "\n",
        "  attaque = torch.nn.Parameter(attaque.clone())\n",
        "  optimizer = torch.optim.SGD([attaque],lr=0.005)\n",
        "\n",
        "with torch.no_grad():\n",
        "  z = resnet(x)\n",
        "  _,z = z.max(1)\n",
        "  print(z)\n",
        "  z = resnet(x+attaque)\n",
        "  _,z = z.max(1)\n",
        "  print(z)\n",
        "\n",
        "visu = torch.cat([x,x+attaque],dim=0)\n",
        "visu = torchvision.utils.make_grid(visu, nrow=5)\n",
        "plt.imshow(visu.permute(1, 2, 0).numpy())\n",
        "plt.show()"
      ],
      "metadata": {
        "collapsed": true,
        "id": "xOFXzOiNhuwO"
      },
      "execution_count": null,
      "outputs": []
    },
    {
      "cell_type": "markdown",
      "source": [
        "Bon même si on est pas à 10/10, on voit que le modèle (pourtant non convergé) est quand même très sensible...\n",
        "\n",
        "maintenant regardons si on apprend un modèle **robuste**."
      ],
      "metadata": {
        "id": "EnTmtd70k34l"
      }
    },
    {
      "cell_type": "code",
      "source": [
        "resnetrobuste = torchvision.models.resnet18(\n",
        "    weights=torchvision.models.ResNet18_Weights.IMAGENET1K_V1\n",
        ").eval()\n",
        "resnetrobuste.fc = torch.nn.Linear(512,10)\n",
        "\n",
        "trainloader = torch.utils.data.DataLoader(\n",
        "    trainset, batch_size=64, shuffle=True, num_workers=2\n",
        ")\n",
        "cefunction = torch.nn.CrossEntropyLoss()\n",
        "optimizer = torch.optim.Adam(resnetrobuste.parameters(), lr=0.0001)\n",
        "meanloss = torch.zeros(50)\n",
        "for i,(x,y) in enumerate(trainloader):\n",
        "    #attack x, then update the weight to deal with the fact that z has been attacked\n",
        "    attaque = torch.nn.Parameter(torch.zeros(x.shape))\n",
        "    attackoptimizer = torch.optim.SGD([attaque],lr=0.001)\n",
        "    for i in range(10):\n",
        "      z = resnet(x+attaque)\n",
        "      ce = cefunction(z,y)\n",
        "      print(i,float(ce))\n",
        "      ce = -ce # on veut MAXIMISER la cross entropy puisqu'on attaque\n",
        "      optimizer.zero_grad()\n",
        "      ce.backward()\n",
        "      attaque.grad = attaque.grad.sign()\n",
        "      optimizer.step()\n",
        "\n",
        "    #now attaque is frozen\n",
        "    with torch.no_grad():\n",
        "        attaque = torch.Tensor(attaque.clone())\n",
        "\n",
        "    if i>200:\n",
        "        z = resnetrobuste(x+attaque)\n",
        "    else:\n",
        "        z = resnetrobuste(x)\n",
        "    loss = cefunction(z,y)\n",
        "\n",
        "    optimizer.zero_grad()\n",
        "    loss.backward()\n",
        "    optimizer.step()\n",
        "\n",
        "    with torch.no_grad():\n",
        "        meanloss[i%50]=loss.clone()\n",
        "        if i%50==49:\n",
        "          print(float(meanloss.mean()))\n",
        "    if i==1000:\n",
        "        break"
      ],
      "metadata": {
        "id": "8m0QzqYwmoAy"
      },
      "execution_count": null,
      "outputs": []
    }
  ],
  "metadata": {
    "colab": {
      "provenance": [],
      "authorship_tag": "ABX9TyPdQsdzlbiM0tMuTG5RT3w7",
      "include_colab_link": true
    },
    "kernelspec": {
      "display_name": "Python 3",
      "name": "python3"
    },
    "language_info": {
      "name": "python"
    }
  },
  "nbformat": 4,
  "nbformat_minor": 0
}