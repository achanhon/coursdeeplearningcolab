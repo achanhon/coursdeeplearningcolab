{
  "nbformat": 4,
  "nbformat_minor": 0,
  "metadata": {
    "colab": {
      "provenance": [],
      "authorship_tag": "ABX9TyNYQ17L7k9l2/qn8ObaXSKD",
      "include_colab_link": true
    },
    "kernelspec": {
      "name": "python3",
      "display_name": "Python 3"
    },
    "language_info": {
      "name": "python"
    }
  },
  "cells": [
    {
      "cell_type": "markdown",
      "metadata": {
        "id": "view-in-github",
        "colab_type": "text"
      },
      "source": [
        "<a href=\"https://colab.research.google.com/github/achanhon/coursdeeplearningcolab/blob/master/TP_ADVERSAIRE.ipynb\" target=\"_parent\"><img src=\"https://colab.research.google.com/assets/colab-badge.svg\" alt=\"Open In Colab\"/></a>"
      ]
    },
    {
      "cell_type": "markdown",
      "source": [
        "#deep learning sous attaque adversaire\n",
        "\n",
        "L'objet de ce TP est de démontrer\n",
        "- la faciliter de produire des attaques adversaires \"white box\" sur des réseaux naifs quelles soient invisibles ou par patch\n",
        "- mais que cela est beaucoup plus dur sur un réseau robustifier (cas invisible)\n",
        "- ou encore qu'il est beaucoup plus difficile de produire des attaques \"transferable\"\n",
        "\n",
        "### generalité\n",
        "\n",
        "Commençons par prendre en main un simple code d'inférence."
      ],
      "metadata": {
        "id": "AZhlLxX-l_5m"
      }
    },
    {
      "cell_type": "code",
      "execution_count": null,
      "metadata": {
        "id": "x7OtnMFzl_HU"
      },
      "outputs": [],
      "source": []
    }
  ]
}