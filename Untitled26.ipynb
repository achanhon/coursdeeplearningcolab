{
  "nbformat": 4,
  "nbformat_minor": 0,
  "metadata": {
    "colab": {
      "provenance": [],
      "authorship_tag": "ABX9TyNlAjUY+n+nY37sJrL7FT0T",
      "include_colab_link": true
    },
    "kernelspec": {
      "name": "python3",
      "display_name": "Python 3"
    },
    "language_info": {
      "name": "python"
    }
  },
  "cells": [
    {
      "cell_type": "markdown",
      "metadata": {
        "id": "view-in-github",
        "colab_type": "text"
      },
      "source": [
        "<a href=\"https://colab.research.google.com/github/achanhon/coursdeeplearningcolab/blob/master/Untitled26.ipynb\" target=\"_parent\"><img src=\"https://colab.research.google.com/assets/colab-badge.svg\" alt=\"Open In Colab\"/></a>"
      ]
    },
    {
      "cell_type": "code",
      "execution_count": null,
      "metadata": {
        "id": "o3PK7CLXiLh5"
      },
      "outputs": [],
      "source": [
        "import torch\n",
        "class Game:\n",
        "  def __init__(self,other=None):\n",
        "    if other is None:\n",
        "      self.t = 0\n",
        "      self.f=False\n",
        "      self.p = (1,0)\n",
        "      self.road = (torch.rand(3,100)<0.05).half()\n",
        "      self.road[1][0]=0\n",
        "    else:\n",
        "      self.p,self.t,self.f,self.road = other\n",
        "\n",
        "  def copy(self):\n",
        "    return Game((self.p,self.t,self.f,self.road))\n",
        "\n",
        "  def getVisibleState(self):\n",
        "    assert not self.f, print(\"get state of a final state\")\n",
        "    return (self.position[0],self.position[1]-self.t), self.road[:,t:t+7]\n",
        "\n",
        "  def possibleAction(self,dr,dc):\n",
        "    if self.p[0]==0 and dr==-1:\n",
        "      return False\n",
        "    if self.p[0]==2 and dr==1:\n",
        "      return False\n",
        "\n",
        "  def update(self,action):\n",
        "\n",
        "\n"
      ]
    }
  ]
}