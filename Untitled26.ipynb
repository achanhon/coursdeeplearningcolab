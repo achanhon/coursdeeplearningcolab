{
  "nbformat": 4,
  "nbformat_minor": 0,
  "metadata": {
    "colab": {
      "provenance": [],
      "authorship_tag": "ABX9TyOiZWF0HObP8WvRUYr/D8DR",
      "include_colab_link": true
    },
    "kernelspec": {
      "name": "python3",
      "display_name": "Python 3"
    },
    "language_info": {
      "name": "python"
    }
  },
  "cells": [
    {
      "cell_type": "markdown",
      "metadata": {
        "id": "view-in-github",
        "colab_type": "text"
      },
      "source": [
        "<a href=\"https://colab.research.google.com/github/achanhon/coursdeeplearningcolab/blob/master/Untitled26.ipynb\" target=\"_parent\"><img src=\"https://colab.research.google.com/assets/colab-badge.svg\" alt=\"Open In Colab\"/></a>"
      ]
    },
    {
      "cell_type": "code",
      "execution_count": null,
      "metadata": {
        "id": "o3PK7CLXiLh5"
      },
      "outputs": [],
      "source": [
        "import torch\n",
        "class Game:\n",
        "  def __init__(self,other=None):\n",
        "    self.A = [(0,1),(-1,1),(1,1),(0,0),(0,2)]\n",
        "    if other is None:\n",
        "      self.t = 0\n",
        "      self.f=False\n",
        "      self.p = (1,0)\n",
        "      self.road = (torch.rand(3,100)<0.05).half()\n",
        "      self.road[1][0]=0\n",
        "    else:\n",
        "      self.p,self.t,self.f,self.road = other\n",
        "\n",
        "  def copy(self):\n",
        "    return Game((self.p,self.t,self.f,self.road))\n",
        "\n",
        "  def getVisibleState(self):\n",
        "    assert not self.f, print(\"get state of a final state\")\n",
        "    return (self.position[0],self.position[1]-self.t), self.road[:,t:t+7]\n",
        "\n",
        "  def getVisibleStateString(self):\n",
        "    p,road = self.getVisibleState()\n",
        "    string_parts = []\n",
        "    for r in range(3):\n",
        "      for c in range(7):\n",
        "        if road[r][c]==1:\n",
        "          string_parts.append(\"o\")\n",
        "        else:\n",
        "          string_parts.append(\" \")\n",
        "        if r,c==p[0],p[1]:\n",
        "          string_parts[-1]=\"x\"\n",
        "      string_parts.append(\"\\n\")\n",
        "    return \"----------\".join(string_parts).join(\"----------\")\n",
        "\n",
        "  def possibleAction(self,dr,dc):\n",
        "    if self.p[0]+dr<0:\n",
        "      return False\n",
        "    if self.p[0]+dr>2:\n",
        "      return False\n",
        "    if self.p[1]+dc<t+1:\n",
        "      return False\n",
        "    if self.p[1]+dc>t+5:\n",
        "      return False\n",
        "    return True\n",
        "\n",
        "  def listPossibleActions(self):\n",
        "    return [i for i in range(5) if self.possibleAction(self.A[i][0],self.A[i][1])]\n",
        "\n",
        "  def update(self,a):\n",
        "    assert not self.f, print(\"update a final state\")\n",
        "    dr,dc = self.A[a]\n",
        "    assert self.possibleAction(self,dr,dc), print(\"unacceptable action\")\n",
        "    p = self.p[0]+dr,self.p[1]+dc\n",
        "    if self.road[p[0]][p[1]]==1:\n",
        "      self.final = True\n",
        "      return -100\n",
        "    else:\n",
        "      self.p = p\n",
        "      self.t = t+1\n",
        "      return 1\n"
      ]
    },
    {
      "cell_type": "code",
      "source": [
        "import random\n",
        "\n",
        "print(\"check\")\n",
        "game = Game()\n",
        "for i in range(10):\n",
        "  print(self.getVisibleStateString())\n",
        "  if game.final:\n",
        "    break\n",
        "  a = random.choice(self.listPossibleActions())\n",
        "  print(a)"
      ],
      "metadata": {
        "id": "ybLDPLasrUBs"
      },
      "execution_count": null,
      "outputs": []
    }
  ]
}