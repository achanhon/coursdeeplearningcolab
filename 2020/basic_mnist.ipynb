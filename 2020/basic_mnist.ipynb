{
  "nbformat": 4,
  "nbformat_minor": 0,
  "metadata": {
    "colab": {
      "name": "Untitled6.ipynb",
      "provenance": []
    },
    "kernelspec": {
      "name": "python3",
      "display_name": "Python 3"
    },
    "accelerator": "GPU",
    "widgets": {
      "application/vnd.jupyter.widget-state+json": {
        "f144e53802a540f9a6c8c2cfa63b9411": {
          "model_module": "@jupyter-widgets/controls",
          "model_name": "HBoxModel",
          "model_module_version": "1.5.0",
          "state": {
            "_dom_classes": [],
            "_model_module": "@jupyter-widgets/controls",
            "_model_module_version": "1.5.0",
            "_model_name": "HBoxModel",
            "_view_count": null,
            "_view_module": "@jupyter-widgets/controls",
            "_view_module_version": "1.5.0",
            "_view_name": "HBoxView",
            "box_style": "",
            "children": [
              "IPY_MODEL_ddbeeb06c9444f49b473bd850321f3e5",
              "IPY_MODEL_90c859c5b4d64201ab424321ea235086",
              "IPY_MODEL_816fb1d539c14db4b103dfd63c517b29"
            ],
            "layout": "IPY_MODEL_5ea106a06baa4eaea3486ed52976d055"
          }
        },
        "ddbeeb06c9444f49b473bd850321f3e5": {
          "model_module": "@jupyter-widgets/controls",
          "model_name": "HTMLModel",
          "model_module_version": "1.5.0",
          "state": {
            "_dom_classes": [],
            "_model_module": "@jupyter-widgets/controls",
            "_model_module_version": "1.5.0",
            "_model_name": "HTMLModel",
            "_view_count": null,
            "_view_module": "@jupyter-widgets/controls",
            "_view_module_version": "1.5.0",
            "_view_name": "HTMLView",
            "description": "",
            "description_tooltip": null,
            "layout": "IPY_MODEL_a5b8468fcd684300aba67fc2439aba79",
            "placeholder": "​",
            "style": "IPY_MODEL_3ed5f04a9a03479b833e34dea2097098",
            "value": "100%"
          }
        },
        "90c859c5b4d64201ab424321ea235086": {
          "model_module": "@jupyter-widgets/controls",
          "model_name": "FloatProgressModel",
          "model_module_version": "1.5.0",
          "state": {
            "_dom_classes": [],
            "_model_module": "@jupyter-widgets/controls",
            "_model_module_version": "1.5.0",
            "_model_name": "FloatProgressModel",
            "_view_count": null,
            "_view_module": "@jupyter-widgets/controls",
            "_view_module_version": "1.5.0",
            "_view_name": "ProgressView",
            "bar_style": "success",
            "description": "",
            "description_tooltip": null,
            "layout": "IPY_MODEL_043c5c25afe04fbd97fe52c081546797",
            "max": 9912422,
            "min": 0,
            "orientation": "horizontal",
            "style": "IPY_MODEL_8c0cf83e139a4511b604bf246a0a2108",
            "value": 9912422
          }
        },
        "816fb1d539c14db4b103dfd63c517b29": {
          "model_module": "@jupyter-widgets/controls",
          "model_name": "HTMLModel",
          "model_module_version": "1.5.0",
          "state": {
            "_dom_classes": [],
            "_model_module": "@jupyter-widgets/controls",
            "_model_module_version": "1.5.0",
            "_model_name": "HTMLModel",
            "_view_count": null,
            "_view_module": "@jupyter-widgets/controls",
            "_view_module_version": "1.5.0",
            "_view_name": "HTMLView",
            "description": "",
            "description_tooltip": null,
            "layout": "IPY_MODEL_8ae6549b05fd43eba933a89eab9b658f",
            "placeholder": "​",
            "style": "IPY_MODEL_99783ba5838b42b6ba220e9129f9cb78",
            "value": " 9912422/9912422 [00:00&lt;00:00, 25290541.28it/s]"
          }
        },
        "5ea106a06baa4eaea3486ed52976d055": {
          "model_module": "@jupyter-widgets/base",
          "model_name": "LayoutModel",
          "model_module_version": "1.2.0",
          "state": {
            "_model_module": "@jupyter-widgets/base",
            "_model_module_version": "1.2.0",
            "_model_name": "LayoutModel",
            "_view_count": null,
            "_view_module": "@jupyter-widgets/base",
            "_view_module_version": "1.2.0",
            "_view_name": "LayoutView",
            "align_content": null,
            "align_items": null,
            "align_self": null,
            "border": null,
            "bottom": null,
            "display": null,
            "flex": null,
            "flex_flow": null,
            "grid_area": null,
            "grid_auto_columns": null,
            "grid_auto_flow": null,
            "grid_auto_rows": null,
            "grid_column": null,
            "grid_gap": null,
            "grid_row": null,
            "grid_template_areas": null,
            "grid_template_columns": null,
            "grid_template_rows": null,
            "height": null,
            "justify_content": null,
            "justify_items": null,
            "left": null,
            "margin": null,
            "max_height": null,
            "max_width": null,
            "min_height": null,
            "min_width": null,
            "object_fit": null,
            "object_position": null,
            "order": null,
            "overflow": null,
            "overflow_x": null,
            "overflow_y": null,
            "padding": null,
            "right": null,
            "top": null,
            "visibility": null,
            "width": null
          }
        },
        "a5b8468fcd684300aba67fc2439aba79": {
          "model_module": "@jupyter-widgets/base",
          "model_name": "LayoutModel",
          "model_module_version": "1.2.0",
          "state": {
            "_model_module": "@jupyter-widgets/base",
            "_model_module_version": "1.2.0",
            "_model_name": "LayoutModel",
            "_view_count": null,
            "_view_module": "@jupyter-widgets/base",
            "_view_module_version": "1.2.0",
            "_view_name": "LayoutView",
            "align_content": null,
            "align_items": null,
            "align_self": null,
            "border": null,
            "bottom": null,
            "display": null,
            "flex": null,
            "flex_flow": null,
            "grid_area": null,
            "grid_auto_columns": null,
            "grid_auto_flow": null,
            "grid_auto_rows": null,
            "grid_column": null,
            "grid_gap": null,
            "grid_row": null,
            "grid_template_areas": null,
            "grid_template_columns": null,
            "grid_template_rows": null,
            "height": null,
            "justify_content": null,
            "justify_items": null,
            "left": null,
            "margin": null,
            "max_height": null,
            "max_width": null,
            "min_height": null,
            "min_width": null,
            "object_fit": null,
            "object_position": null,
            "order": null,
            "overflow": null,
            "overflow_x": null,
            "overflow_y": null,
            "padding": null,
            "right": null,
            "top": null,
            "visibility": null,
            "width": null
          }
        },
        "3ed5f04a9a03479b833e34dea2097098": {
          "model_module": "@jupyter-widgets/controls",
          "model_name": "DescriptionStyleModel",
          "model_module_version": "1.5.0",
          "state": {
            "_model_module": "@jupyter-widgets/controls",
            "_model_module_version": "1.5.0",
            "_model_name": "DescriptionStyleModel",
            "_view_count": null,
            "_view_module": "@jupyter-widgets/base",
            "_view_module_version": "1.2.0",
            "_view_name": "StyleView",
            "description_width": ""
          }
        },
        "043c5c25afe04fbd97fe52c081546797": {
          "model_module": "@jupyter-widgets/base",
          "model_name": "LayoutModel",
          "model_module_version": "1.2.0",
          "state": {
            "_model_module": "@jupyter-widgets/base",
            "_model_module_version": "1.2.0",
            "_model_name": "LayoutModel",
            "_view_count": null,
            "_view_module": "@jupyter-widgets/base",
            "_view_module_version": "1.2.0",
            "_view_name": "LayoutView",
            "align_content": null,
            "align_items": null,
            "align_self": null,
            "border": null,
            "bottom": null,
            "display": null,
            "flex": null,
            "flex_flow": null,
            "grid_area": null,
            "grid_auto_columns": null,
            "grid_auto_flow": null,
            "grid_auto_rows": null,
            "grid_column": null,
            "grid_gap": null,
            "grid_row": null,
            "grid_template_areas": null,
            "grid_template_columns": null,
            "grid_template_rows": null,
            "height": null,
            "justify_content": null,
            "justify_items": null,
            "left": null,
            "margin": null,
            "max_height": null,
            "max_width": null,
            "min_height": null,
            "min_width": null,
            "object_fit": null,
            "object_position": null,
            "order": null,
            "overflow": null,
            "overflow_x": null,
            "overflow_y": null,
            "padding": null,
            "right": null,
            "top": null,
            "visibility": null,
            "width": null
          }
        },
        "8c0cf83e139a4511b604bf246a0a2108": {
          "model_module": "@jupyter-widgets/controls",
          "model_name": "ProgressStyleModel",
          "model_module_version": "1.5.0",
          "state": {
            "_model_module": "@jupyter-widgets/controls",
            "_model_module_version": "1.5.0",
            "_model_name": "ProgressStyleModel",
            "_view_count": null,
            "_view_module": "@jupyter-widgets/base",
            "_view_module_version": "1.2.0",
            "_view_name": "StyleView",
            "bar_color": null,
            "description_width": ""
          }
        },
        "8ae6549b05fd43eba933a89eab9b658f": {
          "model_module": "@jupyter-widgets/base",
          "model_name": "LayoutModel",
          "model_module_version": "1.2.0",
          "state": {
            "_model_module": "@jupyter-widgets/base",
            "_model_module_version": "1.2.0",
            "_model_name": "LayoutModel",
            "_view_count": null,
            "_view_module": "@jupyter-widgets/base",
            "_view_module_version": "1.2.0",
            "_view_name": "LayoutView",
            "align_content": null,
            "align_items": null,
            "align_self": null,
            "border": null,
            "bottom": null,
            "display": null,
            "flex": null,
            "flex_flow": null,
            "grid_area": null,
            "grid_auto_columns": null,
            "grid_auto_flow": null,
            "grid_auto_rows": null,
            "grid_column": null,
            "grid_gap": null,
            "grid_row": null,
            "grid_template_areas": null,
            "grid_template_columns": null,
            "grid_template_rows": null,
            "height": null,
            "justify_content": null,
            "justify_items": null,
            "left": null,
            "margin": null,
            "max_height": null,
            "max_width": null,
            "min_height": null,
            "min_width": null,
            "object_fit": null,
            "object_position": null,
            "order": null,
            "overflow": null,
            "overflow_x": null,
            "overflow_y": null,
            "padding": null,
            "right": null,
            "top": null,
            "visibility": null,
            "width": null
          }
        },
        "99783ba5838b42b6ba220e9129f9cb78": {
          "model_module": "@jupyter-widgets/controls",
          "model_name": "DescriptionStyleModel",
          "model_module_version": "1.5.0",
          "state": {
            "_model_module": "@jupyter-widgets/controls",
            "_model_module_version": "1.5.0",
            "_model_name": "DescriptionStyleModel",
            "_view_count": null,
            "_view_module": "@jupyter-widgets/base",
            "_view_module_version": "1.2.0",
            "_view_name": "StyleView",
            "description_width": ""
          }
        },
        "08ad35ad6cb44d85a4392bfb9a33ba69": {
          "model_module": "@jupyter-widgets/controls",
          "model_name": "HBoxModel",
          "model_module_version": "1.5.0",
          "state": {
            "_dom_classes": [],
            "_model_module": "@jupyter-widgets/controls",
            "_model_module_version": "1.5.0",
            "_model_name": "HBoxModel",
            "_view_count": null,
            "_view_module": "@jupyter-widgets/controls",
            "_view_module_version": "1.5.0",
            "_view_name": "HBoxView",
            "box_style": "",
            "children": [
              "IPY_MODEL_7f23dee1d9834eebb7b9bd174aa1c700",
              "IPY_MODEL_d7a5369d62864106976a4d596dac0de7",
              "IPY_MODEL_afcab7f9163548828f4da0c4ece00983"
            ],
            "layout": "IPY_MODEL_21c5d76c5e12490f9f9ab2726f9bcae7"
          }
        },
        "7f23dee1d9834eebb7b9bd174aa1c700": {
          "model_module": "@jupyter-widgets/controls",
          "model_name": "HTMLModel",
          "model_module_version": "1.5.0",
          "state": {
            "_dom_classes": [],
            "_model_module": "@jupyter-widgets/controls",
            "_model_module_version": "1.5.0",
            "_model_name": "HTMLModel",
            "_view_count": null,
            "_view_module": "@jupyter-widgets/controls",
            "_view_module_version": "1.5.0",
            "_view_name": "HTMLView",
            "description": "",
            "description_tooltip": null,
            "layout": "IPY_MODEL_3738f0ee71bf4548bd4452e6624641c6",
            "placeholder": "​",
            "style": "IPY_MODEL_fef8d9deecad4f8099212fbe346d8dda",
            "value": "100%"
          }
        },
        "d7a5369d62864106976a4d596dac0de7": {
          "model_module": "@jupyter-widgets/controls",
          "model_name": "FloatProgressModel",
          "model_module_version": "1.5.0",
          "state": {
            "_dom_classes": [],
            "_model_module": "@jupyter-widgets/controls",
            "_model_module_version": "1.5.0",
            "_model_name": "FloatProgressModel",
            "_view_count": null,
            "_view_module": "@jupyter-widgets/controls",
            "_view_module_version": "1.5.0",
            "_view_name": "ProgressView",
            "bar_style": "success",
            "description": "",
            "description_tooltip": null,
            "layout": "IPY_MODEL_ca95371354f04a8290a7796a1a9d71c7",
            "max": 28881,
            "min": 0,
            "orientation": "horizontal",
            "style": "IPY_MODEL_0acee6f1b7d240d1ae2e0e4558703e5e",
            "value": 28881
          }
        },
        "afcab7f9163548828f4da0c4ece00983": {
          "model_module": "@jupyter-widgets/controls",
          "model_name": "HTMLModel",
          "model_module_version": "1.5.0",
          "state": {
            "_dom_classes": [],
            "_model_module": "@jupyter-widgets/controls",
            "_model_module_version": "1.5.0",
            "_model_name": "HTMLModel",
            "_view_count": null,
            "_view_module": "@jupyter-widgets/controls",
            "_view_module_version": "1.5.0",
            "_view_name": "HTMLView",
            "description": "",
            "description_tooltip": null,
            "layout": "IPY_MODEL_3343e326e9b045508c93df5cde0d33ca",
            "placeholder": "​",
            "style": "IPY_MODEL_09ca2c46f9da4da6be286bc719a8e7af",
            "value": " 28881/28881 [00:00&lt;00:00, 790269.66it/s]"
          }
        },
        "21c5d76c5e12490f9f9ab2726f9bcae7": {
          "model_module": "@jupyter-widgets/base",
          "model_name": "LayoutModel",
          "model_module_version": "1.2.0",
          "state": {
            "_model_module": "@jupyter-widgets/base",
            "_model_module_version": "1.2.0",
            "_model_name": "LayoutModel",
            "_view_count": null,
            "_view_module": "@jupyter-widgets/base",
            "_view_module_version": "1.2.0",
            "_view_name": "LayoutView",
            "align_content": null,
            "align_items": null,
            "align_self": null,
            "border": null,
            "bottom": null,
            "display": null,
            "flex": null,
            "flex_flow": null,
            "grid_area": null,
            "grid_auto_columns": null,
            "grid_auto_flow": null,
            "grid_auto_rows": null,
            "grid_column": null,
            "grid_gap": null,
            "grid_row": null,
            "grid_template_areas": null,
            "grid_template_columns": null,
            "grid_template_rows": null,
            "height": null,
            "justify_content": null,
            "justify_items": null,
            "left": null,
            "margin": null,
            "max_height": null,
            "max_width": null,
            "min_height": null,
            "min_width": null,
            "object_fit": null,
            "object_position": null,
            "order": null,
            "overflow": null,
            "overflow_x": null,
            "overflow_y": null,
            "padding": null,
            "right": null,
            "top": null,
            "visibility": null,
            "width": null
          }
        },
        "3738f0ee71bf4548bd4452e6624641c6": {
          "model_module": "@jupyter-widgets/base",
          "model_name": "LayoutModel",
          "model_module_version": "1.2.0",
          "state": {
            "_model_module": "@jupyter-widgets/base",
            "_model_module_version": "1.2.0",
            "_model_name": "LayoutModel",
            "_view_count": null,
            "_view_module": "@jupyter-widgets/base",
            "_view_module_version": "1.2.0",
            "_view_name": "LayoutView",
            "align_content": null,
            "align_items": null,
            "align_self": null,
            "border": null,
            "bottom": null,
            "display": null,
            "flex": null,
            "flex_flow": null,
            "grid_area": null,
            "grid_auto_columns": null,
            "grid_auto_flow": null,
            "grid_auto_rows": null,
            "grid_column": null,
            "grid_gap": null,
            "grid_row": null,
            "grid_template_areas": null,
            "grid_template_columns": null,
            "grid_template_rows": null,
            "height": null,
            "justify_content": null,
            "justify_items": null,
            "left": null,
            "margin": null,
            "max_height": null,
            "max_width": null,
            "min_height": null,
            "min_width": null,
            "object_fit": null,
            "object_position": null,
            "order": null,
            "overflow": null,
            "overflow_x": null,
            "overflow_y": null,
            "padding": null,
            "right": null,
            "top": null,
            "visibility": null,
            "width": null
          }
        },
        "fef8d9deecad4f8099212fbe346d8dda": {
          "model_module": "@jupyter-widgets/controls",
          "model_name": "DescriptionStyleModel",
          "model_module_version": "1.5.0",
          "state": {
            "_model_module": "@jupyter-widgets/controls",
            "_model_module_version": "1.5.0",
            "_model_name": "DescriptionStyleModel",
            "_view_count": null,
            "_view_module": "@jupyter-widgets/base",
            "_view_module_version": "1.2.0",
            "_view_name": "StyleView",
            "description_width": ""
          }
        },
        "ca95371354f04a8290a7796a1a9d71c7": {
          "model_module": "@jupyter-widgets/base",
          "model_name": "LayoutModel",
          "model_module_version": "1.2.0",
          "state": {
            "_model_module": "@jupyter-widgets/base",
            "_model_module_version": "1.2.0",
            "_model_name": "LayoutModel",
            "_view_count": null,
            "_view_module": "@jupyter-widgets/base",
            "_view_module_version": "1.2.0",
            "_view_name": "LayoutView",
            "align_content": null,
            "align_items": null,
            "align_self": null,
            "border": null,
            "bottom": null,
            "display": null,
            "flex": null,
            "flex_flow": null,
            "grid_area": null,
            "grid_auto_columns": null,
            "grid_auto_flow": null,
            "grid_auto_rows": null,
            "grid_column": null,
            "grid_gap": null,
            "grid_row": null,
            "grid_template_areas": null,
            "grid_template_columns": null,
            "grid_template_rows": null,
            "height": null,
            "justify_content": null,
            "justify_items": null,
            "left": null,
            "margin": null,
            "max_height": null,
            "max_width": null,
            "min_height": null,
            "min_width": null,
            "object_fit": null,
            "object_position": null,
            "order": null,
            "overflow": null,
            "overflow_x": null,
            "overflow_y": null,
            "padding": null,
            "right": null,
            "top": null,
            "visibility": null,
            "width": null
          }
        },
        "0acee6f1b7d240d1ae2e0e4558703e5e": {
          "model_module": "@jupyter-widgets/controls",
          "model_name": "ProgressStyleModel",
          "model_module_version": "1.5.0",
          "state": {
            "_model_module": "@jupyter-widgets/controls",
            "_model_module_version": "1.5.0",
            "_model_name": "ProgressStyleModel",
            "_view_count": null,
            "_view_module": "@jupyter-widgets/base",
            "_view_module_version": "1.2.0",
            "_view_name": "StyleView",
            "bar_color": null,
            "description_width": ""
          }
        },
        "3343e326e9b045508c93df5cde0d33ca": {
          "model_module": "@jupyter-widgets/base",
          "model_name": "LayoutModel",
          "model_module_version": "1.2.0",
          "state": {
            "_model_module": "@jupyter-widgets/base",
            "_model_module_version": "1.2.0",
            "_model_name": "LayoutModel",
            "_view_count": null,
            "_view_module": "@jupyter-widgets/base",
            "_view_module_version": "1.2.0",
            "_view_name": "LayoutView",
            "align_content": null,
            "align_items": null,
            "align_self": null,
            "border": null,
            "bottom": null,
            "display": null,
            "flex": null,
            "flex_flow": null,
            "grid_area": null,
            "grid_auto_columns": null,
            "grid_auto_flow": null,
            "grid_auto_rows": null,
            "grid_column": null,
            "grid_gap": null,
            "grid_row": null,
            "grid_template_areas": null,
            "grid_template_columns": null,
            "grid_template_rows": null,
            "height": null,
            "justify_content": null,
            "justify_items": null,
            "left": null,
            "margin": null,
            "max_height": null,
            "max_width": null,
            "min_height": null,
            "min_width": null,
            "object_fit": null,
            "object_position": null,
            "order": null,
            "overflow": null,
            "overflow_x": null,
            "overflow_y": null,
            "padding": null,
            "right": null,
            "top": null,
            "visibility": null,
            "width": null
          }
        },
        "09ca2c46f9da4da6be286bc719a8e7af": {
          "model_module": "@jupyter-widgets/controls",
          "model_name": "DescriptionStyleModel",
          "model_module_version": "1.5.0",
          "state": {
            "_model_module": "@jupyter-widgets/controls",
            "_model_module_version": "1.5.0",
            "_model_name": "DescriptionStyleModel",
            "_view_count": null,
            "_view_module": "@jupyter-widgets/base",
            "_view_module_version": "1.2.0",
            "_view_name": "StyleView",
            "description_width": ""
          }
        },
        "80296f466fe04e1bbb4384d2f3be81ba": {
          "model_module": "@jupyter-widgets/controls",
          "model_name": "HBoxModel",
          "model_module_version": "1.5.0",
          "state": {
            "_dom_classes": [],
            "_model_module": "@jupyter-widgets/controls",
            "_model_module_version": "1.5.0",
            "_model_name": "HBoxModel",
            "_view_count": null,
            "_view_module": "@jupyter-widgets/controls",
            "_view_module_version": "1.5.0",
            "_view_name": "HBoxView",
            "box_style": "",
            "children": [
              "IPY_MODEL_dcb56b7bf5c641519786989a8cdf9bef",
              "IPY_MODEL_18d7d452a9cc4d519b9f7979e2c85907",
              "IPY_MODEL_1e78b2b6fb614911919a88772663de64"
            ],
            "layout": "IPY_MODEL_1f24522109a14e7e98eaf95c8eb2a326"
          }
        },
        "dcb56b7bf5c641519786989a8cdf9bef": {
          "model_module": "@jupyter-widgets/controls",
          "model_name": "HTMLModel",
          "model_module_version": "1.5.0",
          "state": {
            "_dom_classes": [],
            "_model_module": "@jupyter-widgets/controls",
            "_model_module_version": "1.5.0",
            "_model_name": "HTMLModel",
            "_view_count": null,
            "_view_module": "@jupyter-widgets/controls",
            "_view_module_version": "1.5.0",
            "_view_name": "HTMLView",
            "description": "",
            "description_tooltip": null,
            "layout": "IPY_MODEL_556dadddf88e4bff83e55d6176c525e3",
            "placeholder": "​",
            "style": "IPY_MODEL_37a4076bab804d10bf8cb6974acf1395",
            "value": "100%"
          }
        },
        "18d7d452a9cc4d519b9f7979e2c85907": {
          "model_module": "@jupyter-widgets/controls",
          "model_name": "FloatProgressModel",
          "model_module_version": "1.5.0",
          "state": {
            "_dom_classes": [],
            "_model_module": "@jupyter-widgets/controls",
            "_model_module_version": "1.5.0",
            "_model_name": "FloatProgressModel",
            "_view_count": null,
            "_view_module": "@jupyter-widgets/controls",
            "_view_module_version": "1.5.0",
            "_view_name": "ProgressView",
            "bar_style": "success",
            "description": "",
            "description_tooltip": null,
            "layout": "IPY_MODEL_294dcd4ea6ee456c80998978f83b5195",
            "max": 1648877,
            "min": 0,
            "orientation": "horizontal",
            "style": "IPY_MODEL_1fa767cfcca942fab09415d62a054075",
            "value": 1648877
          }
        },
        "1e78b2b6fb614911919a88772663de64": {
          "model_module": "@jupyter-widgets/controls",
          "model_name": "HTMLModel",
          "model_module_version": "1.5.0",
          "state": {
            "_dom_classes": [],
            "_model_module": "@jupyter-widgets/controls",
            "_model_module_version": "1.5.0",
            "_model_name": "HTMLModel",
            "_view_count": null,
            "_view_module": "@jupyter-widgets/controls",
            "_view_module_version": "1.5.0",
            "_view_name": "HTMLView",
            "description": "",
            "description_tooltip": null,
            "layout": "IPY_MODEL_e379d2cbfd7546b28056d330e31781ec",
            "placeholder": "​",
            "style": "IPY_MODEL_f5d972f55d8843c39bda04f980006152",
            "value": " 1648877/1648877 [00:00&lt;00:00, 3452114.22it/s]"
          }
        },
        "1f24522109a14e7e98eaf95c8eb2a326": {
          "model_module": "@jupyter-widgets/base",
          "model_name": "LayoutModel",
          "model_module_version": "1.2.0",
          "state": {
            "_model_module": "@jupyter-widgets/base",
            "_model_module_version": "1.2.0",
            "_model_name": "LayoutModel",
            "_view_count": null,
            "_view_module": "@jupyter-widgets/base",
            "_view_module_version": "1.2.0",
            "_view_name": "LayoutView",
            "align_content": null,
            "align_items": null,
            "align_self": null,
            "border": null,
            "bottom": null,
            "display": null,
            "flex": null,
            "flex_flow": null,
            "grid_area": null,
            "grid_auto_columns": null,
            "grid_auto_flow": null,
            "grid_auto_rows": null,
            "grid_column": null,
            "grid_gap": null,
            "grid_row": null,
            "grid_template_areas": null,
            "grid_template_columns": null,
            "grid_template_rows": null,
            "height": null,
            "justify_content": null,
            "justify_items": null,
            "left": null,
            "margin": null,
            "max_height": null,
            "max_width": null,
            "min_height": null,
            "min_width": null,
            "object_fit": null,
            "object_position": null,
            "order": null,
            "overflow": null,
            "overflow_x": null,
            "overflow_y": null,
            "padding": null,
            "right": null,
            "top": null,
            "visibility": null,
            "width": null
          }
        },
        "556dadddf88e4bff83e55d6176c525e3": {
          "model_module": "@jupyter-widgets/base",
          "model_name": "LayoutModel",
          "model_module_version": "1.2.0",
          "state": {
            "_model_module": "@jupyter-widgets/base",
            "_model_module_version": "1.2.0",
            "_model_name": "LayoutModel",
            "_view_count": null,
            "_view_module": "@jupyter-widgets/base",
            "_view_module_version": "1.2.0",
            "_view_name": "LayoutView",
            "align_content": null,
            "align_items": null,
            "align_self": null,
            "border": null,
            "bottom": null,
            "display": null,
            "flex": null,
            "flex_flow": null,
            "grid_area": null,
            "grid_auto_columns": null,
            "grid_auto_flow": null,
            "grid_auto_rows": null,
            "grid_column": null,
            "grid_gap": null,
            "grid_row": null,
            "grid_template_areas": null,
            "grid_template_columns": null,
            "grid_template_rows": null,
            "height": null,
            "justify_content": null,
            "justify_items": null,
            "left": null,
            "margin": null,
            "max_height": null,
            "max_width": null,
            "min_height": null,
            "min_width": null,
            "object_fit": null,
            "object_position": null,
            "order": null,
            "overflow": null,
            "overflow_x": null,
            "overflow_y": null,
            "padding": null,
            "right": null,
            "top": null,
            "visibility": null,
            "width": null
          }
        },
        "37a4076bab804d10bf8cb6974acf1395": {
          "model_module": "@jupyter-widgets/controls",
          "model_name": "DescriptionStyleModel",
          "model_module_version": "1.5.0",
          "state": {
            "_model_module": "@jupyter-widgets/controls",
            "_model_module_version": "1.5.0",
            "_model_name": "DescriptionStyleModel",
            "_view_count": null,
            "_view_module": "@jupyter-widgets/base",
            "_view_module_version": "1.2.0",
            "_view_name": "StyleView",
            "description_width": ""
          }
        },
        "294dcd4ea6ee456c80998978f83b5195": {
          "model_module": "@jupyter-widgets/base",
          "model_name": "LayoutModel",
          "model_module_version": "1.2.0",
          "state": {
            "_model_module": "@jupyter-widgets/base",
            "_model_module_version": "1.2.0",
            "_model_name": "LayoutModel",
            "_view_count": null,
            "_view_module": "@jupyter-widgets/base",
            "_view_module_version": "1.2.0",
            "_view_name": "LayoutView",
            "align_content": null,
            "align_items": null,
            "align_self": null,
            "border": null,
            "bottom": null,
            "display": null,
            "flex": null,
            "flex_flow": null,
            "grid_area": null,
            "grid_auto_columns": null,
            "grid_auto_flow": null,
            "grid_auto_rows": null,
            "grid_column": null,
            "grid_gap": null,
            "grid_row": null,
            "grid_template_areas": null,
            "grid_template_columns": null,
            "grid_template_rows": null,
            "height": null,
            "justify_content": null,
            "justify_items": null,
            "left": null,
            "margin": null,
            "max_height": null,
            "max_width": null,
            "min_height": null,
            "min_width": null,
            "object_fit": null,
            "object_position": null,
            "order": null,
            "overflow": null,
            "overflow_x": null,
            "overflow_y": null,
            "padding": null,
            "right": null,
            "top": null,
            "visibility": null,
            "width": null
          }
        },
        "1fa767cfcca942fab09415d62a054075": {
          "model_module": "@jupyter-widgets/controls",
          "model_name": "ProgressStyleModel",
          "model_module_version": "1.5.0",
          "state": {
            "_model_module": "@jupyter-widgets/controls",
            "_model_module_version": "1.5.0",
            "_model_name": "ProgressStyleModel",
            "_view_count": null,
            "_view_module": "@jupyter-widgets/base",
            "_view_module_version": "1.2.0",
            "_view_name": "StyleView",
            "bar_color": null,
            "description_width": ""
          }
        },
        "e379d2cbfd7546b28056d330e31781ec": {
          "model_module": "@jupyter-widgets/base",
          "model_name": "LayoutModel",
          "model_module_version": "1.2.0",
          "state": {
            "_model_module": "@jupyter-widgets/base",
            "_model_module_version": "1.2.0",
            "_model_name": "LayoutModel",
            "_view_count": null,
            "_view_module": "@jupyter-widgets/base",
            "_view_module_version": "1.2.0",
            "_view_name": "LayoutView",
            "align_content": null,
            "align_items": null,
            "align_self": null,
            "border": null,
            "bottom": null,
            "display": null,
            "flex": null,
            "flex_flow": null,
            "grid_area": null,
            "grid_auto_columns": null,
            "grid_auto_flow": null,
            "grid_auto_rows": null,
            "grid_column": null,
            "grid_gap": null,
            "grid_row": null,
            "grid_template_areas": null,
            "grid_template_columns": null,
            "grid_template_rows": null,
            "height": null,
            "justify_content": null,
            "justify_items": null,
            "left": null,
            "margin": null,
            "max_height": null,
            "max_width": null,
            "min_height": null,
            "min_width": null,
            "object_fit": null,
            "object_position": null,
            "order": null,
            "overflow": null,
            "overflow_x": null,
            "overflow_y": null,
            "padding": null,
            "right": null,
            "top": null,
            "visibility": null,
            "width": null
          }
        },
        "f5d972f55d8843c39bda04f980006152": {
          "model_module": "@jupyter-widgets/controls",
          "model_name": "DescriptionStyleModel",
          "model_module_version": "1.5.0",
          "state": {
            "_model_module": "@jupyter-widgets/controls",
            "_model_module_version": "1.5.0",
            "_model_name": "DescriptionStyleModel",
            "_view_count": null,
            "_view_module": "@jupyter-widgets/base",
            "_view_module_version": "1.2.0",
            "_view_name": "StyleView",
            "description_width": ""
          }
        },
        "62059d3b11164e1fa30d012b19999cab": {
          "model_module": "@jupyter-widgets/controls",
          "model_name": "HBoxModel",
          "model_module_version": "1.5.0",
          "state": {
            "_dom_classes": [],
            "_model_module": "@jupyter-widgets/controls",
            "_model_module_version": "1.5.0",
            "_model_name": "HBoxModel",
            "_view_count": null,
            "_view_module": "@jupyter-widgets/controls",
            "_view_module_version": "1.5.0",
            "_view_name": "HBoxView",
            "box_style": "",
            "children": [
              "IPY_MODEL_be913cc0192f48f985a102f127f477f3",
              "IPY_MODEL_14e377fe907e4805b152bbbd7ca3dc10",
              "IPY_MODEL_c01b681c293a49bdab33d03a2757f6cb"
            ],
            "layout": "IPY_MODEL_1ca59333d12b486084a03ce59b76ec7d"
          }
        },
        "be913cc0192f48f985a102f127f477f3": {
          "model_module": "@jupyter-widgets/controls",
          "model_name": "HTMLModel",
          "model_module_version": "1.5.0",
          "state": {
            "_dom_classes": [],
            "_model_module": "@jupyter-widgets/controls",
            "_model_module_version": "1.5.0",
            "_model_name": "HTMLModel",
            "_view_count": null,
            "_view_module": "@jupyter-widgets/controls",
            "_view_module_version": "1.5.0",
            "_view_name": "HTMLView",
            "description": "",
            "description_tooltip": null,
            "layout": "IPY_MODEL_e592e9f45d30477fa54e73002271ca15",
            "placeholder": "​",
            "style": "IPY_MODEL_0b3c7632883c4791be687e7a0c6ec137",
            "value": "100%"
          }
        },
        "14e377fe907e4805b152bbbd7ca3dc10": {
          "model_module": "@jupyter-widgets/controls",
          "model_name": "FloatProgressModel",
          "model_module_version": "1.5.0",
          "state": {
            "_dom_classes": [],
            "_model_module": "@jupyter-widgets/controls",
            "_model_module_version": "1.5.0",
            "_model_name": "FloatProgressModel",
            "_view_count": null,
            "_view_module": "@jupyter-widgets/controls",
            "_view_module_version": "1.5.0",
            "_view_name": "ProgressView",
            "bar_style": "success",
            "description": "",
            "description_tooltip": null,
            "layout": "IPY_MODEL_fc6dd522791949daa0186fd6fb2bbe72",
            "max": 4542,
            "min": 0,
            "orientation": "horizontal",
            "style": "IPY_MODEL_847c624a63d9407292bafefcd617fdfe",
            "value": 4542
          }
        },
        "c01b681c293a49bdab33d03a2757f6cb": {
          "model_module": "@jupyter-widgets/controls",
          "model_name": "HTMLModel",
          "model_module_version": "1.5.0",
          "state": {
            "_dom_classes": [],
            "_model_module": "@jupyter-widgets/controls",
            "_model_module_version": "1.5.0",
            "_model_name": "HTMLModel",
            "_view_count": null,
            "_view_module": "@jupyter-widgets/controls",
            "_view_module_version": "1.5.0",
            "_view_name": "HTMLView",
            "description": "",
            "description_tooltip": null,
            "layout": "IPY_MODEL_8080cbe89c094c08977279a2de4ae1f7",
            "placeholder": "​",
            "style": "IPY_MODEL_07c410bc91364cf6b8389904b5b15d69",
            "value": " 4542/4542 [00:00&lt;00:00, 52070.12it/s]"
          }
        },
        "1ca59333d12b486084a03ce59b76ec7d": {
          "model_module": "@jupyter-widgets/base",
          "model_name": "LayoutModel",
          "model_module_version": "1.2.0",
          "state": {
            "_model_module": "@jupyter-widgets/base",
            "_model_module_version": "1.2.0",
            "_model_name": "LayoutModel",
            "_view_count": null,
            "_view_module": "@jupyter-widgets/base",
            "_view_module_version": "1.2.0",
            "_view_name": "LayoutView",
            "align_content": null,
            "align_items": null,
            "align_self": null,
            "border": null,
            "bottom": null,
            "display": null,
            "flex": null,
            "flex_flow": null,
            "grid_area": null,
            "grid_auto_columns": null,
            "grid_auto_flow": null,
            "grid_auto_rows": null,
            "grid_column": null,
            "grid_gap": null,
            "grid_row": null,
            "grid_template_areas": null,
            "grid_template_columns": null,
            "grid_template_rows": null,
            "height": null,
            "justify_content": null,
            "justify_items": null,
            "left": null,
            "margin": null,
            "max_height": null,
            "max_width": null,
            "min_height": null,
            "min_width": null,
            "object_fit": null,
            "object_position": null,
            "order": null,
            "overflow": null,
            "overflow_x": null,
            "overflow_y": null,
            "padding": null,
            "right": null,
            "top": null,
            "visibility": null,
            "width": null
          }
        },
        "e592e9f45d30477fa54e73002271ca15": {
          "model_module": "@jupyter-widgets/base",
          "model_name": "LayoutModel",
          "model_module_version": "1.2.0",
          "state": {
            "_model_module": "@jupyter-widgets/base",
            "_model_module_version": "1.2.0",
            "_model_name": "LayoutModel",
            "_view_count": null,
            "_view_module": "@jupyter-widgets/base",
            "_view_module_version": "1.2.0",
            "_view_name": "LayoutView",
            "align_content": null,
            "align_items": null,
            "align_self": null,
            "border": null,
            "bottom": null,
            "display": null,
            "flex": null,
            "flex_flow": null,
            "grid_area": null,
            "grid_auto_columns": null,
            "grid_auto_flow": null,
            "grid_auto_rows": null,
            "grid_column": null,
            "grid_gap": null,
            "grid_row": null,
            "grid_template_areas": null,
            "grid_template_columns": null,
            "grid_template_rows": null,
            "height": null,
            "justify_content": null,
            "justify_items": null,
            "left": null,
            "margin": null,
            "max_height": null,
            "max_width": null,
            "min_height": null,
            "min_width": null,
            "object_fit": null,
            "object_position": null,
            "order": null,
            "overflow": null,
            "overflow_x": null,
            "overflow_y": null,
            "padding": null,
            "right": null,
            "top": null,
            "visibility": null,
            "width": null
          }
        },
        "0b3c7632883c4791be687e7a0c6ec137": {
          "model_module": "@jupyter-widgets/controls",
          "model_name": "DescriptionStyleModel",
          "model_module_version": "1.5.0",
          "state": {
            "_model_module": "@jupyter-widgets/controls",
            "_model_module_version": "1.5.0",
            "_model_name": "DescriptionStyleModel",
            "_view_count": null,
            "_view_module": "@jupyter-widgets/base",
            "_view_module_version": "1.2.0",
            "_view_name": "StyleView",
            "description_width": ""
          }
        },
        "fc6dd522791949daa0186fd6fb2bbe72": {
          "model_module": "@jupyter-widgets/base",
          "model_name": "LayoutModel",
          "model_module_version": "1.2.0",
          "state": {
            "_model_module": "@jupyter-widgets/base",
            "_model_module_version": "1.2.0",
            "_model_name": "LayoutModel",
            "_view_count": null,
            "_view_module": "@jupyter-widgets/base",
            "_view_module_version": "1.2.0",
            "_view_name": "LayoutView",
            "align_content": null,
            "align_items": null,
            "align_self": null,
            "border": null,
            "bottom": null,
            "display": null,
            "flex": null,
            "flex_flow": null,
            "grid_area": null,
            "grid_auto_columns": null,
            "grid_auto_flow": null,
            "grid_auto_rows": null,
            "grid_column": null,
            "grid_gap": null,
            "grid_row": null,
            "grid_template_areas": null,
            "grid_template_columns": null,
            "grid_template_rows": null,
            "height": null,
            "justify_content": null,
            "justify_items": null,
            "left": null,
            "margin": null,
            "max_height": null,
            "max_width": null,
            "min_height": null,
            "min_width": null,
            "object_fit": null,
            "object_position": null,
            "order": null,
            "overflow": null,
            "overflow_x": null,
            "overflow_y": null,
            "padding": null,
            "right": null,
            "top": null,
            "visibility": null,
            "width": null
          }
        },
        "847c624a63d9407292bafefcd617fdfe": {
          "model_module": "@jupyter-widgets/controls",
          "model_name": "ProgressStyleModel",
          "model_module_version": "1.5.0",
          "state": {
            "_model_module": "@jupyter-widgets/controls",
            "_model_module_version": "1.5.0",
            "_model_name": "ProgressStyleModel",
            "_view_count": null,
            "_view_module": "@jupyter-widgets/base",
            "_view_module_version": "1.2.0",
            "_view_name": "StyleView",
            "bar_color": null,
            "description_width": ""
          }
        },
        "8080cbe89c094c08977279a2de4ae1f7": {
          "model_module": "@jupyter-widgets/base",
          "model_name": "LayoutModel",
          "model_module_version": "1.2.0",
          "state": {
            "_model_module": "@jupyter-widgets/base",
            "_model_module_version": "1.2.0",
            "_model_name": "LayoutModel",
            "_view_count": null,
            "_view_module": "@jupyter-widgets/base",
            "_view_module_version": "1.2.0",
            "_view_name": "LayoutView",
            "align_content": null,
            "align_items": null,
            "align_self": null,
            "border": null,
            "bottom": null,
            "display": null,
            "flex": null,
            "flex_flow": null,
            "grid_area": null,
            "grid_auto_columns": null,
            "grid_auto_flow": null,
            "grid_auto_rows": null,
            "grid_column": null,
            "grid_gap": null,
            "grid_row": null,
            "grid_template_areas": null,
            "grid_template_columns": null,
            "grid_template_rows": null,
            "height": null,
            "justify_content": null,
            "justify_items": null,
            "left": null,
            "margin": null,
            "max_height": null,
            "max_width": null,
            "min_height": null,
            "min_width": null,
            "object_fit": null,
            "object_position": null,
            "order": null,
            "overflow": null,
            "overflow_x": null,
            "overflow_y": null,
            "padding": null,
            "right": null,
            "top": null,
            "visibility": null,
            "width": null
          }
        },
        "07c410bc91364cf6b8389904b5b15d69": {
          "model_module": "@jupyter-widgets/controls",
          "model_name": "DescriptionStyleModel",
          "model_module_version": "1.5.0",
          "state": {
            "_model_module": "@jupyter-widgets/controls",
            "_model_module_version": "1.5.0",
            "_model_name": "DescriptionStyleModel",
            "_view_count": null,
            "_view_module": "@jupyter-widgets/base",
            "_view_module_version": "1.2.0",
            "_view_name": "StyleView",
            "description_width": ""
          }
        }
      }
    }
  },
  "cells": [
    {
      "cell_type": "markdown",
      "metadata": {
        "id": "UTUF2gpAcOr5"
      },
      "source": [
        "# TP deep learning\n",
        "\n",
        "L'objectif de ce tp est de manipuler les algorithmes de deep learning.\n",
        "\n",
        "Cependant, il faut bien voir que tuner un réseau est une tache complexe principalement à cause du temps nécessaire pour réaliser un apprentissage...\n",
        "\n",
        "Aussi, l'axe choisi est d'insister sur la différence MLP vs CNN à travers des codes simples d'apprentissage.\n"
      ]
    },
    {
      "cell_type": "markdown",
      "metadata": {
        "id": "UGNwRuVjdE5W"
      },
      "source": [
        "## MLP\n",
        "\n",
        "Tout d'abord, il existe seulement **2** grandes bibliothèques pour faire du CNN : pytorch (facebook) ou tensorflow (google)... Dans ce TP ce sera pytorch.\n",
        "\n",
        "Techniquement la partie MLP aurait pu être traité avec scikit-learn mais ce sera fait...\n",
        "\n",
        "donc déjà il faut importer pytorch"
      ]
    },
    {
      "cell_type": "code",
      "metadata": {
        "id": "ouvhsCnwdPgm"
      },
      "source": [
        "import torch\n",
        "import torch.nn as nn\n",
        "import torch.nn.functional as F\n",
        "import torch.optim as optim\n",
        "import torchvision"
      ],
      "execution_count": 2,
      "outputs": []
    },
    {
      "cell_type": "markdown",
      "metadata": {
        "id": "6gNOHjffefzg"
      },
      "source": [
        "Ensuite on va charger les données.\n",
        "\n",
        "**Normalement c'est genre 80% du temps de prendre en charge les données !**\n",
        "\n",
        "Mais là on va travailler sur des données simples (MNIST) mises en forme par pytorch !"
      ]
    },
    {
      "cell_type": "code",
      "metadata": {
        "id": "GBPJ5pdmdghW",
        "colab": {
          "base_uri": "https://localhost:8080/",
          "height": 431,
          "referenced_widgets": [
            "f144e53802a540f9a6c8c2cfa63b9411",
            "ddbeeb06c9444f49b473bd850321f3e5",
            "90c859c5b4d64201ab424321ea235086",
            "816fb1d539c14db4b103dfd63c517b29",
            "5ea106a06baa4eaea3486ed52976d055",
            "a5b8468fcd684300aba67fc2439aba79",
            "3ed5f04a9a03479b833e34dea2097098",
            "043c5c25afe04fbd97fe52c081546797",
            "8c0cf83e139a4511b604bf246a0a2108",
            "8ae6549b05fd43eba933a89eab9b658f",
            "99783ba5838b42b6ba220e9129f9cb78",
            "08ad35ad6cb44d85a4392bfb9a33ba69",
            "7f23dee1d9834eebb7b9bd174aa1c700",
            "d7a5369d62864106976a4d596dac0de7",
            "afcab7f9163548828f4da0c4ece00983",
            "21c5d76c5e12490f9f9ab2726f9bcae7",
            "3738f0ee71bf4548bd4452e6624641c6",
            "fef8d9deecad4f8099212fbe346d8dda",
            "ca95371354f04a8290a7796a1a9d71c7",
            "0acee6f1b7d240d1ae2e0e4558703e5e",
            "3343e326e9b045508c93df5cde0d33ca",
            "09ca2c46f9da4da6be286bc719a8e7af",
            "80296f466fe04e1bbb4384d2f3be81ba",
            "dcb56b7bf5c641519786989a8cdf9bef",
            "18d7d452a9cc4d519b9f7979e2c85907",
            "1e78b2b6fb614911919a88772663de64",
            "1f24522109a14e7e98eaf95c8eb2a326",
            "556dadddf88e4bff83e55d6176c525e3",
            "37a4076bab804d10bf8cb6974acf1395",
            "294dcd4ea6ee456c80998978f83b5195",
            "1fa767cfcca942fab09415d62a054075",
            "e379d2cbfd7546b28056d330e31781ec",
            "f5d972f55d8843c39bda04f980006152",
            "62059d3b11164e1fa30d012b19999cab",
            "be913cc0192f48f985a102f127f477f3",
            "14e377fe907e4805b152bbbd7ca3dc10",
            "c01b681c293a49bdab33d03a2757f6cb",
            "1ca59333d12b486084a03ce59b76ec7d",
            "e592e9f45d30477fa54e73002271ca15",
            "0b3c7632883c4791be687e7a0c6ec137",
            "fc6dd522791949daa0186fd6fb2bbe72",
            "847c624a63d9407292bafefcd617fdfe",
            "8080cbe89c094c08977279a2de4ae1f7",
            "07c410bc91364cf6b8389904b5b15d69"
          ]
        },
        "outputId": "55834baf-5e55-4092-9c28-f383455b2739"
      },
      "source": [
        "transform_mnist = torchvision.transforms.Compose([\n",
        "    torchvision.transforms.Resize((32,32)),\n",
        "    torchvision.transforms.ToTensor()\n",
        "])\n",
        "mnisttrain = torchvision.datasets.MNIST(\"./mnist\",train=True, transform=transform_mnist, download=True)\n",
        "trainloader = torch.utils.data.DataLoader(mnisttrain, batch_size=64, shuffle=True, num_workers=2)\n",
        "mnisttest = torchvision.datasets.MNIST(\"./mnist\",train=False, transform=transform_mnist, download=True)\n",
        "testloader = torch.utils.data.DataLoader(mnisttest, batch_size=64, shuffle=True, num_workers=2)"
      ],
      "execution_count": 3,
      "outputs": [
        {
          "output_type": "stream",
          "name": "stdout",
          "text": [
            "Downloading http://yann.lecun.com/exdb/mnist/train-images-idx3-ubyte.gz\n",
            "Downloading http://yann.lecun.com/exdb/mnist/train-images-idx3-ubyte.gz to ./mnist/MNIST/raw/train-images-idx3-ubyte.gz\n"
          ]
        },
        {
          "output_type": "display_data",
          "data": {
            "text/plain": [
              "  0%|          | 0/9912422 [00:00<?, ?it/s]"
            ],
            "application/vnd.jupyter.widget-view+json": {
              "version_major": 2,
              "version_minor": 0,
              "model_id": "f144e53802a540f9a6c8c2cfa63b9411"
            }
          },
          "metadata": {}
        },
        {
          "output_type": "stream",
          "name": "stdout",
          "text": [
            "Extracting ./mnist/MNIST/raw/train-images-idx3-ubyte.gz to ./mnist/MNIST/raw\n",
            "\n",
            "Downloading http://yann.lecun.com/exdb/mnist/train-labels-idx1-ubyte.gz\n",
            "Downloading http://yann.lecun.com/exdb/mnist/train-labels-idx1-ubyte.gz to ./mnist/MNIST/raw/train-labels-idx1-ubyte.gz\n"
          ]
        },
        {
          "output_type": "display_data",
          "data": {
            "text/plain": [
              "  0%|          | 0/28881 [00:00<?, ?it/s]"
            ],
            "application/vnd.jupyter.widget-view+json": {
              "version_major": 2,
              "version_minor": 0,
              "model_id": "08ad35ad6cb44d85a4392bfb9a33ba69"
            }
          },
          "metadata": {}
        },
        {
          "output_type": "stream",
          "name": "stdout",
          "text": [
            "Extracting ./mnist/MNIST/raw/train-labels-idx1-ubyte.gz to ./mnist/MNIST/raw\n",
            "\n",
            "Downloading http://yann.lecun.com/exdb/mnist/t10k-images-idx3-ubyte.gz\n",
            "Downloading http://yann.lecun.com/exdb/mnist/t10k-images-idx3-ubyte.gz to ./mnist/MNIST/raw/t10k-images-idx3-ubyte.gz\n"
          ]
        },
        {
          "output_type": "display_data",
          "data": {
            "text/plain": [
              "  0%|          | 0/1648877 [00:00<?, ?it/s]"
            ],
            "application/vnd.jupyter.widget-view+json": {
              "version_major": 2,
              "version_minor": 0,
              "model_id": "80296f466fe04e1bbb4384d2f3be81ba"
            }
          },
          "metadata": {}
        },
        {
          "output_type": "stream",
          "name": "stdout",
          "text": [
            "Extracting ./mnist/MNIST/raw/t10k-images-idx3-ubyte.gz to ./mnist/MNIST/raw\n",
            "\n",
            "Downloading http://yann.lecun.com/exdb/mnist/t10k-labels-idx1-ubyte.gz\n",
            "Downloading http://yann.lecun.com/exdb/mnist/t10k-labels-idx1-ubyte.gz to ./mnist/MNIST/raw/t10k-labels-idx1-ubyte.gz\n"
          ]
        },
        {
          "output_type": "display_data",
          "data": {
            "text/plain": [
              "  0%|          | 0/4542 [00:00<?, ?it/s]"
            ],
            "application/vnd.jupyter.widget-view+json": {
              "version_major": 2,
              "version_minor": 0,
              "model_id": "62059d3b11164e1fa30d012b19999cab"
            }
          },
          "metadata": {}
        },
        {
          "output_type": "stream",
          "name": "stdout",
          "text": [
            "Extracting ./mnist/MNIST/raw/t10k-labels-idx1-ubyte.gz to ./mnist/MNIST/raw\n",
            "\n"
          ]
        }
      ]
    },
    {
      "cell_type": "markdown",
      "metadata": {
        "id": "iauL3XSqfISU"
      },
      "source": [
        "Commençons par visualiser quelques images"
      ]
    },
    {
      "cell_type": "code",
      "metadata": {
        "id": "a5GqZNlohsM3",
        "colab": {
          "base_uri": "https://localhost:8080/",
          "height": 287
        },
        "outputId": "993a866e-7470-4a0b-c4ef-d169b493d8bd"
      },
      "source": [
        "import matplotlib.pyplot as plt\n",
        "import numpy as np\n",
        "def show(img):\n",
        "    npimg = img.numpy()\n",
        "    plt.imshow(np.transpose(npimg, (1,2,0)), interpolation='nearest')\n",
        "\n",
        "sample = next(iter(trainloader))[0]\n",
        "show(torchvision.utils.make_grid(sample))\n",
        "print(sample.shape)  ## 64 c'est le batch\n",
        "                        ## 1 c'est du gris -- sinon ce serait 3 pour du RGB\n",
        "                        ## 32x32 c'est pour la taille de l'image (petite ici)"
      ],
      "execution_count": 4,
      "outputs": [
        {
          "output_type": "stream",
          "name": "stdout",
          "text": [
            "torch.Size([64, 1, 32, 32])\n"
          ]
        },
        {
          "output_type": "display_data",
          "data": {
            "text/plain": [
              "<Figure size 432x288 with 1 Axes>"
            ],
            "image/png": "[encoded data removed]"
          },
          "metadata": {
            "needs_background": "light"
          }
        }
      ]
    },
    {
      "cell_type": "markdown",
      "metadata": {
        "id": "M3kDmxkRkODf"
      },
      "source": [
        "maintenant on definit le réseau"
      ]
    },
    {
      "cell_type": "code",
      "metadata": {
        "id": "lUPT6Psfd4K8"
      },
      "source": [
        "class MonReseau(nn.Module):\n",
        "    def __init__(self):\n",
        "        super(MonReseau, self).__init__()\n",
        "        \n",
        "        self.linear1 = nn.Linear(1024, 1024)\n",
        "        self.linear2 = nn.Linear(1024, 2048)\n",
        "        self.linear3 = nn.Linear(2048, 4096)\n",
        "\n",
        "        self.final = nn.Linear(4096,10)\n",
        "      \n",
        "    def forward(self, x):\n",
        "        x = x.view(-1,1024)  # l'image 1 x 32 x 32 devient un vecteur 1024\n",
        "        x = F.leaky_relu(self.linear1(x))\n",
        "        x = F.leaky_relu(self.linear2(x))\n",
        "        x = F.leaky_relu(self.linear3(x))\n",
        "        \n",
        "        x = self.final(x)\n",
        "        return x\n",
        "\n",
        "monreseau = MonReseau()\n",
        "monreseau = monreseau.cuda()"
      ],
      "execution_count": 5,
      "outputs": []
    },
    {
      "cell_type": "markdown",
      "metadata": {
        "id": "AS5V0cb8lh6j"
      },
      "source": [
        "ensuite on définit les paramètres de l'apprentissage : \n",
        "- le solver\n",
        "- la loss\n",
        "- le nombre d'itérations ..."
      ]
    },
    {
      "cell_type": "code",
      "metadata": {
        "id": "zqtnni_zlvXh"
      },
      "source": [
        "optimizer = optim.Adam(monreseau.parameters(), lr=0.00001)\n",
        "criterion = nn.CrossEntropyLoss()\n",
        "nbepoch = 5"
      ],
      "execution_count": 6,
      "outputs": []
    },
    {
      "cell_type": "markdown",
      "metadata": {
        "id": "AzlZ5ZnMl30q"
      },
      "source": [
        "l'apprentissage à proprement parler :\n",
        "- on itere sur les données\n",
        "- on les fait rentrer dans le réseau\n",
        "- on compare la sortie courante à la sortie voulue\n",
        "- on calcule le gradient \n",
        "- on actualise les poids pour que la sortie courante soit plus proche que la sortie voulue\n",
        "\n",
        "**ET ON PASSE SUR CUDA CAR SINON C'EST TROP LONG**"
      ]
    },
    {
      "cell_type": "code",
      "metadata": {
        "id": "T7IU7veee3f6",
        "colab": {
          "base_uri": "https://localhost:8080/"
        },
        "outputId": "eea86d07-4f70-4f05-e29b-9f7b0b69261d"
      },
      "source": [
        "import random\n",
        "for epoch in range(nbepoch):\n",
        "  monreseau.train()\n",
        "  print(\"epoch\", epoch)\n",
        "  for inputs, targets in trainloader:   ## on itere sur les données \n",
        "    inputs, targets = inputs.cuda(),targets.cuda()\n",
        "\n",
        "    mespredictions = monreseau(inputs)  ## on les fait rentrer dans le réseau\n",
        "    loss = criterion(mespredictions,targets)  ## on compare la sortie courante à la sortie voulue\n",
        "\n",
        "    optimizer.zero_grad() ## supprime les gradients courants\n",
        "    loss.backward() ## le gradient -- la magie par rapport à comment c'était long en cours :-)\n",
        "    optimizer.step() ## on actualise les poids pour que la sortie courante soit plus proche que la sortie voulue\n",
        "\n",
        "    if random.randint(0,90)==0:\n",
        "      print(\"\\tloss=\",loss) ## on affiche pour valider que ça diverge pas\n"
      ],
      "execution_count": 7,
      "outputs": [
        {
          "output_type": "stream",
          "name": "stdout",
          "text": [
            "epoch 0\n",
            "\tloss= tensor(0.7502, device='cuda:0', grad_fn=<NllLossBackward0>)\n",
            "\tloss= tensor(0.5969, device='cuda:0', grad_fn=<NllLossBackward0>)\n",
            "\tloss= tensor(0.5131, device='cuda:0', grad_fn=<NllLossBackward0>)\n",
            "\tloss= tensor(0.3569, device='cuda:0', grad_fn=<NllLossBackward0>)\n",
            "\tloss= tensor(0.3200, device='cuda:0', grad_fn=<NllLossBackward0>)\n",
            "\tloss= tensor(0.3967, device='cuda:0', grad_fn=<NllLossBackward0>)\n",
            "\tloss= tensor(0.5988, device='cuda:0', grad_fn=<NllLossBackward0>)\n",
            "\tloss= tensor(0.3244, device='cuda:0', grad_fn=<NllLossBackward0>)\n",
            "epoch 1\n",
            "\tloss= tensor(0.2070, device='cuda:0', grad_fn=<NllLossBackward0>)\n",
            "\tloss= tensor(0.3214, device='cuda:0', grad_fn=<NllLossBackward0>)\n",
            "\tloss= tensor(0.2453, device='cuda:0', grad_fn=<NllLossBackward0>)\n",
            "\tloss= tensor(0.2633, device='cuda:0', grad_fn=<NllLossBackward0>)\n",
            "\tloss= tensor(0.3199, device='cuda:0', grad_fn=<NllLossBackward0>)\n",
            "\tloss= tensor(0.3927, device='cuda:0', grad_fn=<NllLossBackward0>)\n",
            "\tloss= tensor(0.3351, device='cuda:0', grad_fn=<NllLossBackward0>)\n",
            "\tloss= tensor(0.1778, device='cuda:0', grad_fn=<NllLossBackward0>)\n",
            "\tloss= tensor(0.2264, device='cuda:0', grad_fn=<NllLossBackward0>)\n",
            "\tloss= tensor(0.2994, device='cuda:0', grad_fn=<NllLossBackward0>)\n",
            "\tloss= tensor(0.2202, device='cuda:0', grad_fn=<NllLossBackward0>)\n",
            "\tloss= tensor(0.1840, device='cuda:0', grad_fn=<NllLossBackward0>)\n",
            "\tloss= tensor(0.2208, device='cuda:0', grad_fn=<NllLossBackward0>)\n",
            "\tloss= tensor(0.3929, device='cuda:0', grad_fn=<NllLossBackward0>)\n",
            "\tloss= tensor(0.2027, device='cuda:0', grad_fn=<NllLossBackward0>)\n",
            "\tloss= tensor(0.2622, device='cuda:0', grad_fn=<NllLossBackward0>)\n",
            "\tloss= tensor(0.1567, device='cuda:0', grad_fn=<NllLossBackward0>)\n",
            "epoch 2\n",
            "\tloss= tensor(0.2293, device='cuda:0', grad_fn=<NllLossBackward0>)\n",
            "\tloss= tensor(0.1484, device='cuda:0', grad_fn=<NllLossBackward0>)\n",
            "\tloss= tensor(0.3070, device='cuda:0', grad_fn=<NllLossBackward0>)\n",
            "\tloss= tensor(0.3809, device='cuda:0', grad_fn=<NllLossBackward0>)\n",
            "\tloss= tensor(0.2164, device='cuda:0', grad_fn=<NllLossBackward0>)\n",
            "\tloss= tensor(0.3432, device='cuda:0', grad_fn=<NllLossBackward0>)\n",
            "\tloss= tensor(0.1914, device='cuda:0', grad_fn=<NllLossBackward0>)\n",
            "\tloss= tensor(0.1220, device='cuda:0', grad_fn=<NllLossBackward0>)\n",
            "\tloss= tensor(0.2645, device='cuda:0', grad_fn=<NllLossBackward0>)\n",
            "epoch 3\n",
            "\tloss= tensor(0.2541, device='cuda:0', grad_fn=<NllLossBackward0>)\n",
            "\tloss= tensor(0.1094, device='cuda:0', grad_fn=<NllLossBackward0>)\n",
            "\tloss= tensor(0.2107, device='cuda:0', grad_fn=<NllLossBackward0>)\n",
            "\tloss= tensor(0.1904, device='cuda:0', grad_fn=<NllLossBackward0>)\n",
            "\tloss= tensor(0.1829, device='cuda:0', grad_fn=<NllLossBackward0>)\n",
            "\tloss= tensor(0.1866, device='cuda:0', grad_fn=<NllLossBackward0>)\n",
            "\tloss= tensor(0.1249, device='cuda:0', grad_fn=<NllLossBackward0>)\n",
            "\tloss= tensor(0.0868, device='cuda:0', grad_fn=<NllLossBackward0>)\n",
            "\tloss= tensor(0.1693, device='cuda:0', grad_fn=<NllLossBackward0>)\n",
            "\tloss= tensor(0.1597, device='cuda:0', grad_fn=<NllLossBackward0>)\n",
            "\tloss= tensor(0.1448, device='cuda:0', grad_fn=<NllLossBackward0>)\n",
            "epoch 4\n",
            "\tloss= tensor(0.1090, device='cuda:0', grad_fn=<NllLossBackward0>)\n",
            "\tloss= tensor(0.0638, device='cuda:0', grad_fn=<NllLossBackward0>)\n",
            "\tloss= tensor(0.1085, device='cuda:0', grad_fn=<NllLossBackward0>)\n",
            "\tloss= tensor(0.2550, device='cuda:0', grad_fn=<NllLossBackward0>)\n",
            "\tloss= tensor(0.0595, device='cuda:0', grad_fn=<NllLossBackward0>)\n",
            "\tloss= tensor(0.3198, device='cuda:0', grad_fn=<NllLossBackward0>)\n",
            "\tloss= tensor(0.0609, device='cuda:0', grad_fn=<NllLossBackward0>)\n",
            "\tloss= tensor(0.1181, device='cuda:0', grad_fn=<NllLossBackward0>)\n",
            "\tloss= tensor(0.1761, device='cuda:0', grad_fn=<NllLossBackward0>)\n",
            "\tloss= tensor(0.1625, device='cuda:0', grad_fn=<NllLossBackward0>)\n",
            "\tloss= tensor(0.1332, device='cuda:0', grad_fn=<NllLossBackward0>)\n",
            "\tloss= tensor(0.1272, device='cuda:0', grad_fn=<NllLossBackward0>)\n"
          ]
        }
      ]
    },
    {
      "cell_type": "markdown",
      "metadata": {
        "id": "tiCrUvECoTsx"
      },
      "source": [
        "Maintenant, on calcule la performance obtenue **en test**\n",
        "à travers la matrice de confusion\n",
        "Mij c'est le nombre de fois qu'une image de la classe i a été classé comme j"
      ]
    },
    {
      "cell_type": "code",
      "metadata": {
        "id": "XUl-2z9FfRUG",
        "colab": {
          "base_uri": "https://localhost:8080/"
        },
        "outputId": "65d07b22-000f-476b-e8a4-a41907e7ddf6"
      },
      "source": [
        "from sklearn.metrics import confusion_matrix\n",
        "\n",
        "monreseau.eval()\n",
        "cm = np.zeros((10,10),dtype=int)  ###### ATTENTION DE BIEN ME REMETTRE A ZERO\n",
        "with torch.no_grad():  ### ici pas besoin de calculer les gradients\n",
        "    for inputs, targets in testloader:\n",
        "        inputs = inputs.cuda()\n",
        "        outputs = monreseau(inputs)\n",
        "        _,pred = outputs.max(1)\n",
        "        cm += confusion_matrix(pred.cpu().numpy(),targets.cpu().numpy(),labels = list(range(10)))\n",
        "print(cm)"
      ],
      "execution_count": 8,
      "outputs": [
        {
          "output_type": "stream",
          "name": "stdout",
          "text": [
            "[[ 967    0    8    0    1    8    7    2    8   10]\n",
            " [   0 1115    1    0    1    1    3    8    2    7]\n",
            " [   1    2  982   13    5    0    0   24    6    1]\n",
            " [   1    2    9  967    0   31    1    7   18   12]\n",
            " [   0    0    5    0  944    4    9    3    8   39]\n",
            " [   2    1    0    6    0  814    8    1    8    5]\n",
            " [   7    5    7    0   12   13  929    0   10    1]\n",
            " [   1    2    7   10    2    1    0  966    4   11]\n",
            " [   1    8   11   12    2   16    1    1  908   11]\n",
            " [   0    0    2    2   15    4    0   16    2  912]]\n"
          ]
        }
      ]
    },
    {
      "cell_type": "markdown",
      "metadata": {
        "id": "RVwdq_nMqCR9"
      },
      "source": [
        "**Q1 (facile)** : calculer le taux de bonne classification (donc la diagonale sur le total)"
      ]
    },
    {
      "cell_type": "code",
      "metadata": {
        "id": "0XlQ7IltqA-o",
        "colab": {
          "base_uri": "https://localhost:8080/"
        },
        "outputId": "dd7e574b-4782-42db-aaec-7b33b376a1f4"
      },
      "source": [
        "def accuracy(cm):\n",
        "    return np.sum(cm.diagonal())/np.sum(cm)\n",
        "print(accuracy(cm))"
      ],
      "execution_count": 9,
      "outputs": [
        {
          "output_type": "stream",
          "name": "stdout",
          "text": [
            "0.9504\n"
          ]
        }
      ]
    },
    {
      "cell_type": "markdown",
      "metadata": {
        "id": "zJRTEjvGqOTr"
      },
      "source": [
        "### CNN\n",
        "\n",
        "**Q2 (dur)** : maintenant il faut changer le réseau pour mettre des convolutions et donc traiter la spécificité des images plutôt que de considérer ça comme un vecteur.\n",
        "\n",
        "Dupliquer le code de \"MonReseau\" et implémenter lenet au lieu d'un simple mlp\n",
        "\n",
        "regarder la doc : https://pytorch.org/docs/stable/generated/torch.nn.Conv2d.html\n",
        "\n",
        "et regarder sur internet pour lenet vous aurez plein d'info !!"
      ]
    },
    {
      "cell_type": "code",
      "metadata": {
        "id": "t0UVDKw2opzd"
      },
      "source": [
        "class MonReseauCNN(nn.Module):\n",
        "    def __init__(self):\n",
        "        super(MonReseauCNN, self).__init__()\n",
        "        \n",
        "        self.conv1 = nn.Conv2d(1, 32, kernel_size=5, padding=2)\n",
        "        self.conv2 = nn.Conv2d(32, 64, kernel_size=3, padding=1)\n",
        "        self.conv3 = nn.Conv2d(64, 64, kernel_size=3, padding=1)\n",
        "\n",
        "        self.final = nn.Linear(4096,10)\n",
        "      \n",
        "    def forward(self, x):\n",
        "        x = F.leaky_relu(self.conv1(x)) ## l'image 1x32x32 devient 32x32x32\n",
        "        x = F.max_pool2d(x, kernel_size=2, stride=2) ## puis 32x16x16\n",
        "        x = F.leaky_relu(self.conv2(x)) ## puis devient 64x16x16\n",
        "        x = F.max_pool2d(x, kernel_size=2, stride=2) ## puis devient 64x8x8\n",
        "        x = F.leaky_relu(self.conv3(x)) ## pas de changement\n",
        "        \n",
        "        x = x.view(-1,4096) ## 64x8x8 devient 4096\n",
        "        \n",
        "        x = self.final(x) ## on finit exactement de la même façon\n",
        "        return x\n",
        "\n",
        "monreseauCNN = MonReseauCNN()\n",
        "monreseauCNN = monreseauCNN.cuda()"
      ],
      "execution_count": 10,
      "outputs": []
    },
    {
      "cell_type": "markdown",
      "metadata": {
        "id": "uQ83_W9Mr7Y4"
      },
      "source": [
        "Lancez maintenant un train/test\n",
        "\n",
        "vous pouvez réutiliser quasiment tel quel la boucle \"d'apprentissage\" -- elle ne dépend PAS du réseau (les paramètres pourraient peut être changer mais dans les grosses lignes c'est la même boucle)"
      ]
    },
    {
      "cell_type": "code",
      "metadata": {
        "colab": {
          "base_uri": "https://localhost:8080/"
        },
        "id": "LUo9rJUUFJfe",
        "outputId": "ab0f84db-1149-4cad-b6f9-5b544f27c1cd"
      },
      "source": [
        "optimizerCNN = optim.Adam(monreseauCNN.parameters(), lr=0.00001)\n",
        "\n",
        "for epoch in range(nbepoch):\n",
        "    monreseauCNN.train()\n",
        "    print(\"epoch\", epoch)\n",
        "    for inputs, targets in trainloader:     ## on itere sur les données \n",
        "        inputs, targets = inputs.cuda(),targets.cuda()\n",
        "\n",
        "        mespredictions = monreseauCNN(inputs)    ## on les fait rentrer dans le réseau\n",
        "        loss = criterion(mespredictions,targets)    ## on compare la sortie courante à la sortie voulue\n",
        "\n",
        "        optimizerCNN.zero_grad() ## supprime les gradients courants\n",
        "        loss.backward() ## le gradient -- la magie par rapport à comment c'était long en cours :-)\n",
        "        optimizerCNN.step() ## on actualise les poids pour que la sortie courante soit plus proche que la sortie voulue\n",
        "\n",
        "        if random.randint(0,90)==0:\n",
        "            print(\"\\tloss=\",loss) ## on affiche pour valider que ça diverge pas\n",
        "\n",
        "cm = np.zeros((10,10),dtype=int)\n",
        "monreseauCNN.eval()\n",
        "with torch.no_grad():  ### ici pas besoin de calculer les gradients\n",
        "    for inputs, targets in testloader:\n",
        "        inputs = inputs.cuda()\n",
        "        outputs = monreseauCNN(inputs)\n",
        "        _,pred = outputs.max(1)\n",
        "        cm += confusion_matrix(pred.cpu().numpy(),targets.cpu().numpy(),labels = list(range(10)))\n",
        "\n",
        "print(cm)\n",
        "print(accuracy(cm))"
      ],
      "execution_count": 11,
      "outputs": [
        {
          "output_type": "stream",
          "name": "stdout",
          "text": [
            "epoch 0\n",
            "\tloss= tensor(2.2752, device='cuda:0', grad_fn=<NllLossBackward0>)\n",
            "\tloss= tensor(2.2237, device='cuda:0', grad_fn=<NllLossBackward0>)\n",
            "\tloss= tensor(2.1967, device='cuda:0', grad_fn=<NllLossBackward0>)\n",
            "\tloss= tensor(2.1709, device='cuda:0', grad_fn=<NllLossBackward0>)\n",
            "\tloss= tensor(1.7336, device='cuda:0', grad_fn=<NllLossBackward0>)\n",
            "\tloss= tensor(0.9475, device='cuda:0', grad_fn=<NllLossBackward0>)\n",
            "\tloss= tensor(0.8909, device='cuda:0', grad_fn=<NllLossBackward0>)\n",
            "epoch 1\n",
            "\tloss= tensor(0.6430, device='cuda:0', grad_fn=<NllLossBackward0>)\n",
            "\tloss= tensor(0.7113, device='cuda:0', grad_fn=<NllLossBackward0>)\n",
            "\tloss= tensor(0.5036, device='cuda:0', grad_fn=<NllLossBackward0>)\n",
            "\tloss= tensor(0.4205, device='cuda:0', grad_fn=<NllLossBackward0>)\n",
            "\tloss= tensor(0.4923, device='cuda:0', grad_fn=<NllLossBackward0>)\n",
            "\tloss= tensor(0.3806, device='cuda:0', grad_fn=<NllLossBackward0>)\n",
            "\tloss= tensor(0.4171, device='cuda:0', grad_fn=<NllLossBackward0>)\n",
            "epoch 2\n",
            "\tloss= tensor(0.4125, device='cuda:0', grad_fn=<NllLossBackward0>)\n",
            "\tloss= tensor(0.4987, device='cuda:0', grad_fn=<NllLossBackward0>)\n",
            "\tloss= tensor(0.3565, device='cuda:0', grad_fn=<NllLossBackward0>)\n",
            "\tloss= tensor(0.2806, device='cuda:0', grad_fn=<NllLossBackward0>)\n",
            "\tloss= tensor(0.2711, device='cuda:0', grad_fn=<NllLossBackward0>)\n",
            "\tloss= tensor(0.4101, device='cuda:0', grad_fn=<NllLossBackward0>)\n",
            "\tloss= tensor(0.3283, device='cuda:0', grad_fn=<NllLossBackward0>)\n",
            "\tloss= tensor(0.2467, device='cuda:0', grad_fn=<NllLossBackward0>)\n",
            "\tloss= tensor(0.2906, device='cuda:0', grad_fn=<NllLossBackward0>)\n",
            "\tloss= tensor(0.2739, device='cuda:0', grad_fn=<NllLossBackward0>)\n",
            "\tloss= tensor(0.4028, device='cuda:0', grad_fn=<NllLossBackward0>)\n",
            "\tloss= tensor(0.4142, device='cuda:0', grad_fn=<NllLossBackward0>)\n",
            "\tloss= tensor(0.5082, device='cuda:0', grad_fn=<NllLossBackward0>)\n",
            "epoch 3\n",
            "\tloss= tensor(0.5113, device='cuda:0', grad_fn=<NllLossBackward0>)\n",
            "\tloss= tensor(0.3704, device='cuda:0', grad_fn=<NllLossBackward0>)\n",
            "\tloss= tensor(0.5296, device='cuda:0', grad_fn=<NllLossBackward0>)\n",
            "\tloss= tensor(0.4004, device='cuda:0', grad_fn=<NllLossBackward0>)\n",
            "\tloss= tensor(0.3495, device='cuda:0', grad_fn=<NllLossBackward0>)\n",
            "\tloss= tensor(0.2380, device='cuda:0', grad_fn=<NllLossBackward0>)\n",
            "\tloss= tensor(0.2182, device='cuda:0', grad_fn=<NllLossBackward0>)\n",
            "\tloss= tensor(0.3483, device='cuda:0', grad_fn=<NllLossBackward0>)\n",
            "epoch 4\n",
            "\tloss= tensor(0.4061, device='cuda:0', grad_fn=<NllLossBackward0>)\n",
            "\tloss= tensor(0.1572, device='cuda:0', grad_fn=<NllLossBackward0>)\n",
            "\tloss= tensor(0.3004, device='cuda:0', grad_fn=<NllLossBackward0>)\n",
            "\tloss= tensor(0.1693, device='cuda:0', grad_fn=<NllLossBackward0>)\n",
            "\tloss= tensor(0.5799, device='cuda:0', grad_fn=<NllLossBackward0>)\n",
            "\tloss= tensor(0.4261, device='cuda:0', grad_fn=<NllLossBackward0>)\n",
            "\tloss= tensor(0.3504, device='cuda:0', grad_fn=<NllLossBackward0>)\n",
            "\tloss= tensor(0.4003, device='cuda:0', grad_fn=<NllLossBackward0>)\n",
            "\tloss= tensor(0.3640, device='cuda:0', grad_fn=<NllLossBackward0>)\n",
            "[[ 952    0   15    3    1    9   14    1    9   10]\n",
            " [   0 1107    1    3    2    4    5   11    7    5]\n",
            " [   2    3  913   21    8    5    4   33    4    8]\n",
            " [   2    3   13  907    1   36    2    5   27   12]\n",
            " [   0    0   16    0  885   13    9    6    9   32]\n",
            " [   6    1    2   22    1  751   18    0   20    5]\n",
            " [  13    4   19    2   21   24  903    1    6    0]\n",
            " [   2    0   13   14    1    1    1  911    6   18]\n",
            " [   3   17   38   30    8   40    2    4  872   10]\n",
            " [   0    0    2    8   54    9    0   56   14  909]]\n",
            "0.911\n"
          ]
        }
      ]
    },
    {
      "cell_type": "markdown",
      "metadata": {
        "id": "L82jBjtP-vwr"
      },
      "source": [
        "# CNN VS MLP\n",
        "\n",
        "Maintenant on va s'intéresser à la différence entre un mlp et un CNN\n",
        "\n",
        "\n",
        "on fait regarder ce que donne nos codes -- si on permute les pixels\n",
        "ce sera évidemment une permutation **FIXE** (ce sera la même pour toutes les images train et test) qu'on peut générer calculant une permutation des lignes et une des colonnes"
      ]
    },
    {
      "cell_type": "code",
      "metadata": {
        "colab": {
          "base_uri": "https://localhost:8080/"
        },
        "id": "jb5cc28A_B4K",
        "outputId": "25c85a24-4669-4566-e82c-cff40505ade6"
      },
      "source": [
        "def computerandompermutation(n):\n",
        "\tout = list(range(n))\n",
        "\trandom.shuffle(out)\n",
        "\treturn out\n",
        "permrow,permcol = computerandompermutation(32),computerandompermutation(32)\n",
        "print(permrow)"
      ],
      "execution_count": 12,
      "outputs": [
        {
          "output_type": "stream",
          "name": "stdout",
          "text": [
            "[30, 10, 11, 29, 27, 21, 18, 0, 19, 5, 9, 16, 7, 24, 14, 17, 1, 22, 31, 15, 2, 4, 26, 3, 8, 20, 6, 28, 12, 13, 23, 25]\n"
          ]
        }
      ]
    },
    {
      "cell_type": "markdown",
      "metadata": {
        "id": "OC2xtwaYsYxV"
      },
      "source": [
        "\n",
        "\n",
        "**Q3 (moyenne) :** Coder une fonction qui prends en argument une permutation et une image et qui permute ses pixels.\n",
        "\n",
        "\n",
        "*n'oubliez est pour permuter la valeur de x et y dans un tableau T il faut faire*\n",
        "- tmp = T[y]\n",
        "- T[y] = T[x]\n",
        "- T[x] = tmp\n",
        "\n",
        "(sinon on écrase une des 2 valeurs)\n",
        "\n",
        "commencer par permuter une image 32x32 et créer une fonction qui l'applique 64 fois sur un batch 64x1x32x32"
      ]
    },
    {
      "cell_type": "code",
      "metadata": {
        "id": "cyE-3bjp_TY8"
      },
      "source": [
        "def permutation2D(image32x32,permrow,permcol):\n",
        "  for row in range(image32x32.shape[0]):\n",
        "    for col in range(image32x32.shape[1]):\n",
        "      tmp = image32x32[permrow[row]][permcol[col]]\n",
        "      image32x32[permrow[row]][permcol[col]] = image32x32[row][col]\n",
        "      image32x32[row][col] = tmp\n",
        "\n",
        "def permutation(image,permrow,permcol):\n",
        "  for i in range(image.shape[0]):\n",
        "    permutation2D(image[i][0],permrow,permcol)\n",
        "  return image\n",
        "\n",
        "### mais en fait il faut le faire comme ça sinon c'est trop long\n",
        "def permutation(image,permrow,permcol):\n",
        "  image = image[:,:,permrow,:]\n",
        "  image = image[:,:,:,permcol]\n",
        "  return image"
      ],
      "execution_count": 13,
      "outputs": []
    },
    {
      "cell_type": "markdown",
      "metadata": {
        "id": "6QfvV_3e_Sp_"
      },
      "source": [
        "**SIGNALEZ que vous avez fini la question ci dessus -- il est nécessaire d'utiliser un codage efficace des permutations pour continuer -- il vous sera fourni**\n",
        "\n",
        "\n",
        "**Q4 (facile) :**\n",
        "Regarder les images avant et après permutation -- pourriez vous (vous même) classer les images APRES permutation ??\n"
      ]
    },
    {
      "cell_type": "code",
      "metadata": {
        "colab": {
          "base_uri": "https://localhost:8080/",
          "height": 287
        },
        "id": "sJWQUZmLEorH",
        "outputId": "d72857e2-d82c-43dd-8856-055c532db3ac"
      },
      "source": [
        "sample = next(iter(trainloader))[0]\n",
        "print(sample.shape)\n",
        "sample = permutation(sample,permrow,permcol)\n",
        "show(torchvision.utils.make_grid(sample))"
      ],
      "execution_count": 14,
      "outputs": [
        {
          "output_type": "stream",
          "name": "stdout",
          "text": [
            "torch.Size([64, 1, 32, 32])\n"
          ]
        },
        {
          "output_type": "display_data",
          "data": {
            "text/plain": [
              "<Figure size 432x288 with 1 Axes>"
            ],
            "image/png": "[encoded data removed]"
          },
          "metadata": {
            "needs_background": "light"
          }
        }
      ]
    },
    {
      "cell_type": "markdown",
      "metadata": {
        "id": "13gMLc6AEniu"
      },
      "source": [
        "**Q5 (facile)** :\n",
        "Qu'est ce que ça change pour le MLP ??\n",
        "-> relancer l'apprentissage/test en ajoutant cette permutation pour valider que ça ne change rien !\n"
      ]
    },
    {
      "cell_type": "code",
      "metadata": {
        "colab": {
          "base_uri": "https://localhost:8080/"
        },
        "id": "iUGDT9osEnU4",
        "outputId": "ea27529f-d8e5-4f1d-c227-04ffa91ff0c1"
      },
      "source": [
        "monreseau = MonReseau()\n",
        "monreseau = monreseau.cuda()\n",
        "optimizer = optim.Adam(monreseau.parameters(), lr=0.00001)\n",
        "for epoch in range(nbepoch):\n",
        "  monreseau.train()\n",
        "  print(\"epoch\", epoch)\n",
        "  for inputs, targets in trainloader:   ## on itere sur les données \n",
        "    inputs, targets = permutation(inputs,permrow,permcol).cuda(),targets.cuda()\n",
        "\n",
        "    mespredictions = monreseau(inputs)  ## on les fait rentrer dans le réseau\n",
        "    loss = criterion(mespredictions,targets)  ## on compare la sortie courante à la sortie voulue\n",
        "    \n",
        "    optimizer.zero_grad() ## supprime les gradients courants\n",
        "    loss.backward() ## le gradient -- la magie par rapport à comment c'était long en cours :-)\n",
        "    optimizer.step() ## on actualise les poids pour que la sortie courante soit plus proche que la sortie voulue\n",
        "\n",
        "    if random.randint(0,90)==0:\n",
        "      print(\"\\tloss=\",loss) ## on affiche pour valider que ça diverge pas\n",
        "\n",
        "cm = np.zeros((10,10),dtype=int)\n",
        "monreseau.eval()\n",
        "with torch.no_grad():  ### ici pas besoin de calculer les gradients\n",
        "    for inputs, targets in testloader:\n",
        "        inputs = permutation(inputs,permrow,permcol).cuda()\n",
        "        outputs = monreseau(inputs)\n",
        "        _,pred = outputs.max(1)\n",
        "        cm += confusion_matrix(pred.cpu().numpy(),targets.cpu().numpy(),labels = list(range(10)))      \n",
        "\n",
        "print(cm)\n",
        "print(accuracy(cm))"
      ],
      "execution_count": 15,
      "outputs": [
        {
          "output_type": "stream",
          "name": "stdout",
          "text": [
            "epoch 0\n",
            "\tloss= tensor(1.9416, device='cuda:0', grad_fn=<NllLossBackward0>)\n",
            "\tloss= tensor(1.1842, device='cuda:0', grad_fn=<NllLossBackward0>)\n",
            "\tloss= tensor(0.7083, device='cuda:0', grad_fn=<NllLossBackward0>)\n",
            "\tloss= tensor(0.5143, device='cuda:0', grad_fn=<NllLossBackward0>)\n",
            "\tloss= tensor(0.4165, device='cuda:0', grad_fn=<NllLossBackward0>)\n",
            "\tloss= tensor(0.5786, device='cuda:0', grad_fn=<NllLossBackward0>)\n",
            "\tloss= tensor(0.4051, device='cuda:0', grad_fn=<NllLossBackward0>)\n",
            "\tloss= tensor(0.2894, device='cuda:0', grad_fn=<NllLossBackward0>)\n",
            "\tloss= tensor(0.4130, device='cuda:0', grad_fn=<NllLossBackward0>)\n",
            "\tloss= tensor(0.2958, device='cuda:0', grad_fn=<NllLossBackward0>)\n",
            "\tloss= tensor(0.3593, device='cuda:0', grad_fn=<NllLossBackward0>)\n",
            "\tloss= tensor(0.2897, device='cuda:0', grad_fn=<NllLossBackward0>)\n",
            "\tloss= tensor(0.3504, device='cuda:0', grad_fn=<NllLossBackward0>)\n",
            "epoch 1\n",
            "\tloss= tensor(0.5076, device='cuda:0', grad_fn=<NllLossBackward0>)\n",
            "\tloss= tensor(0.3811, device='cuda:0', grad_fn=<NllLossBackward0>)\n",
            "\tloss= tensor(0.2119, device='cuda:0', grad_fn=<NllLossBackward0>)\n",
            "\tloss= tensor(0.3167, device='cuda:0', grad_fn=<NllLossBackward0>)\n",
            "\tloss= tensor(0.3857, device='cuda:0', grad_fn=<NllLossBackward0>)\n",
            "\tloss= tensor(0.3516, device='cuda:0', grad_fn=<NllLossBackward0>)\n",
            "\tloss= tensor(0.1032, device='cuda:0', grad_fn=<NllLossBackward0>)\n",
            "\tloss= tensor(0.4986, device='cuda:0', grad_fn=<NllLossBackward0>)\n",
            "\tloss= tensor(0.4379, device='cuda:0', grad_fn=<NllLossBackward0>)\n",
            "\tloss= tensor(0.4112, device='cuda:0', grad_fn=<NllLossBackward0>)\n",
            "\tloss= tensor(0.2009, device='cuda:0', grad_fn=<NllLossBackward0>)\n",
            "\tloss= tensor(0.2477, device='cuda:0', grad_fn=<NllLossBackward0>)\n",
            "epoch 2\n",
            "\tloss= tensor(0.2788, device='cuda:0', grad_fn=<NllLossBackward0>)\n",
            "\tloss= tensor(0.4094, device='cuda:0', grad_fn=<NllLossBackward0>)\n",
            "\tloss= tensor(0.1791, device='cuda:0', grad_fn=<NllLossBackward0>)\n",
            "\tloss= tensor(0.1442, device='cuda:0', grad_fn=<NllLossBackward0>)\n",
            "\tloss= tensor(0.2723, device='cuda:0', grad_fn=<NllLossBackward0>)\n",
            "\tloss= tensor(0.3027, device='cuda:0', grad_fn=<NllLossBackward0>)\n",
            "\tloss= tensor(0.2716, device='cuda:0', grad_fn=<NllLossBackward0>)\n",
            "\tloss= tensor(0.0957, device='cuda:0', grad_fn=<NllLossBackward0>)\n",
            "\tloss= tensor(0.1392, device='cuda:0', grad_fn=<NllLossBackward0>)\n",
            "\tloss= tensor(0.2446, device='cuda:0', grad_fn=<NllLossBackward0>)\n",
            "epoch 3\n",
            "\tloss= tensor(0.3368, device='cuda:0', grad_fn=<NllLossBackward0>)\n",
            "\tloss= tensor(0.1579, device='cuda:0', grad_fn=<NllLossBackward0>)\n",
            "\tloss= tensor(0.1848, device='cuda:0', grad_fn=<NllLossBackward0>)\n",
            "\tloss= tensor(0.2247, device='cuda:0', grad_fn=<NllLossBackward0>)\n",
            "\tloss= tensor(0.2590, device='cuda:0', grad_fn=<NllLossBackward0>)\n",
            "\tloss= tensor(0.1435, device='cuda:0', grad_fn=<NllLossBackward0>)\n",
            "\tloss= tensor(0.2263, device='cuda:0', grad_fn=<NllLossBackward0>)\n",
            "\tloss= tensor(0.2284, device='cuda:0', grad_fn=<NllLossBackward0>)\n",
            "epoch 4\n",
            "\tloss= tensor(0.2221, device='cuda:0', grad_fn=<NllLossBackward0>)\n",
            "\tloss= tensor(0.2287, device='cuda:0', grad_fn=<NllLossBackward0>)\n",
            "\tloss= tensor(0.0505, device='cuda:0', grad_fn=<NllLossBackward0>)\n",
            "\tloss= tensor(0.1581, device='cuda:0', grad_fn=<NllLossBackward0>)\n",
            "\tloss= tensor(0.1727, device='cuda:0', grad_fn=<NllLossBackward0>)\n",
            "\tloss= tensor(0.3386, device='cuda:0', grad_fn=<NllLossBackward0>)\n",
            "\tloss= tensor(0.3537, device='cuda:0', grad_fn=<NllLossBackward0>)\n",
            "\tloss= tensor(0.0810, device='cuda:0', grad_fn=<NllLossBackward0>)\n",
            "\tloss= tensor(0.2809, device='cuda:0', grad_fn=<NllLossBackward0>)\n",
            "\tloss= tensor(0.1563, device='cuda:0', grad_fn=<NllLossBackward0>)\n",
            "[[ 963    0    4    0    1    6    8    2    3    6]\n",
            " [   0 1113    1    0    0    1    3   11    2    7]\n",
            " [   1    3  989   15    7    0    1   23    6    2]\n",
            " [   1    2    7  950    0    8    0    5   16    9]\n",
            " [   0    1    5    0  937    2    9    6    6   21]\n",
            " [   6    1    1   17    0  847   12    1   13    9]\n",
            " [   6    3    6    0    9    9  921    0   10    1]\n",
            " [   2    2    6    9    2    0    0  953    6    4]\n",
            " [   1   10   11   17    3   14    4    1  907    7]\n",
            " [   0    0    2    2   23    5    0   26    5  943]]\n",
            "0.9523\n"
          ]
        }
      ]
    },
    {
      "cell_type": "markdown",
      "metadata": {
        "id": "WUshMI-dEnIu"
      },
      "source": [
        "**Q6 (facile)** : relancer le lenet -> là ça va changer "
      ]
    },
    {
      "cell_type": "code",
      "metadata": {
        "id": "2ds_JZ4aupBC",
        "colab": {
          "base_uri": "https://localhost:8080/"
        },
        "outputId": "e5bb0757-f425-4ba2-f729-8e3f64cb92dd"
      },
      "source": [
        "monreseauCNN = MonReseauCNN()\n",
        "monreseauCNN = monreseauCNN.cuda()\n",
        "optimizerCNN = optim.Adam(monreseauCNN.parameters(), lr=0.00001)\n",
        "for epoch in range(nbepoch):\n",
        "    monreseauCNN.train()\n",
        "    print(\"epoch\", epoch)\n",
        "    for inputs, targets in trainloader:     ## on itere sur les données \n",
        "        inputs, targets = permutation(inputs,permrow,permcol).cuda(),targets.cuda()\n",
        "\n",
        "        mespredictions = monreseauCNN(inputs)    ## on les fait rentrer dans le réseau\n",
        "        loss = criterion(mespredictions,targets)    ## on compare la sortie courante à la sortie voulue\n",
        "\n",
        "        optimizerCNN.zero_grad() ## supprime les gradients courants\n",
        "        loss.backward() ## le gradient -- la magie par rapport à comment c'était long en cours :-)\n",
        "        optimizerCNN.step() ## on actualise les poids pour que la sortie courante soit plus proche que la sortie voulue\n",
        "\n",
        "        if random.randint(0,90)==0:\n",
        "            print(\"\\tloss=\",loss) ## on affiche pour valider que ça diverge pas\n",
        "\n",
        "cm = np.zeros((10,10),dtype=int)\n",
        "monreseauCNN.eval()\n",
        "with torch.no_grad():  ### ici pas besoin de calculer les gradients\n",
        "    for inputs, targets in testloader:\n",
        "        inputs = permutation(inputs,permrow,permcol).cuda()\n",
        "        outputs = monreseauCNN(inputs)\n",
        "        _,pred = outputs.max(1)\n",
        "        cm += confusion_matrix(pred.cpu().numpy(),targets.cpu().numpy(),labels = list(range(10)))\n",
        "\n",
        "print(cm)\n",
        "print(accuracy(cm))\n"
      ],
      "execution_count": 16,
      "outputs": [
        {
          "output_type": "stream",
          "name": "stdout",
          "text": [
            "epoch 0\n",
            "\tloss= tensor(2.3007, device='cuda:0', grad_fn=<NllLossBackward0>)\n",
            "\tloss= tensor(2.2709, device='cuda:0', grad_fn=<NllLossBackward0>)\n",
            "\tloss= tensor(1.9793, device='cuda:0', grad_fn=<NllLossBackward0>)\n",
            "\tloss= tensor(1.8824, device='cuda:0', grad_fn=<NllLossBackward0>)\n",
            "epoch 1\n",
            "\tloss= tensor(1.4924, device='cuda:0', grad_fn=<NllLossBackward0>)\n",
            "\tloss= tensor(1.4064, device='cuda:0', grad_fn=<NllLossBackward0>)\n",
            "\tloss= tensor(1.2106, device='cuda:0', grad_fn=<NllLossBackward0>)\n",
            "\tloss= tensor(1.0000, device='cuda:0', grad_fn=<NllLossBackward0>)\n",
            "\tloss= tensor(1.2507, device='cuda:0', grad_fn=<NllLossBackward0>)\n",
            "\tloss= tensor(1.2291, device='cuda:0', grad_fn=<NllLossBackward0>)\n",
            "\tloss= tensor(1.0880, device='cuda:0', grad_fn=<NllLossBackward0>)\n",
            "\tloss= tensor(1.1015, device='cuda:0', grad_fn=<NllLossBackward0>)\n",
            "\tloss= tensor(1.1089, device='cuda:0', grad_fn=<NllLossBackward0>)\n",
            "\tloss= tensor(1.0562, device='cuda:0', grad_fn=<NllLossBackward0>)\n",
            "epoch 2\n",
            "\tloss= tensor(1.0307, device='cuda:0', grad_fn=<NllLossBackward0>)\n",
            "\tloss= tensor(0.8935, device='cuda:0', grad_fn=<NllLossBackward0>)\n",
            "\tloss= tensor(0.8938, device='cuda:0', grad_fn=<NllLossBackward0>)\n",
            "\tloss= tensor(0.9218, device='cuda:0', grad_fn=<NllLossBackward0>)\n",
            "\tloss= tensor(1.1716, device='cuda:0', grad_fn=<NllLossBackward0>)\n",
            "\tloss= tensor(1.0951, device='cuda:0', grad_fn=<NllLossBackward0>)\n",
            "\tloss= tensor(0.7568, device='cuda:0', grad_fn=<NllLossBackward0>)\n",
            "\tloss= tensor(0.9924, device='cuda:0', grad_fn=<NllLossBackward0>)\n",
            "\tloss= tensor(1.1029, device='cuda:0', grad_fn=<NllLossBackward0>)\n",
            "\tloss= tensor(0.9411, device='cuda:0', grad_fn=<NllLossBackward0>)\n",
            "\tloss= tensor(0.9163, device='cuda:0', grad_fn=<NllLossBackward0>)\n",
            "\tloss= tensor(0.7226, device='cuda:0', grad_fn=<NllLossBackward0>)\n",
            "\tloss= tensor(0.9141, device='cuda:0', grad_fn=<NllLossBackward0>)\n",
            "\tloss= tensor(0.9525, device='cuda:0', grad_fn=<NllLossBackward0>)\n",
            "\tloss= tensor(0.9277, device='cuda:0', grad_fn=<NllLossBackward0>)\n",
            "\tloss= tensor(1.0859, device='cuda:0', grad_fn=<NllLossBackward0>)\n",
            "\tloss= tensor(0.9065, device='cuda:0', grad_fn=<NllLossBackward0>)\n",
            "\tloss= tensor(0.9246, device='cuda:0', grad_fn=<NllLossBackward0>)\n",
            "epoch 3\n",
            "\tloss= tensor(1.0048, device='cuda:0', grad_fn=<NllLossBackward0>)\n",
            "\tloss= tensor(1.0017, device='cuda:0', grad_fn=<NllLossBackward0>)\n",
            "\tloss= tensor(0.7499, device='cuda:0', grad_fn=<NllLossBackward0>)\n",
            "\tloss= tensor(1.1558, device='cuda:0', grad_fn=<NllLossBackward0>)\n",
            "\tloss= tensor(0.8210, device='cuda:0', grad_fn=<NllLossBackward0>)\n",
            "\tloss= tensor(0.8890, device='cuda:0', grad_fn=<NllLossBackward0>)\n",
            "\tloss= tensor(0.7963, device='cuda:0', grad_fn=<NllLossBackward0>)\n",
            "\tloss= tensor(0.6035, device='cuda:0', grad_fn=<NllLossBackward0>)\n",
            "\tloss= tensor(0.8683, device='cuda:0', grad_fn=<NllLossBackward0>)\n",
            "\tloss= tensor(0.7191, device='cuda:0', grad_fn=<NllLossBackward0>)\n",
            "epoch 4\n",
            "\tloss= tensor(0.7122, device='cuda:0', grad_fn=<NllLossBackward0>)\n",
            "\tloss= tensor(0.8301, device='cuda:0', grad_fn=<NllLossBackward0>)\n",
            "\tloss= tensor(0.7684, device='cuda:0', grad_fn=<NllLossBackward0>)\n",
            "\tloss= tensor(0.7661, device='cuda:0', grad_fn=<NllLossBackward0>)\n",
            "\tloss= tensor(0.9906, device='cuda:0', grad_fn=<NllLossBackward0>)\n",
            "\tloss= tensor(0.9455, device='cuda:0', grad_fn=<NllLossBackward0>)\n",
            "\tloss= tensor(0.8297, device='cuda:0', grad_fn=<NllLossBackward0>)\n",
            "\tloss= tensor(0.7097, device='cuda:0', grad_fn=<NllLossBackward0>)\n",
            "\tloss= tensor(0.6655, device='cuda:0', grad_fn=<NllLossBackward0>)\n",
            "\tloss= tensor(0.8215, device='cuda:0', grad_fn=<NllLossBackward0>)\n",
            "\tloss= tensor(0.6071, device='cuda:0', grad_fn=<NllLossBackward0>)\n",
            "\tloss= tensor(0.8208, device='cuda:0', grad_fn=<NllLossBackward0>)\n",
            "[[ 836    0   22   14    6   33   14   13   25   20]\n",
            " [   1 1036   16   11    6   22   13   20   22   12]\n",
            " [   9   14  734   33   38   20   23   43   24   23]\n",
            " [  48    2   77  734    0  119    0    8   65   23]\n",
            " [   6    8   46    6  769   18   33    9   11  100]\n",
            " [  41    6    7  112   21  533   14    2   52   36]\n",
            " [  10    6   41    6   29   24  849    3   27    2]\n",
            " [   7    5   23   42    3   66    0  880   15   55]\n",
            " [  18   51   56   26   11   38   12   16  708   30]\n",
            " [   4    7   10   26   99   19    0   34   25  708]]\n",
            "0.7787\n"
          ]
        }
      ]
    },
    {
      "cell_type": "markdown",
      "metadata": {
        "id": "laPww2Bnurqy"
      },
      "source": [
        "**Q7 (moyenne) :** faites une fonction qui ajoute du bruit (pour chaque pixel, mettez le à 0 ou à 1 avec une petite probabilité - le bruit est différent pour chaque image train et test)\n"
      ]
    },
    {
      "cell_type": "code",
      "metadata": {
        "id": "-caGUzxVE5Hs"
      },
      "source": [
        "def addnoise(image,n=80):\n",
        "  noiserow = np.random.randint(0,32,size=n)\n",
        "  noisecol = np.random.randint(0,32,size=n)\n",
        "  randvalue = np.random.randint(0,2,size=n)\n",
        "  for i in range(n):\n",
        "    image[:,:,noiserow[i],noisecol[i]]=randvalue[i]\n",
        "  return image"
      ],
      "execution_count": 17,
      "outputs": []
    },
    {
      "cell_type": "markdown",
      "metadata": {
        "id": "QJzlLXTAEyql"
      },
      "source": [
        "**Q8 (facile)** : Regarder les images avant et après permutation -- pourriez vous (vous même) classer les images APRES permutation ??\n",
        "\n",
        "\n"
      ]
    },
    {
      "cell_type": "code",
      "metadata": {
        "colab": {
          "base_uri": "https://localhost:8080/",
          "height": 287
        },
        "id": "cGiAvpKQEyh9",
        "outputId": "d2353d7e-92bc-44f0-b413-40eb32aa1a14"
      },
      "source": [
        "sample = next(iter(trainloader))[0]\n",
        "print(sample.shape)\n",
        "sample = addnoise(sample)\n",
        "show(torchvision.utils.make_grid(sample))"
      ],
      "execution_count": 18,
      "outputs": [
        {
          "output_type": "stream",
          "name": "stdout",
          "text": [
            "torch.Size([64, 1, 32, 32])\n"
          ]
        },
        {
          "output_type": "display_data",
          "data": {
            "text/plain": [
              "<Figure size 432x288 with 1 Axes>"
            ],
            "image/png": "[encoded data removed]"
          },
          "metadata": {
            "needs_background": "light"
          }
        }
      ]
    },
    {
      "cell_type": "markdown",
      "metadata": {
        "id": "CekiyPfhEz2U"
      },
      "source": [
        "**Q9 (facile)** : Tester le MLP et le CNN -> cette fois c'est le CNN qui devrait être \"plutôt\" invariant (le bruit est +/- filtré par la convolution) alors que le MLP devrait être gêné par le bruit !"
      ]
    },
    {
      "cell_type": "code",
      "metadata": {
        "id": "WTA3zrQyxphh",
        "colab": {
          "base_uri": "https://localhost:8080/"
        },
        "outputId": "4ddc4d68-3d38-420f-93e3-683542020c06"
      },
      "source": [
        "monreseau = MonReseau()\n",
        "monreseau = monreseau.cuda()\n",
        "optimizer = optim.Adam(monreseau.parameters(), lr=0.00001)\n",
        "for epoch in range(nbepoch):\n",
        "  monreseau.train()\n",
        "  print(\"epoch\", epoch)\n",
        "  for inputs, targets in trainloader:   ## on itere sur les données \n",
        "    inputs, targets = addnoise(inputs).cuda(),targets.cuda()\n",
        "\n",
        "    mespredictions = monreseau(inputs)  ## on les fait rentrer dans le réseau\n",
        "    loss = criterion(mespredictions,targets)  ## on compare la sortie courante à la sortie voulue\n",
        "\n",
        "    optimizer.zero_grad() ## supprime les gradients courants\n",
        "    loss.backward() ## le gradient -- la magie par rapport à comment c'était long en cours :-)\n",
        "    optimizer.step() ## on actualise les poids pour que la sortie courante soit plus proche que la sortie voulue\n",
        "\n",
        "    if random.randint(0,90)==0:\n",
        "      print(\"\\tloss=\",loss) ## on affiche pour valider que ça diverge pas\n",
        "\n",
        "cm = np.zeros((10,10),dtype=int)\n",
        "monreseau.eval()\n",
        "with torch.no_grad():  ### ici pas besoin de calculer les gradients\n",
        "    for inputs, targets in testloader:\n",
        "        inputs = addnoise(inputs).cuda()\n",
        "        outputs = monreseau(inputs)\n",
        "        _,pred = outputs.max(1)\n",
        "        cm += confusion_matrix(pred.cpu().numpy(),targets.cpu().numpy(),labels = list(range(10)))      \n",
        "\n",
        "print(cm)\n",
        "print(accuracy(cm))\n",
        "\n",
        "monreseauCNN = MonReseauCNN()\n",
        "monreseauCNN = monreseauCNN.cuda()\n",
        "optimizerCNN = optim.Adam(monreseauCNN.parameters(), lr=0.00001)\n",
        "\n",
        "for epoch in range(nbepoch):\n",
        "    monreseauCNN.train()\n",
        "    print(\"epoch\", epoch)\n",
        "    for inputs, targets in trainloader:     ## on itere sur les données \n",
        "        inputs, targets = addnoise(inputs).cuda(),targets.cuda()\n",
        "\n",
        "        mespredictions = monreseauCNN(inputs)    ## on les fait rentrer dans le réseau\n",
        "        loss = criterion(mespredictions,targets)    ## on compare la sortie courante à la sortie voulue\n",
        "\n",
        "        optimizerCNN.zero_grad() ## supprime les gradients courants\n",
        "        loss.backward() ## le gradient -- la magie par rapport à comment c'était long en cours :-)\n",
        "        optimizerCNN.step() ## on actualise les poids pour que la sortie courante soit plus proche que la sortie voulue\n",
        "\n",
        "        if random.randint(0,90)==0:\n",
        "            print(\"\\tloss=\",loss) ## on affiche pour valider que ça diverge pas\n",
        "\n",
        "cm = np.zeros((10,10),dtype=int)\n",
        "monreseauCNN.eval()\n",
        "with torch.no_grad():  ### ici pas besoin de calculer les gradients\n",
        "    for inputs, targets in testloader:\n",
        "        inputs = addnoise(inputs).cuda()\n",
        "        outputs = monreseauCNN(inputs)\n",
        "        _,pred = outputs.max(1)\n",
        "        cm += confusion_matrix(pred.cpu().numpy(),targets.cpu().numpy(),labels = list(range(10)))\n",
        "\n",
        "print(cm)\n",
        "print(accuracy(cm))"
      ],
      "execution_count": 20,
      "outputs": [
        {
          "output_type": "stream",
          "name": "stdout",
          "text": [
            "epoch 0\n",
            "\tloss= tensor(2.2970, device='cuda:0', grad_fn=<NllLossBackward0>)\n",
            "\tloss= tensor(2.1892, device='cuda:0', grad_fn=<NllLossBackward0>)\n",
            "\tloss= tensor(1.7950, device='cuda:0', grad_fn=<NllLossBackward0>)\n",
            "\tloss= tensor(1.3125, device='cuda:0', grad_fn=<NllLossBackward0>)\n",
            "\tloss= tensor(0.9623, device='cuda:0', grad_fn=<NllLossBackward0>)\n",
            "\tloss= tensor(0.6768, device='cuda:0', grad_fn=<NllLossBackward0>)\n",
            "\tloss= tensor(0.6205, device='cuda:0', grad_fn=<NllLossBackward0>)\n",
            "\tloss= tensor(0.4988, device='cuda:0', grad_fn=<NllLossBackward0>)\n",
            "\tloss= tensor(0.4549, device='cuda:0', grad_fn=<NllLossBackward0>)\n",
            "\tloss= tensor(0.4555, device='cuda:0', grad_fn=<NllLossBackward0>)\n",
            "\tloss= tensor(0.6260, device='cuda:0', grad_fn=<NllLossBackward0>)\n",
            "epoch 1\n",
            "\tloss= tensor(0.3226, device='cuda:0', grad_fn=<NllLossBackward0>)\n",
            "\tloss= tensor(0.4951, device='cuda:0', grad_fn=<NllLossBackward0>)\n",
            "\tloss= tensor(0.2395, device='cuda:0', grad_fn=<NllLossBackward0>)\n",
            "\tloss= tensor(0.3703, device='cuda:0', grad_fn=<NllLossBackward0>)\n",
            "\tloss= tensor(0.2967, device='cuda:0', grad_fn=<NllLossBackward0>)\n",
            "\tloss= tensor(0.2474, device='cuda:0', grad_fn=<NllLossBackward0>)\n",
            "\tloss= tensor(0.2955, device='cuda:0', grad_fn=<NllLossBackward0>)\n",
            "\tloss= tensor(0.4140, device='cuda:0', grad_fn=<NllLossBackward0>)\n",
            "\tloss= tensor(0.5036, device='cuda:0', grad_fn=<NllLossBackward0>)\n",
            "\tloss= tensor(0.2997, device='cuda:0', grad_fn=<NllLossBackward0>)\n",
            "epoch 2\n",
            "\tloss= tensor(0.2766, device='cuda:0', grad_fn=<NllLossBackward0>)\n",
            "\tloss= tensor(0.3646, device='cuda:0', grad_fn=<NllLossBackward0>)\n",
            "\tloss= tensor(0.1711, device='cuda:0', grad_fn=<NllLossBackward0>)\n",
            "\tloss= tensor(0.3277, device='cuda:0', grad_fn=<NllLossBackward0>)\n",
            "\tloss= tensor(0.2223, device='cuda:0', grad_fn=<NllLossBackward0>)\n",
            "\tloss= tensor(0.3142, device='cuda:0', grad_fn=<NllLossBackward0>)\n",
            "\tloss= tensor(0.2138, device='cuda:0', grad_fn=<NllLossBackward0>)\n",
            "\tloss= tensor(0.3451, device='cuda:0', grad_fn=<NllLossBackward0>)\n",
            "\tloss= tensor(0.2775, device='cuda:0', grad_fn=<NllLossBackward0>)\n",
            "\tloss= tensor(0.3466, device='cuda:0', grad_fn=<NllLossBackward0>)\n",
            "epoch 3\n",
            "\tloss= tensor(0.2176, device='cuda:0', grad_fn=<NllLossBackward0>)\n",
            "\tloss= tensor(0.1658, device='cuda:0', grad_fn=<NllLossBackward0>)\n",
            "\tloss= tensor(0.5374, device='cuda:0', grad_fn=<NllLossBackward0>)\n",
            "\tloss= tensor(0.2154, device='cuda:0', grad_fn=<NllLossBackward0>)\n",
            "\tloss= tensor(0.3430, device='cuda:0', grad_fn=<NllLossBackward0>)\n",
            "\tloss= tensor(0.2296, device='cuda:0', grad_fn=<NllLossBackward0>)\n",
            "\tloss= tensor(0.3065, device='cuda:0', grad_fn=<NllLossBackward0>)\n",
            "\tloss= tensor(0.4627, device='cuda:0', grad_fn=<NllLossBackward0>)\n",
            "\tloss= tensor(0.4320, device='cuda:0', grad_fn=<NllLossBackward0>)\n",
            "\tloss= tensor(0.1803, device='cuda:0', grad_fn=<NllLossBackward0>)\n",
            "\tloss= tensor(0.1187, device='cuda:0', grad_fn=<NllLossBackward0>)\n",
            "\tloss= tensor(0.1744, device='cuda:0', grad_fn=<NllLossBackward0>)\n",
            "epoch 4\n",
            "\tloss= tensor(0.2324, device='cuda:0', grad_fn=<NllLossBackward0>)\n",
            "\tloss= tensor(0.3433, device='cuda:0', grad_fn=<NllLossBackward0>)\n",
            "\tloss= tensor(0.2992, device='cuda:0', grad_fn=<NllLossBackward0>)\n",
            "\tloss= tensor(0.2945, device='cuda:0', grad_fn=<NllLossBackward0>)\n",
            "\tloss= tensor(0.1851, device='cuda:0', grad_fn=<NllLossBackward0>)\n",
            "\tloss= tensor(0.1499, device='cuda:0', grad_fn=<NllLossBackward0>)\n",
            "\tloss= tensor(0.1526, device='cuda:0', grad_fn=<NllLossBackward0>)\n",
            "\tloss= tensor(0.1627, device='cuda:0', grad_fn=<NllLossBackward0>)\n",
            "\tloss= tensor(0.2580, device='cuda:0', grad_fn=<NllLossBackward0>)\n",
            "\tloss= tensor(0.4004, device='cuda:0', grad_fn=<NllLossBackward0>)\n",
            "\tloss= tensor(0.1734, device='cuda:0', grad_fn=<NllLossBackward0>)\n",
            "\tloss= tensor(0.3866, device='cuda:0', grad_fn=<NllLossBackward0>)\n",
            "\tloss= tensor(0.2741, device='cuda:0', grad_fn=<NllLossBackward0>)\n",
            "\tloss= tensor(0.2956, device='cuda:0', grad_fn=<NllLossBackward0>)\n",
            "\tloss= tensor(0.1707, device='cuda:0', grad_fn=<NllLossBackward0>)\n",
            "\tloss= tensor(0.4070, device='cuda:0', grad_fn=<NllLossBackward0>)\n",
            "[[ 962    0    7    2    2    7   16    2    7    7]\n",
            " [   0 1112    8    1    1    2    4   15    4   10]\n",
            " [   2    4  933   12    5    4    9   23    3    2]\n",
            " [   2    2   17  919    0   32    0    7   18   11]\n",
            " [   0    1   14    0  897    9   19    7    7   25]\n",
            " [   6    2    2   24    0  787   21    0   13    5]\n",
            " [   5    3    6    2    9   10  885    0    6    1]\n",
            " [   1    1   10   15    4    3    2  944    9   10]\n",
            " [   2   10   33   27    8   29    2    4  899    9]\n",
            " [   0    0    2    8   56    9    0   26    8  929]]\n",
            "0.9267\n",
            "epoch 0\n",
            "\tloss= tensor(2.2967, device='cuda:0', grad_fn=<NllLossBackward0>)\n",
            "\tloss= tensor(2.2901, device='cuda:0', grad_fn=<NllLossBackward0>)\n",
            "\tloss= tensor(2.2834, device='cuda:0', grad_fn=<NllLossBackward0>)\n",
            "\tloss= tensor(1.4142, device='cuda:0', grad_fn=<NllLossBackward0>)\n",
            "\tloss= tensor(1.1002, device='cuda:0', grad_fn=<NllLossBackward0>)\n",
            "epoch 1\n",
            "\tloss= tensor(0.8358, device='cuda:0', grad_fn=<NllLossBackward0>)\n",
            "\tloss= tensor(0.6434, device='cuda:0', grad_fn=<NllLossBackward0>)\n",
            "\tloss= tensor(0.7315, device='cuda:0', grad_fn=<NllLossBackward0>)\n",
            "\tloss= tensor(0.5439, device='cuda:0', grad_fn=<NllLossBackward0>)\n",
            "\tloss= tensor(0.5591, device='cuda:0', grad_fn=<NllLossBackward0>)\n",
            "\tloss= tensor(0.6357, device='cuda:0', grad_fn=<NllLossBackward0>)\n",
            "\tloss= tensor(0.5179, device='cuda:0', grad_fn=<NllLossBackward0>)\n",
            "\tloss= tensor(0.5440, device='cuda:0', grad_fn=<NllLossBackward0>)\n",
            "\tloss= tensor(0.5246, device='cuda:0', grad_fn=<NllLossBackward0>)\n",
            "\tloss= tensor(0.6649, device='cuda:0', grad_fn=<NllLossBackward0>)\n",
            "\tloss= tensor(0.6722, device='cuda:0', grad_fn=<NllLossBackward0>)\n",
            "\tloss= tensor(0.4947, device='cuda:0', grad_fn=<NllLossBackward0>)\n",
            "\tloss= tensor(0.4942, device='cuda:0', grad_fn=<NllLossBackward0>)\n",
            "\tloss= tensor(0.5699, device='cuda:0', grad_fn=<NllLossBackward0>)\n",
            "\tloss= tensor(0.6645, device='cuda:0', grad_fn=<NllLossBackward0>)\n",
            "\tloss= tensor(0.5685, device='cuda:0', grad_fn=<NllLossBackward0>)\n",
            "\tloss= tensor(0.4234, device='cuda:0', grad_fn=<NllLossBackward0>)\n",
            "epoch 2\n",
            "\tloss= tensor(0.4946, device='cuda:0', grad_fn=<NllLossBackward0>)\n",
            "\tloss= tensor(0.4362, device='cuda:0', grad_fn=<NllLossBackward0>)\n",
            "\tloss= tensor(0.4806, device='cuda:0', grad_fn=<NllLossBackward0>)\n",
            "\tloss= tensor(0.3597, device='cuda:0', grad_fn=<NllLossBackward0>)\n",
            "\tloss= tensor(0.4959, device='cuda:0', grad_fn=<NllLossBackward0>)\n",
            "\tloss= tensor(0.5581, device='cuda:0', grad_fn=<NllLossBackward0>)\n",
            "\tloss= tensor(0.5828, device='cuda:0', grad_fn=<NllLossBackward0>)\n",
            "\tloss= tensor(0.5076, device='cuda:0', grad_fn=<NllLossBackward0>)\n",
            "\tloss= tensor(0.3372, device='cuda:0', grad_fn=<NllLossBackward0>)\n",
            "\tloss= tensor(0.2491, device='cuda:0', grad_fn=<NllLossBackward0>)\n",
            "epoch 3\n",
            "\tloss= tensor(0.2564, device='cuda:0', grad_fn=<NllLossBackward0>)\n",
            "\tloss= tensor(0.3625, device='cuda:0', grad_fn=<NllLossBackward0>)\n",
            "\tloss= tensor(0.5398, device='cuda:0', grad_fn=<NllLossBackward0>)\n",
            "\tloss= tensor(0.2626, device='cuda:0', grad_fn=<NllLossBackward0>)\n",
            "\tloss= tensor(0.3813, device='cuda:0', grad_fn=<NllLossBackward0>)\n",
            "\tloss= tensor(0.3996, device='cuda:0', grad_fn=<NllLossBackward0>)\n",
            "\tloss= tensor(0.3192, device='cuda:0', grad_fn=<NllLossBackward0>)\n",
            "\tloss= tensor(0.2632, device='cuda:0', grad_fn=<NllLossBackward0>)\n",
            "\tloss= tensor(0.5601, device='cuda:0', grad_fn=<NllLossBackward0>)\n",
            "\tloss= tensor(0.3375, device='cuda:0', grad_fn=<NllLossBackward0>)\n",
            "epoch 4\n",
            "\tloss= tensor(0.4406, device='cuda:0', grad_fn=<NllLossBackward0>)\n",
            "\tloss= tensor(0.6690, device='cuda:0', grad_fn=<NllLossBackward0>)\n",
            "\tloss= tensor(0.4219, device='cuda:0', grad_fn=<NllLossBackward0>)\n",
            "\tloss= tensor(0.3272, device='cuda:0', grad_fn=<NllLossBackward0>)\n",
            "\tloss= tensor(0.4544, device='cuda:0', grad_fn=<NllLossBackward0>)\n",
            "\tloss= tensor(0.4745, device='cuda:0', grad_fn=<NllLossBackward0>)\n",
            "\tloss= tensor(0.4458, device='cuda:0', grad_fn=<NllLossBackward0>)\n",
            "\tloss= tensor(0.4871, device='cuda:0', grad_fn=<NllLossBackward0>)\n",
            "\tloss= tensor(0.2554, device='cuda:0', grad_fn=<NllLossBackward0>)\n",
            "\tloss= tensor(0.5316, device='cuda:0', grad_fn=<NllLossBackward0>)\n",
            "\tloss= tensor(0.3167, device='cuda:0', grad_fn=<NllLossBackward0>)\n",
            "\tloss= tensor(0.3708, device='cuda:0', grad_fn=<NllLossBackward0>)\n",
            "[[ 944    0   13    6    2    8   12    1    6   10]\n",
            " [   0 1092    4    6    4   12    6   16    8    6]\n",
            " [   1    3  894   17    5    5    3   28    7    7]\n",
            " [   3    8   16  899    0   47    1    6   46   10]\n",
            " [   0    1   18    0  849   17   11    5   12   28]\n",
            " [  14    5    5   30    2  743   23    0   35    5]\n",
            " [  11    4   25    2   23   16  896    0    8    0]\n",
            " [   1    0   17   19    5    3    4  906   13   25]\n",
            " [   6   22   37   24    6   32    2    9  822   14]\n",
            " [   0    0    3    7   86    9    0   57   17  904]]\n",
            "0.8949\n"
          ]
        }
      ]
    },
    {
      "cell_type": "markdown",
      "metadata": {
        "id": "QYYZMfsixq7g"
      },
      "source": [
        "## conclusion\n",
        "\n",
        "**-> se souvenir que si on prend TOUS les problèmes, tous les algos de classification sont tous aussi mauvais**\n",
        "\n",
        "**-> ce qui compte c'est qu'ils soient adaptés aux données qu'on peut réellement rencontrer**\n",
        "\n",
        "**En comparant les images avec permutation des pixels vs avec un bruit... Vous pouvez comprendre pourquoi le CNN est plus adapté à l'image naturelle \n",
        "que le MLP !**"
      ]
    }
  ]
}