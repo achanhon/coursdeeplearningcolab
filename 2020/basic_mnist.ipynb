{
  "nbformat": 4,
  "nbformat_minor": 0,
  "metadata": {
    "colab": {
      "name": "Untitled6.ipynb",
      "provenance": [],
      "collapsed_sections": [],
      "include_colab_link": true
    },
    "kernelspec": {
      "name": "python3",
      "display_name": "Python 3"
    },
    "accelerator": "GPU",
    "widgets": {
      "application/vnd.jupyter.widget-state+json": {
        "55d540954ee34e36ad1a3c5918f032d5": {
          "model_module": "@jupyter-widgets/controls",
          "model_name": "HBoxModel",
          "state": {
            "_view_name": "HBoxView",
            "_dom_classes": [],
            "_model_name": "HBoxModel",
            "_view_module": "@jupyter-widgets/controls",
            "_model_module_version": "1.5.0",
            "_view_count": null,
            "_view_module_version": "1.5.0",
            "box_style": "",
            "layout": "IPY_MODEL_b107ff8e6da743ad8289fd6baa8b31d0",
            "_model_module": "@jupyter-widgets/controls",
            "children": [
              "IPY_MODEL_30db43e955cf435480f0cb10798b267c",
              "IPY_MODEL_842b381cb72f4abeaff07b210f34231c"
            ]
          }
        },
        "b107ff8e6da743ad8289fd6baa8b31d0": {
          "model_module": "@jupyter-widgets/base",
          "model_name": "LayoutModel",
          "state": {
            "_view_name": "LayoutView",
            "grid_template_rows": null,
            "right": null,
            "justify_content": null,
            "_view_module": "@jupyter-widgets/base",
            "overflow": null,
            "_model_module_version": "1.2.0",
            "_view_count": null,
            "flex_flow": null,
            "width": null,
            "min_width": null,
            "border": null,
            "align_items": null,
            "bottom": null,
            "_model_module": "@jupyter-widgets/base",
            "top": null,
            "grid_column": null,
            "overflow_y": null,
            "overflow_x": null,
            "grid_auto_flow": null,
            "grid_area": null,
            "grid_template_columns": null,
            "flex": null,
            "_model_name": "LayoutModel",
            "justify_items": null,
            "grid_row": null,
            "max_height": null,
            "align_content": null,
            "visibility": null,
            "align_self": null,
            "height": null,
            "min_height": null,
            "padding": null,
            "grid_auto_rows": null,
            "grid_gap": null,
            "max_width": null,
            "order": null,
            "_view_module_version": "1.2.0",
            "grid_template_areas": null,
            "object_position": null,
            "object_fit": null,
            "grid_auto_columns": null,
            "margin": null,
            "display": null,
            "left": null
          }
        },
        "30db43e955cf435480f0cb10798b267c": {
          "model_module": "@jupyter-widgets/controls",
          "model_name": "FloatProgressModel",
          "state": {
            "_view_name": "ProgressView",
            "style": "IPY_MODEL_f69913dab79847e99a6c332e12339a48",
            "_dom_classes": [],
            "description": "",
            "_model_name": "FloatProgressModel",
            "bar_style": "success",
            "max": 1,
            "_view_module": "@jupyter-widgets/controls",
            "_model_module_version": "1.5.0",
            "value": 1,
            "_view_count": null,
            "_view_module_version": "1.5.0",
            "orientation": "horizontal",
            "min": 0,
            "description_tooltip": null,
            "_model_module": "@jupyter-widgets/controls",
            "layout": "IPY_MODEL_06763b1653204ed5ba3f0d5d0726adf5"
          }
        },
        "842b381cb72f4abeaff07b210f34231c": {
          "model_module": "@jupyter-widgets/controls",
          "model_name": "HTMLModel",
          "state": {
            "_view_name": "HTMLView",
            "style": "IPY_MODEL_582cc707333642ed949d42716b4954c8",
            "_dom_classes": [],
            "description": "",
            "_model_name": "HTMLModel",
            "placeholder": "​",
            "_view_module": "@jupyter-widgets/controls",
            "_model_module_version": "1.5.0",
            "value": " 9920512/? [00:03&lt;00:00, 3033513.96it/s]",
            "_view_count": null,
            "_view_module_version": "1.5.0",
            "description_tooltip": null,
            "_model_module": "@jupyter-widgets/controls",
            "layout": "IPY_MODEL_c858267070a04b109b31f74f31546bef"
          }
        },
        "f69913dab79847e99a6c332e12339a48": {
          "model_module": "@jupyter-widgets/controls",
          "model_name": "ProgressStyleModel",
          "state": {
            "_view_name": "StyleView",
            "_model_name": "ProgressStyleModel",
            "description_width": "initial",
            "_view_module": "@jupyter-widgets/base",
            "_model_module_version": "1.5.0",
            "_view_count": null,
            "_view_module_version": "1.2.0",
            "bar_color": null,
            "_model_module": "@jupyter-widgets/controls"
          }
        },
        "06763b1653204ed5ba3f0d5d0726adf5": {
          "model_module": "@jupyter-widgets/base",
          "model_name": "LayoutModel",
          "state": {
            "_view_name": "LayoutView",
            "grid_template_rows": null,
            "right": null,
            "justify_content": null,
            "_view_module": "@jupyter-widgets/base",
            "overflow": null,
            "_model_module_version": "1.2.0",
            "_view_count": null,
            "flex_flow": null,
            "width": null,
            "min_width": null,
            "border": null,
            "align_items": null,
            "bottom": null,
            "_model_module": "@jupyter-widgets/base",
            "top": null,
            "grid_column": null,
            "overflow_y": null,
            "overflow_x": null,
            "grid_auto_flow": null,
            "grid_area": null,
            "grid_template_columns": null,
            "flex": null,
            "_model_name": "LayoutModel",
            "justify_items": null,
            "grid_row": null,
            "max_height": null,
            "align_content": null,
            "visibility": null,
            "align_self": null,
            "height": null,
            "min_height": null,
            "padding": null,
            "grid_auto_rows": null,
            "grid_gap": null,
            "max_width": null,
            "order": null,
            "_view_module_version": "1.2.0",
            "grid_template_areas": null,
            "object_position": null,
            "object_fit": null,
            "grid_auto_columns": null,
            "margin": null,
            "display": null,
            "left": null
          }
        },
        "582cc707333642ed949d42716b4954c8": {
          "model_module": "@jupyter-widgets/controls",
          "model_name": "DescriptionStyleModel",
          "state": {
            "_view_name": "StyleView",
            "_model_name": "DescriptionStyleModel",
            "description_width": "",
            "_view_module": "@jupyter-widgets/base",
            "_model_module_version": "1.5.0",
            "_view_count": null,
            "_view_module_version": "1.2.0",
            "_model_module": "@jupyter-widgets/controls"
          }
        },
        "c858267070a04b109b31f74f31546bef": {
          "model_module": "@jupyter-widgets/base",
          "model_name": "LayoutModel",
          "state": {
            "_view_name": "LayoutView",
            "grid_template_rows": null,
            "right": null,
            "justify_content": null,
            "_view_module": "@jupyter-widgets/base",
            "overflow": null,
            "_model_module_version": "1.2.0",
            "_view_count": null,
            "flex_flow": null,
            "width": null,
            "min_width": null,
            "border": null,
            "align_items": null,
            "bottom": null,
            "_model_module": "@jupyter-widgets/base",
            "top": null,
            "grid_column": null,
            "overflow_y": null,
            "overflow_x": null,
            "grid_auto_flow": null,
            "grid_area": null,
            "grid_template_columns": null,
            "flex": null,
            "_model_name": "LayoutModel",
            "justify_items": null,
            "grid_row": null,
            "max_height": null,
            "align_content": null,
            "visibility": null,
            "align_self": null,
            "height": null,
            "min_height": null,
            "padding": null,
            "grid_auto_rows": null,
            "grid_gap": null,
            "max_width": null,
            "order": null,
            "_view_module_version": "1.2.0",
            "grid_template_areas": null,
            "object_position": null,
            "object_fit": null,
            "grid_auto_columns": null,
            "margin": null,
            "display": null,
            "left": null
          }
        },
        "5981605721074452bbc35aec39822884": {
          "model_module": "@jupyter-widgets/controls",
          "model_name": "HBoxModel",
          "state": {
            "_view_name": "HBoxView",
            "_dom_classes": [],
            "_model_name": "HBoxModel",
            "_view_module": "@jupyter-widgets/controls",
            "_model_module_version": "1.5.0",
            "_view_count": null,
            "_view_module_version": "1.5.0",
            "box_style": "",
            "layout": "IPY_MODEL_0107e2f83cf644f680553490e04c1f38",
            "_model_module": "@jupyter-widgets/controls",
            "children": [
              "IPY_MODEL_363cc4e7f9c94917a957527da8f07304",
              "IPY_MODEL_97bfcb90e7b948129093e679dc501fbf"
            ]
          }
        },
        "0107e2f83cf644f680553490e04c1f38": {
          "model_module": "@jupyter-widgets/base",
          "model_name": "LayoutModel",
          "state": {
            "_view_name": "LayoutView",
            "grid_template_rows": null,
            "right": null,
            "justify_content": null,
            "_view_module": "@jupyter-widgets/base",
            "overflow": null,
            "_model_module_version": "1.2.0",
            "_view_count": null,
            "flex_flow": null,
            "width": null,
            "min_width": null,
            "border": null,
            "align_items": null,
            "bottom": null,
            "_model_module": "@jupyter-widgets/base",
            "top": null,
            "grid_column": null,
            "overflow_y": null,
            "overflow_x": null,
            "grid_auto_flow": null,
            "grid_area": null,
            "grid_template_columns": null,
            "flex": null,
            "_model_name": "LayoutModel",
            "justify_items": null,
            "grid_row": null,
            "max_height": null,
            "align_content": null,
            "visibility": null,
            "align_self": null,
            "height": null,
            "min_height": null,
            "padding": null,
            "grid_auto_rows": null,
            "grid_gap": null,
            "max_width": null,
            "order": null,
            "_view_module_version": "1.2.0",
            "grid_template_areas": null,
            "object_position": null,
            "object_fit": null,
            "grid_auto_columns": null,
            "margin": null,
            "display": null,
            "left": null
          }
        },
        "363cc4e7f9c94917a957527da8f07304": {
          "model_module": "@jupyter-widgets/controls",
          "model_name": "FloatProgressModel",
          "state": {
            "_view_name": "ProgressView",
            "style": "IPY_MODEL_88717f57f0934344b464bf964e38deab",
            "_dom_classes": [],
            "description": "",
            "_model_name": "FloatProgressModel",
            "bar_style": "success",
            "max": 1,
            "_view_module": "@jupyter-widgets/controls",
            "_model_module_version": "1.5.0",
            "value": 1,
            "_view_count": null,
            "_view_module_version": "1.5.0",
            "orientation": "horizontal",
            "min": 0,
            "description_tooltip": null,
            "_model_module": "@jupyter-widgets/controls",
            "layout": "IPY_MODEL_12aff81c80b84507a6091355c1a587f5"
          }
        },
        "97bfcb90e7b948129093e679dc501fbf": {
          "model_module": "@jupyter-widgets/controls",
          "model_name": "HTMLModel",
          "state": {
            "_view_name": "HTMLView",
            "style": "IPY_MODEL_10cf69c420254201a3ffafbdcff4b6b2",
            "_dom_classes": [],
            "description": "",
            "_model_name": "HTMLModel",
            "placeholder": "​",
            "_view_module": "@jupyter-widgets/controls",
            "_model_module_version": "1.5.0",
            "value": " 32768/? [00:01&lt;00:00, 17998.93it/s]",
            "_view_count": null,
            "_view_module_version": "1.5.0",
            "description_tooltip": null,
            "_model_module": "@jupyter-widgets/controls",
            "layout": "IPY_MODEL_f3f0e9f313184cb3b69317212a70564a"
          }
        },
        "88717f57f0934344b464bf964e38deab": {
          "model_module": "@jupyter-widgets/controls",
          "model_name": "ProgressStyleModel",
          "state": {
            "_view_name": "StyleView",
            "_model_name": "ProgressStyleModel",
            "description_width": "initial",
            "_view_module": "@jupyter-widgets/base",
            "_model_module_version": "1.5.0",
            "_view_count": null,
            "_view_module_version": "1.2.0",
            "bar_color": null,
            "_model_module": "@jupyter-widgets/controls"
          }
        },
        "12aff81c80b84507a6091355c1a587f5": {
          "model_module": "@jupyter-widgets/base",
          "model_name": "LayoutModel",
          "state": {
            "_view_name": "LayoutView",
            "grid_template_rows": null,
            "right": null,
            "justify_content": null,
            "_view_module": "@jupyter-widgets/base",
            "overflow": null,
            "_model_module_version": "1.2.0",
            "_view_count": null,
            "flex_flow": null,
            "width": null,
            "min_width": null,
            "border": null,
            "align_items": null,
            "bottom": null,
            "_model_module": "@jupyter-widgets/base",
            "top": null,
            "grid_column": null,
            "overflow_y": null,
            "overflow_x": null,
            "grid_auto_flow": null,
            "grid_area": null,
            "grid_template_columns": null,
            "flex": null,
            "_model_name": "LayoutModel",
            "justify_items": null,
            "grid_row": null,
            "max_height": null,
            "align_content": null,
            "visibility": null,
            "align_self": null,
            "height": null,
            "min_height": null,
            "padding": null,
            "grid_auto_rows": null,
            "grid_gap": null,
            "max_width": null,
            "order": null,
            "_view_module_version": "1.2.0",
            "grid_template_areas": null,
            "object_position": null,
            "object_fit": null,
            "grid_auto_columns": null,
            "margin": null,
            "display": null,
            "left": null
          }
        },
        "10cf69c420254201a3ffafbdcff4b6b2": {
          "model_module": "@jupyter-widgets/controls",
          "model_name": "DescriptionStyleModel",
          "state": {
            "_view_name": "StyleView",
            "_model_name": "DescriptionStyleModel",
            "description_width": "",
            "_view_module": "@jupyter-widgets/base",
            "_model_module_version": "1.5.0",
            "_view_count": null,
            "_view_module_version": "1.2.0",
            "_model_module": "@jupyter-widgets/controls"
          }
        },
        "f3f0e9f313184cb3b69317212a70564a": {
          "model_module": "@jupyter-widgets/base",
          "model_name": "LayoutModel",
          "state": {
            "_view_name": "LayoutView",
            "grid_template_rows": null,
            "right": null,
            "justify_content": null,
            "_view_module": "@jupyter-widgets/base",
            "overflow": null,
            "_model_module_version": "1.2.0",
            "_view_count": null,
            "flex_flow": null,
            "width": null,
            "min_width": null,
            "border": null,
            "align_items": null,
            "bottom": null,
            "_model_module": "@jupyter-widgets/base",
            "top": null,
            "grid_column": null,
            "overflow_y": null,
            "overflow_x": null,
            "grid_auto_flow": null,
            "grid_area": null,
            "grid_template_columns": null,
            "flex": null,
            "_model_name": "LayoutModel",
            "justify_items": null,
            "grid_row": null,
            "max_height": null,
            "align_content": null,
            "visibility": null,
            "align_self": null,
            "height": null,
            "min_height": null,
            "padding": null,
            "grid_auto_rows": null,
            "grid_gap": null,
            "max_width": null,
            "order": null,
            "_view_module_version": "1.2.0",
            "grid_template_areas": null,
            "object_position": null,
            "object_fit": null,
            "grid_auto_columns": null,
            "margin": null,
            "display": null,
            "left": null
          }
        },
        "d27df079e9564e16b5203827bc4eedd9": {
          "model_module": "@jupyter-widgets/controls",
          "model_name": "HBoxModel",
          "state": {
            "_view_name": "HBoxView",
            "_dom_classes": [],
            "_model_name": "HBoxModel",
            "_view_module": "@jupyter-widgets/controls",
            "_model_module_version": "1.5.0",
            "_view_count": null,
            "_view_module_version": "1.5.0",
            "box_style": "",
            "layout": "IPY_MODEL_25dffd14fa0f47a39bdd8b51b52ea4f3",
            "_model_module": "@jupyter-widgets/controls",
            "children": [
              "IPY_MODEL_2431632d7bc047e2b8d24f5431ceccf8",
              "IPY_MODEL_622a327b9aa74aa88d7a2395b3804527"
            ]
          }
        },
        "25dffd14fa0f47a39bdd8b51b52ea4f3": {
          "model_module": "@jupyter-widgets/base",
          "model_name": "LayoutModel",
          "state": {
            "_view_name": "LayoutView",
            "grid_template_rows": null,
            "right": null,
            "justify_content": null,
            "_view_module": "@jupyter-widgets/base",
            "overflow": null,
            "_model_module_version": "1.2.0",
            "_view_count": null,
            "flex_flow": null,
            "width": null,
            "min_width": null,
            "border": null,
            "align_items": null,
            "bottom": null,
            "_model_module": "@jupyter-widgets/base",
            "top": null,
            "grid_column": null,
            "overflow_y": null,
            "overflow_x": null,
            "grid_auto_flow": null,
            "grid_area": null,
            "grid_template_columns": null,
            "flex": null,
            "_model_name": "LayoutModel",
            "justify_items": null,
            "grid_row": null,
            "max_height": null,
            "align_content": null,
            "visibility": null,
            "align_self": null,
            "height": null,
            "min_height": null,
            "padding": null,
            "grid_auto_rows": null,
            "grid_gap": null,
            "max_width": null,
            "order": null,
            "_view_module_version": "1.2.0",
            "grid_template_areas": null,
            "object_position": null,
            "object_fit": null,
            "grid_auto_columns": null,
            "margin": null,
            "display": null,
            "left": null
          }
        },
        "2431632d7bc047e2b8d24f5431ceccf8": {
          "model_module": "@jupyter-widgets/controls",
          "model_name": "FloatProgressModel",
          "state": {
            "_view_name": "ProgressView",
            "style": "IPY_MODEL_452f718b448b4db69a04a2bffc8171f9",
            "_dom_classes": [],
            "description": "",
            "_model_name": "FloatProgressModel",
            "bar_style": "success",
            "max": 1,
            "_view_module": "@jupyter-widgets/controls",
            "_model_module_version": "1.5.0",
            "value": 1,
            "_view_count": null,
            "_view_module_version": "1.5.0",
            "orientation": "horizontal",
            "min": 0,
            "description_tooltip": null,
            "_model_module": "@jupyter-widgets/controls",
            "layout": "IPY_MODEL_799dfca5498c4085865ebd041b8c343d"
          }
        },
        "622a327b9aa74aa88d7a2395b3804527": {
          "model_module": "@jupyter-widgets/controls",
          "model_name": "HTMLModel",
          "state": {
            "_view_name": "HTMLView",
            "style": "IPY_MODEL_207182d74bdf4b25a60c70587d0e2d47",
            "_dom_classes": [],
            "description": "",
            "_model_name": "HTMLModel",
            "placeholder": "​",
            "_view_module": "@jupyter-widgets/controls",
            "_model_module_version": "1.5.0",
            "value": " 1654784/? [00:01&lt;00:00, 1343240.19it/s]",
            "_view_count": null,
            "_view_module_version": "1.5.0",
            "description_tooltip": null,
            "_model_module": "@jupyter-widgets/controls",
            "layout": "IPY_MODEL_bf35bce0693e4bcfba0c0bf5273ab585"
          }
        },
        "452f718b448b4db69a04a2bffc8171f9": {
          "model_module": "@jupyter-widgets/controls",
          "model_name": "ProgressStyleModel",
          "state": {
            "_view_name": "StyleView",
            "_model_name": "ProgressStyleModel",
            "description_width": "initial",
            "_view_module": "@jupyter-widgets/base",
            "_model_module_version": "1.5.0",
            "_view_count": null,
            "_view_module_version": "1.2.0",
            "bar_color": null,
            "_model_module": "@jupyter-widgets/controls"
          }
        },
        "799dfca5498c4085865ebd041b8c343d": {
          "model_module": "@jupyter-widgets/base",
          "model_name": "LayoutModel",
          "state": {
            "_view_name": "LayoutView",
            "grid_template_rows": null,
            "right": null,
            "justify_content": null,
            "_view_module": "@jupyter-widgets/base",
            "overflow": null,
            "_model_module_version": "1.2.0",
            "_view_count": null,
            "flex_flow": null,
            "width": null,
            "min_width": null,
            "border": null,
            "align_items": null,
            "bottom": null,
            "_model_module": "@jupyter-widgets/base",
            "top": null,
            "grid_column": null,
            "overflow_y": null,
            "overflow_x": null,
            "grid_auto_flow": null,
            "grid_area": null,
            "grid_template_columns": null,
            "flex": null,
            "_model_name": "LayoutModel",
            "justify_items": null,
            "grid_row": null,
            "max_height": null,
            "align_content": null,
            "visibility": null,
            "align_self": null,
            "height": null,
            "min_height": null,
            "padding": null,
            "grid_auto_rows": null,
            "grid_gap": null,
            "max_width": null,
            "order": null,
            "_view_module_version": "1.2.0",
            "grid_template_areas": null,
            "object_position": null,
            "object_fit": null,
            "grid_auto_columns": null,
            "margin": null,
            "display": null,
            "left": null
          }
        },
        "207182d74bdf4b25a60c70587d0e2d47": {
          "model_module": "@jupyter-widgets/controls",
          "model_name": "DescriptionStyleModel",
          "state": {
            "_view_name": "StyleView",
            "_model_name": "DescriptionStyleModel",
            "description_width": "",
            "_view_module": "@jupyter-widgets/base",
            "_model_module_version": "1.5.0",
            "_view_count": null,
            "_view_module_version": "1.2.0",
            "_model_module": "@jupyter-widgets/controls"
          }
        },
        "bf35bce0693e4bcfba0c0bf5273ab585": {
          "model_module": "@jupyter-widgets/base",
          "model_name": "LayoutModel",
          "state": {
            "_view_name": "LayoutView",
            "grid_template_rows": null,
            "right": null,
            "justify_content": null,
            "_view_module": "@jupyter-widgets/base",
            "overflow": null,
            "_model_module_version": "1.2.0",
            "_view_count": null,
            "flex_flow": null,
            "width": null,
            "min_width": null,
            "border": null,
            "align_items": null,
            "bottom": null,
            "_model_module": "@jupyter-widgets/base",
            "top": null,
            "grid_column": null,
            "overflow_y": null,
            "overflow_x": null,
            "grid_auto_flow": null,
            "grid_area": null,
            "grid_template_columns": null,
            "flex": null,
            "_model_name": "LayoutModel",
            "justify_items": null,
            "grid_row": null,
            "max_height": null,
            "align_content": null,
            "visibility": null,
            "align_self": null,
            "height": null,
            "min_height": null,
            "padding": null,
            "grid_auto_rows": null,
            "grid_gap": null,
            "max_width": null,
            "order": null,
            "_view_module_version": "1.2.0",
            "grid_template_areas": null,
            "object_position": null,
            "object_fit": null,
            "grid_auto_columns": null,
            "margin": null,
            "display": null,
            "left": null
          }
        },
        "7ad02d82a4094b71a8138af83227e309": {
          "model_module": "@jupyter-widgets/controls",
          "model_name": "HBoxModel",
          "state": {
            "_view_name": "HBoxView",
            "_dom_classes": [],
            "_model_name": "HBoxModel",
            "_view_module": "@jupyter-widgets/controls",
            "_model_module_version": "1.5.0",
            "_view_count": null,
            "_view_module_version": "1.5.0",
            "box_style": "",
            "layout": "IPY_MODEL_1ec10c58648a4873be6fe2baa50b4f47",
            "_model_module": "@jupyter-widgets/controls",
            "children": [
              "IPY_MODEL_db29b92107164170b47b0ff4f377d7a2",
              "IPY_MODEL_47b9abb85eea4b64915c0faa27ca2ab4"
            ]
          }
        },
        "1ec10c58648a4873be6fe2baa50b4f47": {
          "model_module": "@jupyter-widgets/base",
          "model_name": "LayoutModel",
          "state": {
            "_view_name": "LayoutView",
            "grid_template_rows": null,
            "right": null,
            "justify_content": null,
            "_view_module": "@jupyter-widgets/base",
            "overflow": null,
            "_model_module_version": "1.2.0",
            "_view_count": null,
            "flex_flow": null,
            "width": null,
            "min_width": null,
            "border": null,
            "align_items": null,
            "bottom": null,
            "_model_module": "@jupyter-widgets/base",
            "top": null,
            "grid_column": null,
            "overflow_y": null,
            "overflow_x": null,
            "grid_auto_flow": null,
            "grid_area": null,
            "grid_template_columns": null,
            "flex": null,
            "_model_name": "LayoutModel",
            "justify_items": null,
            "grid_row": null,
            "max_height": null,
            "align_content": null,
            "visibility": null,
            "align_self": null,
            "height": null,
            "min_height": null,
            "padding": null,
            "grid_auto_rows": null,
            "grid_gap": null,
            "max_width": null,
            "order": null,
            "_view_module_version": "1.2.0",
            "grid_template_areas": null,
            "object_position": null,
            "object_fit": null,
            "grid_auto_columns": null,
            "margin": null,
            "display": null,
            "left": null
          }
        },
        "db29b92107164170b47b0ff4f377d7a2": {
          "model_module": "@jupyter-widgets/controls",
          "model_name": "FloatProgressModel",
          "state": {
            "_view_name": "ProgressView",
            "style": "IPY_MODEL_b9d9891241924e72a7ac943eab632155",
            "_dom_classes": [],
            "description": "",
            "_model_name": "FloatProgressModel",
            "bar_style": "success",
            "max": 1,
            "_view_module": "@jupyter-widgets/controls",
            "_model_module_version": "1.5.0",
            "value": 1,
            "_view_count": null,
            "_view_module_version": "1.5.0",
            "orientation": "horizontal",
            "min": 0,
            "description_tooltip": null,
            "_model_module": "@jupyter-widgets/controls",
            "layout": "IPY_MODEL_c239c3e1f9494cb0a01d33423ee88bcc"
          }
        },
        "47b9abb85eea4b64915c0faa27ca2ab4": {
          "model_module": "@jupyter-widgets/controls",
          "model_name": "HTMLModel",
          "state": {
            "_view_name": "HTMLView",
            "style": "IPY_MODEL_6dcfbab7b88b4bef94282d6eeed4adf3",
            "_dom_classes": [],
            "description": "",
            "_model_name": "HTMLModel",
            "placeholder": "​",
            "_view_module": "@jupyter-widgets/controls",
            "_model_module_version": "1.5.0",
            "value": " 8192/? [00:00&lt;00:00, 18044.60it/s]",
            "_view_count": null,
            "_view_module_version": "1.5.0",
            "description_tooltip": null,
            "_model_module": "@jupyter-widgets/controls",
            "layout": "IPY_MODEL_74a5b2561efc43f6b665f7a9c6369e5b"
          }
        },
        "b9d9891241924e72a7ac943eab632155": {
          "model_module": "@jupyter-widgets/controls",
          "model_name": "ProgressStyleModel",
          "state": {
            "_view_name": "StyleView",
            "_model_name": "ProgressStyleModel",
            "description_width": "initial",
            "_view_module": "@jupyter-widgets/base",
            "_model_module_version": "1.5.0",
            "_view_count": null,
            "_view_module_version": "1.2.0",
            "bar_color": null,
            "_model_module": "@jupyter-widgets/controls"
          }
        },
        "c239c3e1f9494cb0a01d33423ee88bcc": {
          "model_module": "@jupyter-widgets/base",
          "model_name": "LayoutModel",
          "state": {
            "_view_name": "LayoutView",
            "grid_template_rows": null,
            "right": null,
            "justify_content": null,
            "_view_module": "@jupyter-widgets/base",
            "overflow": null,
            "_model_module_version": "1.2.0",
            "_view_count": null,
            "flex_flow": null,
            "width": null,
            "min_width": null,
            "border": null,
            "align_items": null,
            "bottom": null,
            "_model_module": "@jupyter-widgets/base",
            "top": null,
            "grid_column": null,
            "overflow_y": null,
            "overflow_x": null,
            "grid_auto_flow": null,
            "grid_area": null,
            "grid_template_columns": null,
            "flex": null,
            "_model_name": "LayoutModel",
            "justify_items": null,
            "grid_row": null,
            "max_height": null,
            "align_content": null,
            "visibility": null,
            "align_self": null,
            "height": null,
            "min_height": null,
            "padding": null,
            "grid_auto_rows": null,
            "grid_gap": null,
            "max_width": null,
            "order": null,
            "_view_module_version": "1.2.0",
            "grid_template_areas": null,
            "object_position": null,
            "object_fit": null,
            "grid_auto_columns": null,
            "margin": null,
            "display": null,
            "left": null
          }
        },
        "6dcfbab7b88b4bef94282d6eeed4adf3": {
          "model_module": "@jupyter-widgets/controls",
          "model_name": "DescriptionStyleModel",
          "state": {
            "_view_name": "StyleView",
            "_model_name": "DescriptionStyleModel",
            "description_width": "",
            "_view_module": "@jupyter-widgets/base",
            "_model_module_version": "1.5.0",
            "_view_count": null,
            "_view_module_version": "1.2.0",
            "_model_module": "@jupyter-widgets/controls"
          }
        },
        "74a5b2561efc43f6b665f7a9c6369e5b": {
          "model_module": "@jupyter-widgets/base",
          "model_name": "LayoutModel",
          "state": {
            "_view_name": "LayoutView",
            "grid_template_rows": null,
            "right": null,
            "justify_content": null,
            "_view_module": "@jupyter-widgets/base",
            "overflow": null,
            "_model_module_version": "1.2.0",
            "_view_count": null,
            "flex_flow": null,
            "width": null,
            "min_width": null,
            "border": null,
            "align_items": null,
            "bottom": null,
            "_model_module": "@jupyter-widgets/base",
            "top": null,
            "grid_column": null,
            "overflow_y": null,
            "overflow_x": null,
            "grid_auto_flow": null,
            "grid_area": null,
            "grid_template_columns": null,
            "flex": null,
            "_model_name": "LayoutModel",
            "justify_items": null,
            "grid_row": null,
            "max_height": null,
            "align_content": null,
            "visibility": null,
            "align_self": null,
            "height": null,
            "min_height": null,
            "padding": null,
            "grid_auto_rows": null,
            "grid_gap": null,
            "max_width": null,
            "order": null,
            "_view_module_version": "1.2.0",
            "grid_template_areas": null,
            "object_position": null,
            "object_fit": null,
            "grid_auto_columns": null,
            "margin": null,
            "display": null,
            "left": null
          }
        }
      }
    }
  },
  "cells": [
    {
      "cell_type": "markdown",
      "metadata": {
        "id": "view-in-github",
        "colab_type": "text"
      },
      "source": [
        "<a href=\"https://colab.research.google.com/github/achanhon/coursdeeplearningcolab/blob/master/2020/basic_mnist.ipynb\" target=\"_parent\"><img src=\"https://colab.research.google.com/assets/colab-badge.svg\" alt=\"Open In Colab\"/></a>"
      ]
    },
    {
      "cell_type": "markdown",
      "metadata": {
        "id": "UTUF2gpAcOr5"
      },
      "source": [
        "# TP deep learning\n",
        "\n",
        "L'objectif de ce tp est de manipuler les algorithmes de deep learning.\n",
        "\n",
        "Cependant, il faut bien voir que tuner un réseau est une tache complexe principalement à cause du temps nécessaire pour réaliser un apprentissage...\n",
        "\n",
        "Aussi, l'axe choisi est d'insister sur la différence MLP vs CNN à travers des codes simples d'apprentissage.\n"
      ]
    },
    {
      "cell_type": "markdown",
      "metadata": {
        "id": "UGNwRuVjdE5W"
      },
      "source": [
        "## MLP\n",
        "\n",
        "Tout d'abord, il existe seulement **2** grandes bibliothèques pour faire du CNN : pytorch (facebook) ou tensorflow (google)... Dans ce TP ce sera pytorch.\n",
        "\n",
        "Techniquement la partie MLP aurait pu être traité avec scikit-learn mais ce sera fait...\n",
        "\n",
        "donc déjà il faut importer pytorch"
      ]
    },
    {
      "cell_type": "code",
      "metadata": {
        "id": "ouvhsCnwdPgm"
      },
      "source": [
        "import torch\n",
        "import torch.nn as nn\n",
        "import torch.nn.functional as F\n",
        "import torch.optim as optim\n",
        "import torchvision"
      ],
      "execution_count": null,
      "outputs": []
    },
    {
      "cell_type": "markdown",
      "metadata": {
        "id": "6gNOHjffefzg"
      },
      "source": [
        "Ensuite on va charger les données.\n",
        "\n",
        "**Normalement c'est genre 80% du temps de prendre en charge les données !**\n",
        "\n",
        "Mais là on va travailler sur des données simples (MNIST) mises en forme par pytorch !"
      ]
    },
    {
      "cell_type": "code",
      "metadata": {
        "id": "GBPJ5pdmdghW",
        "colab": {
          "base_uri": "https://localhost:8080/",
          "height": 373,
          "referenced_widgets": [
            "55d540954ee34e36ad1a3c5918f032d5",
            "b107ff8e6da743ad8289fd6baa8b31d0",
            "30db43e955cf435480f0cb10798b267c",
            "842b381cb72f4abeaff07b210f34231c",
            "f69913dab79847e99a6c332e12339a48",
            "06763b1653204ed5ba3f0d5d0726adf5",
            "582cc707333642ed949d42716b4954c8",
            "c858267070a04b109b31f74f31546bef",
            "5981605721074452bbc35aec39822884",
            "0107e2f83cf644f680553490e04c1f38",
            "363cc4e7f9c94917a957527da8f07304",
            "97bfcb90e7b948129093e679dc501fbf",
            "88717f57f0934344b464bf964e38deab",
            "12aff81c80b84507a6091355c1a587f5",
            "10cf69c420254201a3ffafbdcff4b6b2",
            "f3f0e9f313184cb3b69317212a70564a",
            "d27df079e9564e16b5203827bc4eedd9",
            "25dffd14fa0f47a39bdd8b51b52ea4f3",
            "2431632d7bc047e2b8d24f5431ceccf8",
            "622a327b9aa74aa88d7a2395b3804527",
            "452f718b448b4db69a04a2bffc8171f9",
            "799dfca5498c4085865ebd041b8c343d",
            "207182d74bdf4b25a60c70587d0e2d47",
            "bf35bce0693e4bcfba0c0bf5273ab585",
            "7ad02d82a4094b71a8138af83227e309",
            "1ec10c58648a4873be6fe2baa50b4f47",
            "db29b92107164170b47b0ff4f377d7a2",
            "47b9abb85eea4b64915c0faa27ca2ab4",
            "b9d9891241924e72a7ac943eab632155",
            "c239c3e1f9494cb0a01d33423ee88bcc",
            "6dcfbab7b88b4bef94282d6eeed4adf3",
            "74a5b2561efc43f6b665f7a9c6369e5b"
          ]
        },
        "outputId": "4e628fc7-53e0-4822-cd4d-867c9b5d00ea"
      },
      "source": [
        "transform_mnist = torchvision.transforms.Compose([\n",
        "    torchvision.transforms.Resize((32,32)),\n",
        "    torchvision.transforms.ToTensor()\n",
        "])\n",
        "mnisttrain = torchvision.datasets.MNIST(\"./mnist\",train=True, transform=transform_mnist, download=True)\n",
        "trainloader = torch.utils.data.DataLoader(mnisttrain, batch_size=64, shuffle=True, num_workers=2)\n",
        "mnisttest = torchvision.datasets.MNIST(\"./mnist\",train=False, transform=transform_mnist, download=True)\n",
        "testloader = torch.utils.data.DataLoader(mnisttest, batch_size=64, shuffle=True, num_workers=2)"
      ],
      "execution_count": null,
      "outputs": [
        {
          "output_type": "stream",
          "text": [
            "Downloading http://yann.lecun.com/exdb/mnist/train-images-idx3-ubyte.gz to ./mnist/MNIST/raw/train-images-idx3-ubyte.gz\n"
          ],
          "name": "stdout"
        },
        {
          "output_type": "display_data",
          "data": {
            "application/vnd.jupyter.widget-view+json": {
              "model_id": "55d540954ee34e36ad1a3c5918f032d5",
              "version_minor": 0,
              "version_major": 2
            },
            "text/plain": [
              "HBox(children=(FloatProgress(value=1.0, bar_style='info', max=1.0), HTML(value='')))"
            ]
          },
          "metadata": {
            "tags": []
          }
        },
        {
          "output_type": "stream",
          "text": [
            "Extracting ./mnist/MNIST/raw/train-images-idx3-ubyte.gz to ./mnist/MNIST/raw\n",
            "Downloading http://yann.lecun.com/exdb/mnist/train-labels-idx1-ubyte.gz to ./mnist/MNIST/raw/train-labels-idx1-ubyte.gz\n"
          ],
          "name": "stdout"
        },
        {
          "output_type": "display_data",
          "data": {
            "application/vnd.jupyter.widget-view+json": {
              "model_id": "5981605721074452bbc35aec39822884",
              "version_minor": 0,
              "version_major": 2
            },
            "text/plain": [
              "HBox(children=(FloatProgress(value=1.0, bar_style='info', max=1.0), HTML(value='')))"
            ]
          },
          "metadata": {
            "tags": []
          }
        },
        {
          "output_type": "stream",
          "text": [
            "Extracting ./mnist/MNIST/raw/train-labels-idx1-ubyte.gz to ./mnist/MNIST/raw\n",
            "Downloading http://yann.lecun.com/exdb/mnist/t10k-images-idx3-ubyte.gz to ./mnist/MNIST/raw/t10k-images-idx3-ubyte.gz\n"
          ],
          "name": "stdout"
        },
        {
          "output_type": "display_data",
          "data": {
            "application/vnd.jupyter.widget-view+json": {
              "model_id": "d27df079e9564e16b5203827bc4eedd9",
              "version_minor": 0,
              "version_major": 2
            },
            "text/plain": [
              "HBox(children=(FloatProgress(value=1.0, bar_style='info', max=1.0), HTML(value='')))"
            ]
          },
          "metadata": {
            "tags": []
          }
        },
        {
          "output_type": "stream",
          "text": [
            "Extracting ./mnist/MNIST/raw/t10k-images-idx3-ubyte.gz to ./mnist/MNIST/raw\n",
            "Downloading http://yann.lecun.com/exdb/mnist/t10k-labels-idx1-ubyte.gz to ./mnist/MNIST/raw/t10k-labels-idx1-ubyte.gz\n"
          ],
          "name": "stdout"
        },
        {
          "output_type": "display_data",
          "data": {
            "application/vnd.jupyter.widget-view+json": {
              "model_id": "7ad02d82a4094b71a8138af83227e309",
              "version_minor": 0,
              "version_major": 2
            },
            "text/plain": [
              "HBox(children=(FloatProgress(value=1.0, bar_style='info', max=1.0), HTML(value='')))"
            ]
          },
          "metadata": {
            "tags": []
          }
        },
        {
          "output_type": "stream",
          "text": [
            "Extracting ./mnist/MNIST/raw/t10k-labels-idx1-ubyte.gz to ./mnist/MNIST/raw\n",
            "Processing...\n",
            "Done!\n"
          ],
          "name": "stdout"
        },
        {
          "output_type": "stream",
          "text": [
            "/usr/local/lib/python3.6/dist-packages/torchvision/datasets/mnist.py:480: UserWarning: The given NumPy array is not writeable, and PyTorch does not support non-writeable tensors. This means you can write to the underlying (supposedly non-writeable) NumPy array using the tensor. You may want to copy the array to protect its data or make it writeable before converting it to a tensor. This type of warning will be suppressed for the rest of this program. (Triggered internally at  /pytorch/torch/csrc/utils/tensor_numpy.cpp:141.)\n",
            "  return torch.from_numpy(parsed.astype(m[2], copy=False)).view(*s)\n"
          ],
          "name": "stderr"
        }
      ]
    },
    {
      "cell_type": "markdown",
      "metadata": {
        "id": "iauL3XSqfISU"
      },
      "source": [
        "Commençons par visualiser quelques images"
      ]
    },
    {
      "cell_type": "code",
      "metadata": {
        "id": "a5GqZNlohsM3",
        "colab": {
          "base_uri": "https://localhost:8080/",
          "height": 356
        },
        "outputId": "29be168a-130f-42fc-8da9-bdca034c379e"
      },
      "source": [
        "import matplotlib.pyplot as plt\n",
        "import numpy as np\n",
        "def show(img):\n",
        "    npimg = img.numpy()\n",
        "    plt.imshow(np.transpose(npimg, (1,2,0)), interpolation='nearest')\n",
        "\n",
        "sample = next(iter(trainloader))[0]\n",
        "show(torchvision.utils.make_grid(sample))\n",
        "print(sample.shape)  ## 64 c'est le batch\n",
        "                        ## 1 c'est du gris -- sinon ce serait 3 pour du RGB\n",
        "                        ## 32x32 c'est pour la taille de l'image (petite ici)"
      ],
      "execution_count": null,
      "outputs": [
        {
          "output_type": "stream",
          "text": [
            "\n",
            "\n",
            "torch.Size([64, 1, 32, 32])\n"
          ],
          "name": "stdout"
        },
        {
          "output_type": "display_data",
          "data": {
            "image/png": "[encoded data removed]",
            "text/plain": [
              "<Figure size 432x288 with 1 Axes>"
            ]
          },
          "metadata": {
            "tags": [],
            "needs_background": "light"
          }
        },
        {
          "output_type": "stream",
          "text": [
            "\n",
            "\n"
          ],
          "name": "stdout"
        }
      ]
    },
    {
      "cell_type": "markdown",
      "metadata": {
        "id": "M3kDmxkRkODf"
      },
      "source": [
        "maintenant on definit le réseau"
      ]
    },
    {
      "cell_type": "code",
      "metadata": {
        "id": "lUPT6Psfd4K8"
      },
      "source": [
        "class MonReseau(nn.Module):\n",
        "    def __init__(self):\n",
        "        super(MonReseau, self).__init__()\n",
        "        \n",
        "        self.linear1 = nn.Linear(1024, 1024)\n",
        "        self.linear2 = nn.Linear(1024, 2048)\n",
        "        self.linear3 = nn.Linear(2048, 4096)\n",
        "\n",
        "        self.final = nn.Linear(4096,10)\n",
        "      \n",
        "    def forward(self, x):\n",
        "        x = x.view(-1,1024)  # l'image 1 x 32 x 32 devient un vecteur 1024\n",
        "        x = F.leaky_relu(self.linear1(x))\n",
        "        x = F.leaky_relu(self.linear2(x))\n",
        "        x = F.leaky_relu(self.linear3(x))\n",
        "        \n",
        "        x = self.final(x)\n",
        "        return x\n",
        "\n",
        "monreseau = MonReseau()\n",
        "monreseau = monreseau.cuda()"
      ],
      "execution_count": null,
      "outputs": []
    },
    {
      "cell_type": "markdown",
      "metadata": {
        "id": "AS5V0cb8lh6j"
      },
      "source": [
        "ensuite on définit les paramètres de l'apprentissage : \n",
        "- le solver\n",
        "- la loss\n",
        "- le nombre d'itérations ..."
      ]
    },
    {
      "cell_type": "code",
      "metadata": {
        "id": "zqtnni_zlvXh"
      },
      "source": [
        "optimizer = optim.Adam(monreseau.parameters(), lr=0.00001)\n",
        "criterion = nn.CrossEntropyLoss()\n",
        "nbepoch = 5"
      ],
      "execution_count": null,
      "outputs": []
    },
    {
      "cell_type": "markdown",
      "metadata": {
        "id": "AzlZ5ZnMl30q"
      },
      "source": [
        "l'apprentissage à proprement parler :\n",
        "- on itere sur les données\n",
        "- on les fait rentrer dans le réseau\n",
        "- on compare la sortie courante à la sortie voulue\n",
        "- on calcule le gradient \n",
        "- on actualise les poids pour que la sortie courante soit plus proche que la sortie voulue\n",
        "\n",
        "**ET ON PASSE SUR CUDA CAR SINON C'EST TROP LONG**"
      ]
    },
    {
      "cell_type": "code",
      "metadata": {
        "id": "T7IU7veee3f6",
        "colab": {
          "base_uri": "https://localhost:8080/"
        },
        "outputId": "c672eefd-57e3-4c8e-8c03-4db014fad696"
      },
      "source": [
        "import random\n",
        "for epoch in range(nbepoch):\n",
        "  monreseau.train()\n",
        "  print(\"epoch\", epoch)\n",
        "  for inputs, targets in trainloader:   ## on itere sur les données \n",
        "    inputs, targets = inputs.cuda(),targets.cuda()\n",
        "\n",
        "    mespredictions = monreseau(inputs)  ## on les fait rentrer dans le réseau\n",
        "    loss = criterion(mespredictions,targets)  ## on compare la sortie courante à la sortie voulue\n",
        "\n",
        "    optimizer.zero_grad() ## supprime les gradients courants\n",
        "    loss.backward() ## le gradient -- la magie par rapport à comment c'était long en court :-)\n",
        "    optimizer.step() ## on actualise les poids pour que la sortie courante soit plus proche que la sortie voulue\n",
        "\n",
        "    if random.randint(0,90)==0:\n",
        "      print(\"\\tloss=\",loss) ## on affiche pour valider que ça diverge pas\n"
      ],
      "execution_count": null,
      "outputs": [
        {
          "output_type": "stream",
          "text": [
            "epoch 0\n",
            "\tloss= tensor(2.2795, device='cuda:0', grad_fn=<NllLossBackward>)\n",
            "\tloss= tensor(0.7742, device='cuda:0', grad_fn=<NllLossBackward>)\n",
            "\tloss= tensor(1.1518, device='cuda:0', grad_fn=<NllLossBackward>)\n",
            "\tloss= tensor(1.0163, device='cuda:0', grad_fn=<NllLossBackward>)\n",
            "\tloss= tensor(0.4557, device='cuda:0', grad_fn=<NllLossBackward>)\n",
            "\tloss= tensor(0.7015, device='cuda:0', grad_fn=<NllLossBackward>)\n",
            "\tloss= tensor(0.5103, device='cuda:0', grad_fn=<NllLossBackward>)\n",
            "epoch 1\n",
            "\tloss= tensor(0.3072, device='cuda:0', grad_fn=<NllLossBackward>)\n",
            "\tloss= tensor(0.6249, device='cuda:0', grad_fn=<NllLossBackward>)\n",
            "\tloss= tensor(0.3943, device='cuda:0', grad_fn=<NllLossBackward>)\n",
            "\tloss= tensor(0.3037, device='cuda:0', grad_fn=<NllLossBackward>)\n",
            "\tloss= tensor(0.1274, device='cuda:0', grad_fn=<NllLossBackward>)\n",
            "\tloss= tensor(0.2411, device='cuda:0', grad_fn=<NllLossBackward>)\n",
            "\tloss= tensor(0.4002, device='cuda:0', grad_fn=<NllLossBackward>)\n",
            "\tloss= tensor(0.3757, device='cuda:0', grad_fn=<NllLossBackward>)\n",
            "epoch 2\n",
            "\tloss= tensor(0.3901, device='cuda:0', grad_fn=<NllLossBackward>)\n",
            "\tloss= tensor(0.3189, device='cuda:0', grad_fn=<NllLossBackward>)\n",
            "\tloss= tensor(0.0218, device='cuda:0', grad_fn=<NllLossBackward>)\n",
            "\tloss= tensor(0.1475, device='cuda:0', grad_fn=<NllLossBackward>)\n",
            "\tloss= tensor(0.1368, device='cuda:0', grad_fn=<NllLossBackward>)\n",
            "\tloss= tensor(0.2075, device='cuda:0', grad_fn=<NllLossBackward>)\n",
            "\tloss= tensor(0.0893, device='cuda:0', grad_fn=<NllLossBackward>)\n",
            "\tloss= tensor(0.2233, device='cuda:0', grad_fn=<NllLossBackward>)\n",
            "\tloss= tensor(0.1707, device='cuda:0', grad_fn=<NllLossBackward>)\n",
            "\tloss= tensor(0.0625, device='cuda:0', grad_fn=<NllLossBackward>)\n",
            "\tloss= tensor(0.1691, device='cuda:0', grad_fn=<NllLossBackward>)\n",
            "\tloss= tensor(0.2934, device='cuda:0', grad_fn=<NllLossBackward>)\n",
            "epoch 3\n",
            "\tloss= tensor(0.0710, device='cuda:0', grad_fn=<NllLossBackward>)\n",
            "\tloss= tensor(0.1147, device='cuda:0', grad_fn=<NllLossBackward>)\n",
            "\tloss= tensor(0.1484, device='cuda:0', grad_fn=<NllLossBackward>)\n",
            "\tloss= tensor(0.0773, device='cuda:0', grad_fn=<NllLossBackward>)\n",
            "\tloss= tensor(0.2070, device='cuda:0', grad_fn=<NllLossBackward>)\n",
            "\tloss= tensor(0.0357, device='cuda:0', grad_fn=<NllLossBackward>)\n",
            "\tloss= tensor(0.0254, device='cuda:0', grad_fn=<NllLossBackward>)\n",
            "\tloss= tensor(0.1349, device='cuda:0', grad_fn=<NllLossBackward>)\n",
            "\tloss= tensor(0.0235, device='cuda:0', grad_fn=<NllLossBackward>)\n",
            "\tloss= tensor(0.1640, device='cuda:0', grad_fn=<NllLossBackward>)\n",
            "\tloss= tensor(0.0775, device='cuda:0', grad_fn=<NllLossBackward>)\n",
            "epoch 4\n",
            "\tloss= tensor(0.1484, device='cuda:0', grad_fn=<NllLossBackward>)\n",
            "\tloss= tensor(0.1113, device='cuda:0', grad_fn=<NllLossBackward>)\n",
            "\tloss= tensor(0.2083, device='cuda:0', grad_fn=<NllLossBackward>)\n",
            "\tloss= tensor(0.1372, device='cuda:0', grad_fn=<NllLossBackward>)\n",
            "\tloss= tensor(0.1654, device='cuda:0', grad_fn=<NllLossBackward>)\n",
            "\tloss= tensor(0.3252, device='cuda:0', grad_fn=<NllLossBackward>)\n",
            "\tloss= tensor(0.1925, device='cuda:0', grad_fn=<NllLossBackward>)\n",
            "\tloss= tensor(0.1423, device='cuda:0', grad_fn=<NllLossBackward>)\n",
            "\tloss= tensor(0.1273, device='cuda:0', grad_fn=<NllLossBackward>)\n",
            "\tloss= tensor(0.1872, device='cuda:0', grad_fn=<NllLossBackward>)\n",
            "\tloss= tensor(0.0151, device='cuda:0', grad_fn=<NllLossBackward>)\n",
            "\tloss= tensor(0.0989, device='cuda:0', grad_fn=<NllLossBackward>)\n",
            "\tloss= tensor(0.0268, device='cuda:0', grad_fn=<NllLossBackward>)\n",
            "\tloss= tensor(0.0538, device='cuda:0', grad_fn=<NllLossBackward>)\n"
          ],
          "name": "stdout"
        }
      ]
    },
    {
      "cell_type": "markdown",
      "metadata": {
        "id": "tiCrUvECoTsx"
      },
      "source": [
        "Maintenant, on calcule la performance obtenue **en test**\n",
        "à travers la matrice de confusion\n",
        "Mij c'est le nombre de fois qu'une image de la classe i a été classé comme j"
      ]
    },
    {
      "cell_type": "code",
      "metadata": {
        "id": "XUl-2z9FfRUG",
        "colab": {
          "base_uri": "https://localhost:8080/"
        },
        "outputId": "40ba76e3-b9fa-4e66-deb9-d212f12b5618"
      },
      "source": [
        "from sklearn.metrics import confusion_matrix\n",
        "\n",
        "monreseau.eval()\n",
        "cm = np.zeros((10,10),dtype=int)  ###### ATTENTION DE BIEN ME REMETTRE A ZERO\n",
        "with torch.no_grad():  ### ici pas besoin de calculer les gradients\n",
        "    for inputs, targets in testloader:\n",
        "        inputs = inputs.cuda()\n",
        "        outputs = monreseau(inputs)\n",
        "        _,pred = outputs.max(1)\n",
        "        cm += confusion_matrix(pred.cpu().numpy(),targets.cpu().numpy(),list(range(10)))\n",
        "print(cm)"
      ],
      "execution_count": null,
      "outputs": [
        {
          "output_type": "stream",
          "text": [
            "[[ 963    0    5    1    0    2    6    1    2    2]\n",
            " [   0 1113    0    0    0    0    2    7    0    1]\n",
            " [   0    4  987   13    7    0    1   17    2    0]\n",
            " [   0    1    2  927    0   16    0    1    5    2]\n",
            " [   1    0    4    1  963    2    8    5    2   23]\n",
            " [   6    1    1    0    1  848   16    0    3    4]\n",
            " [   2    2    2    0    1    4  920    0    0    0]\n",
            " [   1    0    3    0    0    0    0  913    0    0]\n",
            " [   4   12   28   61    3   16    5   24  959   17]\n",
            " [   3    2    0    7    7    4    0   60    1  960]]\n"
          ],
          "name": "stdout"
        }
      ]
    },
    {
      "cell_type": "markdown",
      "metadata": {
        "id": "RVwdq_nMqCR9"
      },
      "source": [
        "**Q1 (facile)** : calculer le taux de bonne classification (donc la diagonale sur le total)"
      ]
    },
    {
      "cell_type": "code",
      "metadata": {
        "id": "0XlQ7IltqA-o",
        "colab": {
          "base_uri": "https://localhost:8080/"
        },
        "outputId": "1506aa96-8869-445f-ea70-1cc4191cd093"
      },
      "source": [
        "def accuracy(cm):\n",
        "    return np.sum(cm.diagonal())/np.sum(cm)\n",
        "print(accuracy(cm))"
      ],
      "execution_count": null,
      "outputs": [
        {
          "output_type": "stream",
          "text": [
            "0.9553\n"
          ],
          "name": "stdout"
        }
      ]
    },
    {
      "cell_type": "markdown",
      "metadata": {
        "id": "zJRTEjvGqOTr"
      },
      "source": [
        "### CNN\n",
        "\n",
        "**Q2 (dur)** : maintenant il faut changer le réseau pour mettre des convolutions et donc traiter la spécificité des images plutôt que de considérer ça comme un vecteur.\n",
        "\n",
        "Dupliquer le code de \"MonReseau\" et implémenter lenet au lieu d'un simple mlp\n",
        "\n",
        "regarder la doc : https://pytorch.org/docs/stable/generated/torch.nn.Conv2d.html\n",
        "\n",
        "et regarder sur internet pour lenet vous aurez plein d'info !!"
      ]
    },
    {
      "cell_type": "code",
      "metadata": {
        "id": "t0UVDKw2opzd"
      },
      "source": [
        "class MonReseauCNN(nn.Module):\n",
        "    def __init__(self):\n",
        "        super(MonReseauCNN, self).__init__()\n",
        "        \n",
        "        self.conv1 = nn.Conv2d(1, 32, kernel_size=5, padding=2)\n",
        "        self.conv2 = nn.Conv2d(32, 64, kernel_size=3, padding=1)\n",
        "        self.conv3 = nn.Conv2d(64, 64, kernel_size=3, padding=1)\n",
        "\n",
        "        self.final = nn.Linear(4096,10)\n",
        "      \n",
        "    def forward(self, x):\n",
        "        x = F.leaky_relu(self.conv1(x)) ## l'image 1x32x32 devient 32x32x32\n",
        "        x = F.max_pool2d(x, kernel_size=2, stride=2) ## puis 32x16x16\n",
        "        x = F.leaky_relu(self.conv2(x)) ## puis devient 64x16x16\n",
        "        x = F.max_pool2d(x, kernel_size=2, stride=2) ## puis devient 64x8x8\n",
        "        x = F.leaky_relu(self.conv3(x)) ## pas de changement\n",
        "        \n",
        "        x = x.view(-1,4096) ## 64x8x8 devient 4096\n",
        "        \n",
        "        x = self.final(x) ## on finit exactement de la même façon\n",
        "        return x\n",
        "\n",
        "monreseauCNN = MonReseauCNN()\n",
        "monreseauCNN = monreseauCNN.cuda()"
      ],
      "execution_count": null,
      "outputs": []
    },
    {
      "cell_type": "markdown",
      "metadata": {
        "id": "uQ83_W9Mr7Y4"
      },
      "source": [
        "Lancez maintenant un train/test\n",
        "\n",
        "vous pouvez réutiliser quasiment tel quel la boucle \"d'apprentissage\" -- elle ne dépend PAS du réseau (les paramètres pourraient peut être changer mais dans les grosses lignes c'est la même boucle)"
      ]
    },
    {
      "cell_type": "code",
      "metadata": {
        "colab": {
          "base_uri": "https://localhost:8080/"
        },
        "id": "LUo9rJUUFJfe",
        "outputId": "6c620dc8-d912-4633-99a0-31c4d9d70c6b"
      },
      "source": [
        "optimizerCNN = optim.Adam(monreseauCNN.parameters(), lr=0.00001)\n",
        "\n",
        "for epoch in range(nbepoch):\n",
        "    monreseauCNN.train()\n",
        "    print(\"epoch\", epoch)\n",
        "    for inputs, targets in trainloader:     ## on itere sur les données \n",
        "        inputs, targets = inputs.cuda(),targets.cuda()\n",
        "\n",
        "        mespredictions = monreseauCNN(inputs)    ## on les fait rentrer dans le réseau\n",
        "        loss = criterion(mespredictions,targets)    ## on compare la sortie courante à la sortie voulue\n",
        "\n",
        "        optimizerCNN.zero_grad() ## supprime les gradients courants\n",
        "        loss.backward() ## le gradient -- la magie par rapport à comment c'était long en court :-)\n",
        "        optimizerCNN.step() ## on actualise les poids pour que la sortie courante soit plus proche que la sortie voulue\n",
        "\n",
        "        if random.randint(0,90)==0:\n",
        "            print(\"\\tloss=\",loss) ## on affiche pour valider que ça diverge pas\n",
        "\n",
        "cm = np.zeros((10,10),dtype=int)\n",
        "monreseauCNN.eval()\n",
        "with torch.no_grad():  ### ici pas besoin de calculer les gradients\n",
        "    for inputs, targets in testloader:\n",
        "        inputs = inputs.cuda()\n",
        "        outputs = monreseauCNN(inputs)\n",
        "        _,pred = outputs.max(1)\n",
        "        cm += confusion_matrix(pred.cpu().numpy(),targets.cpu().numpy(),list(range(10)))\n",
        "\n",
        "print(cm)\n",
        "print(accuracy(cm))"
      ],
      "execution_count": null,
      "outputs": [
        {
          "output_type": "stream",
          "text": [
            "epoch 0\n",
            "\tloss= tensor(2.2627, device='cuda:0', grad_fn=<NllLossBackward>)\n",
            "\tloss= tensor(1.6751, device='cuda:0', grad_fn=<NllLossBackward>)\n",
            "\tloss= tensor(1.5905, device='cuda:0', grad_fn=<NllLossBackward>)\n",
            "\tloss= tensor(0.9565, device='cuda:0', grad_fn=<NllLossBackward>)\n",
            "\tloss= tensor(0.9274, device='cuda:0', grad_fn=<NllLossBackward>)\n",
            "\tloss= tensor(0.7307, device='cuda:0', grad_fn=<NllLossBackward>)\n",
            "\tloss= tensor(1.1552, device='cuda:0', grad_fn=<NllLossBackward>)\n",
            "\tloss= tensor(0.7516, device='cuda:0', grad_fn=<NllLossBackward>)\n",
            "\tloss= tensor(1.0503, device='cuda:0', grad_fn=<NllLossBackward>)\n",
            "epoch 1\n",
            "\tloss= tensor(0.4749, device='cuda:0', grad_fn=<NllLossBackward>)\n",
            "\tloss= tensor(0.5929, device='cuda:0', grad_fn=<NllLossBackward>)\n",
            "\tloss= tensor(0.9279, device='cuda:0', grad_fn=<NllLossBackward>)\n",
            "\tloss= tensor(0.9166, device='cuda:0', grad_fn=<NllLossBackward>)\n",
            "\tloss= tensor(0.5017, device='cuda:0', grad_fn=<NllLossBackward>)\n",
            "\tloss= tensor(0.4293, device='cuda:0', grad_fn=<NllLossBackward>)\n",
            "\tloss= tensor(0.6025, device='cuda:0', grad_fn=<NllLossBackward>)\n",
            "\tloss= tensor(0.3560, device='cuda:0', grad_fn=<NllLossBackward>)\n",
            "epoch 2\n",
            "\tloss= tensor(0.5006, device='cuda:0', grad_fn=<NllLossBackward>)\n",
            "\tloss= tensor(0.0867, device='cuda:0', grad_fn=<NllLossBackward>)\n",
            "\tloss= tensor(0.2520, device='cuda:0', grad_fn=<NllLossBackward>)\n",
            "\tloss= tensor(0.4012, device='cuda:0', grad_fn=<NllLossBackward>)\n",
            "\tloss= tensor(0.4158, device='cuda:0', grad_fn=<NllLossBackward>)\n",
            "\tloss= tensor(0.3900, device='cuda:0', grad_fn=<NllLossBackward>)\n",
            "\tloss= tensor(0.3241, device='cuda:0', grad_fn=<NllLossBackward>)\n",
            "\tloss= tensor(0.2019, device='cuda:0', grad_fn=<NllLossBackward>)\n",
            "epoch 3\n",
            "\tloss= tensor(0.2295, device='cuda:0', grad_fn=<NllLossBackward>)\n",
            "\tloss= tensor(0.1726, device='cuda:0', grad_fn=<NllLossBackward>)\n",
            "\tloss= tensor(0.4763, device='cuda:0', grad_fn=<NllLossBackward>)\n",
            "\tloss= tensor(0.2524, device='cuda:0', grad_fn=<NllLossBackward>)\n",
            "\tloss= tensor(0.1756, device='cuda:0', grad_fn=<NllLossBackward>)\n",
            "\tloss= tensor(0.2032, device='cuda:0', grad_fn=<NllLossBackward>)\n",
            "\tloss= tensor(0.1218, device='cuda:0', grad_fn=<NllLossBackward>)\n",
            "\tloss= tensor(0.2273, device='cuda:0', grad_fn=<NllLossBackward>)\n",
            "\tloss= tensor(0.1619, device='cuda:0', grad_fn=<NllLossBackward>)\n",
            "\tloss= tensor(0.2167, device='cuda:0', grad_fn=<NllLossBackward>)\n",
            "\tloss= tensor(0.1465, device='cuda:0', grad_fn=<NllLossBackward>)\n",
            "\tloss= tensor(0.3259, device='cuda:0', grad_fn=<NllLossBackward>)\n",
            "epoch 4\n",
            "\tloss= tensor(0.3025, device='cuda:0', grad_fn=<NllLossBackward>)\n",
            "\tloss= tensor(0.1805, device='cuda:0', grad_fn=<NllLossBackward>)\n",
            "\tloss= tensor(0.1630, device='cuda:0', grad_fn=<NllLossBackward>)\n",
            "\tloss= tensor(0.1087, device='cuda:0', grad_fn=<NllLossBackward>)\n",
            "\tloss= tensor(0.0671, device='cuda:0', grad_fn=<NllLossBackward>)\n",
            "\tloss= tensor(0.2365, device='cuda:0', grad_fn=<NllLossBackward>)\n",
            "\tloss= tensor(0.1209, device='cuda:0', grad_fn=<NllLossBackward>)\n",
            "\tloss= tensor(0.2136, device='cuda:0', grad_fn=<NllLossBackward>)\n",
            "\tloss= tensor(0.1060, device='cuda:0', grad_fn=<NllLossBackward>)\n",
            "\tloss= tensor(0.1453, device='cuda:0', grad_fn=<NllLossBackward>)\n",
            "\tloss= tensor(0.1086, device='cuda:0', grad_fn=<NllLossBackward>)\n",
            "\tloss= tensor(0.1541, device='cuda:0', grad_fn=<NllLossBackward>)\n",
            "[[ 967    0    8    1    0    4   11    0    9    8]\n",
            " [   0 1117    2    0    1    1    3    4    0    6]\n",
            " [   3    4 1001    9    2    2    1   21   10    3]\n",
            " [   0    0    4  971    1   13    0    5   10    6]\n",
            " [   0    1    2    0  944    0    5    0    6   14]\n",
            " [   1    0    0    5    0  854    2    2    6    4]\n",
            " [   5    2    0    0    8    8  934    0    8    0]\n",
            " [   1    0    7    9    2    1    0  985    4    9]\n",
            " [   3   11    8   14    4    7    2    1  911    9]\n",
            " [   0    0    0    1   20    2    0   10   10  950]]\n",
            "0.9634\n"
          ],
          "name": "stdout"
        }
      ]
    },
    {
      "cell_type": "markdown",
      "metadata": {
        "id": "L82jBjtP-vwr"
      },
      "source": [
        "# CNN VS MLP\n",
        "\n",
        "Maintenant on va s'intéresser à la différence entre un mlp et un CNN\n",
        "\n",
        "\n",
        "on fait regarder ce que donne nos codes -- si on permute les pixels\n",
        "ce sera évidemment une permutation **FIXE** (ce sera la même pour toutes les images train et test) qu'on peut générer calculant une permutation des lignes et une des colonnes"
      ]
    },
    {
      "cell_type": "code",
      "metadata": {
        "colab": {
          "base_uri": "https://localhost:8080/"
        },
        "id": "jb5cc28A_B4K",
        "outputId": "dd80ddec-5741-4050-d32c-1b3653b0e8b9"
      },
      "source": [
        "def computerandompermutation(n):\n",
        "\tout = list(range(n))\n",
        "\trandom.shuffle(out)\n",
        "\treturn out\n",
        "permrow,permcol = computerandompermutation(32),computerandompermutation(32)\n",
        "print(permrow)"
      ],
      "execution_count": null,
      "outputs": [
        {
          "output_type": "stream",
          "text": [
            "[0, 2, 13, 11, 17, 5, 30, 22, 28, 10, 16, 15, 7, 25, 1, 26, 19, 27, 6, 12, 9, 14, 3, 23, 31, 29, 18, 20, 8, 24, 21, 4]\n"
          ],
          "name": "stdout"
        }
      ]
    },
    {
      "cell_type": "markdown",
      "metadata": {
        "id": "OC2xtwaYsYxV"
      },
      "source": [
        "\n",
        "\n",
        "**Q3 (moyenne) :** Coder une fonction qui prends en argument une permutation et une image et qui permute ses pixels.\n",
        "\n",
        "\n",
        "*n'oubliez est pour permuter la valeur de x et y dans un tableau T il faut faire*\n",
        "- tmp = T[y]\n",
        "- T[y] = T[x]\n",
        "- T[x] = tmp\n",
        "\n",
        "(sinon on écrase une des 2 valeurs)\n",
        "\n",
        "commencer par permuter une image 32x32 et créer une fonction qui l'applique 64 fois sur un batch 64x1x32x32"
      ]
    },
    {
      "cell_type": "code",
      "metadata": {
        "id": "cyE-3bjp_TY8"
      },
      "source": [
        "def permutation2D(image32x32,permrow,permcol):\n",
        "  for row in range(image32x32.shape[0]):\n",
        "    for col in range(image32x32.shape[1]):\n",
        "      tmp = image32x32[permrow[row]][permcol[col]]\n",
        "      image32x32[permrow[row]][permcol[col]] = image32x32[row][col]\n",
        "      image32x32[row][col] = tmp\n",
        "\n",
        "def permutation(image,permrow,permcol):\n",
        "  for i in range(image.shape[0]):\n",
        "    permutation2D(image[i][0],permrow,permcol)\n",
        "  return image\n",
        "\n",
        "### mais en fait il faut le faire comme ça sinon c'est trop long\n",
        "def permutation(image,permrow,permcol):\n",
        "  image = image[:,:,permrow,:]\n",
        "  image = image[:,:,:,permcol]\n",
        "  return image"
      ],
      "execution_count": null,
      "outputs": []
    },
    {
      "cell_type": "markdown",
      "metadata": {
        "id": "6QfvV_3e_Sp_"
      },
      "source": [
        "**SIGNALEZ que vous avez fini la question ci dessus -- il est nécessaire d'utiliser un codage efficace des permutations pour continuer -- il vous sera fourni**\n",
        "\n",
        "\n",
        "**Q4 (facile) :**\n",
        "Regarder les images avant et après permutation -- pourriez vous (vous même) classer les images APRES permutation ??\n"
      ]
    },
    {
      "cell_type": "code",
      "metadata": {
        "colab": {
          "base_uri": "https://localhost:8080/",
          "height": 286
        },
        "id": "sJWQUZmLEorH",
        "outputId": "5238d45c-5f3a-4186-fd65-8a3ac4b98e63"
      },
      "source": [
        "sample = next(iter(trainloader))[0]\n",
        "print(sample.shape)\n",
        "sample = permutation(sample,permrow,permcol)\n",
        "show(torchvision.utils.make_grid(sample))"
      ],
      "execution_count": null,
      "outputs": [
        {
          "output_type": "stream",
          "text": [
            "torch.Size([64, 1, 32, 32])\n"
          ],
          "name": "stdout"
        },
        {
          "output_type": "display_data",
          "data": {
            "image/png": "[encoded data removed]",
            "text/plain": [
              "<Figure size 432x288 with 1 Axes>"
            ]
          },
          "metadata": {
            "tags": [],
            "needs_background": "light"
          }
        }
      ]
    },
    {
      "cell_type": "markdown",
      "metadata": {
        "id": "13gMLc6AEniu"
      },
      "source": [
        "**Q5 (facile)** :\n",
        "Qu'est ce que ça change pour le MLP ??\n",
        "-> relancer l'apprentissage/test en ajoutant cette permutation pour valider que ça ne change rien !\n"
      ]
    },
    {
      "cell_type": "code",
      "metadata": {
        "colab": {
          "base_uri": "https://localhost:8080/"
        },
        "id": "iUGDT9osEnU4",
        "outputId": "0129b7bc-14cd-4ad5-86d7-09b1e68897af"
      },
      "source": [
        "monreseau = MonReseau()\n",
        "monreseau = monreseau.cuda()\n",
        "optimizer = optim.Adam(monreseau.parameters(), lr=0.00001)\n",
        "for epoch in range(nbepoch):\n",
        "  monreseau.train()\n",
        "  print(\"epoch\", epoch)\n",
        "  for inputs, targets in trainloader:   ## on itere sur les données \n",
        "    inputs, targets = permutation(inputs,permrow,permcol).cuda(),targets.cuda()\n",
        "\n",
        "    mespredictions = monreseau(inputs)  ## on les fait rentrer dans le réseau\n",
        "    loss = criterion(mespredictions,targets)  ## on compare la sortie courante à la sortie voulue\n",
        "    \n",
        "    optimizer.zero_grad() ## supprime les gradients courants\n",
        "    loss.backward() ## le gradient -- la magie par rapport à comment c'était long en court :-)\n",
        "    optimizer.step() ## on actualise les poids pour que la sortie courante soit plus proche que la sortie voulue\n",
        "\n",
        "    if random.randint(0,90)==0:\n",
        "      print(\"\\tloss=\",loss) ## on affiche pour valider que ça diverge pas\n",
        "\n",
        "cm = np.zeros((10,10),dtype=int)\n",
        "monreseau.eval()\n",
        "with torch.no_grad():  ### ici pas besoin de calculer les gradients\n",
        "    for inputs, targets in testloader:\n",
        "        inputs = permutation(inputs,permrow,permcol).cuda()\n",
        "        outputs = monreseau(inputs)\n",
        "        _,pred = outputs.max(1)\n",
        "        cm += confusion_matrix(pred.cpu().numpy(),targets.cpu().numpy(),list(range(10)))      \n",
        "\n",
        "print(cm)\n",
        "print(accuracy(cm))"
      ],
      "execution_count": null,
      "outputs": [
        {
          "output_type": "stream",
          "text": [
            "epoch 0\n",
            "\tloss= tensor(2.3026, device='cuda:0', grad_fn=<NllLossBackward>)\n",
            "\tloss= tensor(1.7565, device='cuda:0', grad_fn=<NllLossBackward>)\n",
            "\tloss= tensor(1.0578, device='cuda:0', grad_fn=<NllLossBackward>)\n",
            "\tloss= tensor(2.1816, device='cuda:0', grad_fn=<NllLossBackward>)\n",
            "\tloss= tensor(2.4803, device='cuda:0', grad_fn=<NllLossBackward>)\n",
            "\tloss= tensor(1.3620, device='cuda:0', grad_fn=<NllLossBackward>)\n",
            "\tloss= tensor(1.1650, device='cuda:0', grad_fn=<NllLossBackward>)\n",
            "\tloss= tensor(1.0058, device='cuda:0', grad_fn=<NllLossBackward>)\n",
            "\tloss= tensor(0.8687, device='cuda:0', grad_fn=<NllLossBackward>)\n",
            "\tloss= tensor(0.3719, device='cuda:0', grad_fn=<NllLossBackward>)\n",
            "\tloss= tensor(0.1837, device='cuda:0', grad_fn=<NllLossBackward>)\n",
            "\tloss= tensor(0.2647, device='cuda:0', grad_fn=<NllLossBackward>)\n",
            "epoch 1\n",
            "\tloss= tensor(0.3483, device='cuda:0', grad_fn=<NllLossBackward>)\n",
            "\tloss= tensor(0.2669, device='cuda:0', grad_fn=<NllLossBackward>)\n",
            "\tloss= tensor(0.1844, device='cuda:0', grad_fn=<NllLossBackward>)\n",
            "\tloss= tensor(0.3540, device='cuda:0', grad_fn=<NllLossBackward>)\n",
            "\tloss= tensor(0.2690, device='cuda:0', grad_fn=<NllLossBackward>)\n",
            "\tloss= tensor(0.2814, device='cuda:0', grad_fn=<NllLossBackward>)\n",
            "\tloss= tensor(0.2617, device='cuda:0', grad_fn=<NllLossBackward>)\n",
            "\tloss= tensor(0.3624, device='cuda:0', grad_fn=<NllLossBackward>)\n",
            "\tloss= tensor(0.3099, device='cuda:0', grad_fn=<NllLossBackward>)\n",
            "epoch 2\n",
            "\tloss= tensor(0.1397, device='cuda:0', grad_fn=<NllLossBackward>)\n",
            "\tloss= tensor(0.4220, device='cuda:0', grad_fn=<NllLossBackward>)\n",
            "\tloss= tensor(0.3357, device='cuda:0', grad_fn=<NllLossBackward>)\n",
            "\tloss= tensor(0.2853, device='cuda:0', grad_fn=<NllLossBackward>)\n",
            "\tloss= tensor(0.2924, device='cuda:0', grad_fn=<NllLossBackward>)\n",
            "\tloss= tensor(0.0750, device='cuda:0', grad_fn=<NllLossBackward>)\n",
            "\tloss= tensor(0.3670, device='cuda:0', grad_fn=<NllLossBackward>)\n",
            "\tloss= tensor(0.1105, device='cuda:0', grad_fn=<NllLossBackward>)\n",
            "\tloss= tensor(0.1017, device='cuda:0', grad_fn=<NllLossBackward>)\n",
            "\tloss= tensor(0.2801, device='cuda:0', grad_fn=<NllLossBackward>)\n",
            "\tloss= tensor(0.2008, device='cuda:0', grad_fn=<NllLossBackward>)\n",
            "\tloss= tensor(0.0657, device='cuda:0', grad_fn=<NllLossBackward>)\n",
            "epoch 3\n",
            "\tloss= tensor(0.2021, device='cuda:0', grad_fn=<NllLossBackward>)\n",
            "\tloss= tensor(0.1614, device='cuda:0', grad_fn=<NllLossBackward>)\n",
            "\tloss= tensor(0.2486, device='cuda:0', grad_fn=<NllLossBackward>)\n",
            "\tloss= tensor(0.1103, device='cuda:0', grad_fn=<NllLossBackward>)\n",
            "\tloss= tensor(0.1472, device='cuda:0', grad_fn=<NllLossBackward>)\n",
            "\tloss= tensor(0.3374, device='cuda:0', grad_fn=<NllLossBackward>)\n",
            "\tloss= tensor(0.1863, device='cuda:0', grad_fn=<NllLossBackward>)\n",
            "\tloss= tensor(0.0821, device='cuda:0', grad_fn=<NllLossBackward>)\n",
            "\tloss= tensor(0.1336, device='cuda:0', grad_fn=<NllLossBackward>)\n",
            "\tloss= tensor(0.0322, device='cuda:0', grad_fn=<NllLossBackward>)\n",
            "\tloss= tensor(0.1782, device='cuda:0', grad_fn=<NllLossBackward>)\n",
            "\tloss= tensor(0.1258, device='cuda:0', grad_fn=<NllLossBackward>)\n",
            "\tloss= tensor(0.1292, device='cuda:0', grad_fn=<NllLossBackward>)\n",
            "\tloss= tensor(0.0583, device='cuda:0', grad_fn=<NllLossBackward>)\n",
            "epoch 4\n",
            "\tloss= tensor(0.3713, device='cuda:0', grad_fn=<NllLossBackward>)\n",
            "\tloss= tensor(0.0425, device='cuda:0', grad_fn=<NllLossBackward>)\n",
            "\tloss= tensor(0.0663, device='cuda:0', grad_fn=<NllLossBackward>)\n",
            "\tloss= tensor(0.1494, device='cuda:0', grad_fn=<NllLossBackward>)\n",
            "\tloss= tensor(0.0265, device='cuda:0', grad_fn=<NllLossBackward>)\n",
            "\tloss= tensor(0.1178, device='cuda:0', grad_fn=<NllLossBackward>)\n",
            "\tloss= tensor(0.0318, device='cuda:0', grad_fn=<NllLossBackward>)\n",
            "\tloss= tensor(0.0054, device='cuda:0', grad_fn=<NllLossBackward>)\n",
            "\tloss= tensor(0.0892, device='cuda:0', grad_fn=<NllLossBackward>)\n",
            "\tloss= tensor(0.0913, device='cuda:0', grad_fn=<NllLossBackward>)\n",
            "[[ 962    0    6    0    1    2    6    0    3    1]\n",
            " [   0 1117    3    1    1    0    3   13    0    6]\n",
            " [   1    3  998   13    4    0    4   10    6    1]\n",
            " [   2    1    2  959    0   14    1    0    1    8]\n",
            " [   0    0    2    0  952    2    8    2    2   14]\n",
            " [   5    1    0    5    1  851   10    1    4    8]\n",
            " [   1    2    1    0    1    4  916    0    1    0]\n",
            " [   0    0    7    5    2    0    0  969    3    2]\n",
            " [   3   11   12   26    1   16   10    4  950    7]\n",
            " [   6    0    1    1   19    3    0   29    4  962]]\n",
            "0.9636\n"
          ],
          "name": "stdout"
        }
      ]
    },
    {
      "cell_type": "markdown",
      "metadata": {
        "id": "WUshMI-dEnIu"
      },
      "source": [
        "**Q6 (facile)** : relancer le lenet -> là ça va changer "
      ]
    },
    {
      "cell_type": "code",
      "metadata": {
        "id": "2ds_JZ4aupBC",
        "colab": {
          "base_uri": "https://localhost:8080/"
        },
        "outputId": "339b37c8-6b5e-4214-904f-fbcea936a43b"
      },
      "source": [
        "monreseauCNN = MonReseauCNN()\n",
        "monreseauCNN = monreseauCNN.cuda()\n",
        "optimizerCNN = optim.Adam(monreseauCNN.parameters(), lr=0.00001)\n",
        "for epoch in range(nbepoch):\n",
        "    monreseauCNN.train()\n",
        "    print(\"epoch\", epoch)\n",
        "    for inputs, targets in trainloader:     ## on itere sur les données \n",
        "        inputs, targets = permutation(inputs,permrow,permcol).cuda(),targets.cuda()\n",
        "\n",
        "        mespredictions = monreseauCNN(inputs)    ## on les fait rentrer dans le réseau\n",
        "        loss = criterion(mespredictions,targets)    ## on compare la sortie courante à la sortie voulue\n",
        "\n",
        "        optimizerCNN.zero_grad() ## supprime les gradients courants\n",
        "        loss.backward() ## le gradient -- la magie par rapport à comment c'était long en court :-)\n",
        "        optimizerCNN.step() ## on actualise les poids pour que la sortie courante soit plus proche que la sortie voulue\n",
        "\n",
        "        if random.randint(0,90)==0:\n",
        "            print(\"\\tloss=\",loss) ## on affiche pour valider que ça diverge pas\n",
        "\n",
        "cm = np.zeros((10,10),dtype=int)\n",
        "monreseauCNN.eval()\n",
        "with torch.no_grad():  ### ici pas besoin de calculer les gradients\n",
        "    for inputs, targets in testloader:\n",
        "        inputs = permutation(inputs,permrow,permcol).cuda()\n",
        "        outputs = monreseauCNN(inputs)\n",
        "        _,pred = outputs.max(1)\n",
        "        cm += confusion_matrix(pred.cpu().numpy(),targets.cpu().numpy(),list(range(10)))\n",
        "\n",
        "print(cm)\n",
        "print(accuracy(cm))\n"
      ],
      "execution_count": null,
      "outputs": [
        {
          "output_type": "stream",
          "text": [
            "epoch 0\n",
            "\tloss= tensor(2.2969, device='cuda:0', grad_fn=<NllLossBackward>)\n",
            "\tloss= tensor(2.2838, device='cuda:0', grad_fn=<NllLossBackward>)\n",
            "\tloss= tensor(2.3068, device='cuda:0', grad_fn=<NllLossBackward>)\n",
            "\tloss= tensor(2.1333, device='cuda:0', grad_fn=<NllLossBackward>)\n",
            "\tloss= tensor(2.1516, device='cuda:0', grad_fn=<NllLossBackward>)\n",
            "\tloss= tensor(2.1358, device='cuda:0', grad_fn=<NllLossBackward>)\n",
            "\tloss= tensor(2.0993, device='cuda:0', grad_fn=<NllLossBackward>)\n",
            "\tloss= tensor(1.9179, device='cuda:0', grad_fn=<NllLossBackward>)\n",
            "\tloss= tensor(1.9060, device='cuda:0', grad_fn=<NllLossBackward>)\n",
            "\tloss= tensor(1.7748, device='cuda:0', grad_fn=<NllLossBackward>)\n",
            "\tloss= tensor(1.7039, device='cuda:0', grad_fn=<NllLossBackward>)\n",
            "\tloss= tensor(1.7577, device='cuda:0', grad_fn=<NllLossBackward>)\n",
            "\tloss= tensor(1.6457, device='cuda:0', grad_fn=<NllLossBackward>)\n",
            "\tloss= tensor(1.3174, device='cuda:0', grad_fn=<NllLossBackward>)\n",
            "\tloss= tensor(1.1826, device='cuda:0', grad_fn=<NllLossBackward>)\n",
            "\tloss= tensor(1.3119, device='cuda:0', grad_fn=<NllLossBackward>)\n",
            "epoch 1\n",
            "\tloss= tensor(1.1534, device='cuda:0', grad_fn=<NllLossBackward>)\n",
            "\tloss= tensor(1.1615, device='cuda:0', grad_fn=<NllLossBackward>)\n",
            "\tloss= tensor(1.1034, device='cuda:0', grad_fn=<NllLossBackward>)\n",
            "\tloss= tensor(1.0230, device='cuda:0', grad_fn=<NllLossBackward>)\n",
            "\tloss= tensor(1.0801, device='cuda:0', grad_fn=<NllLossBackward>)\n",
            "\tloss= tensor(1.1867, device='cuda:0', grad_fn=<NllLossBackward>)\n",
            "\tloss= tensor(0.8052, device='cuda:0', grad_fn=<NllLossBackward>)\n",
            "\tloss= tensor(1.2040, device='cuda:0', grad_fn=<NllLossBackward>)\n",
            "\tloss= tensor(0.9690, device='cuda:0', grad_fn=<NllLossBackward>)\n",
            "\tloss= tensor(0.9706, device='cuda:0', grad_fn=<NllLossBackward>)\n",
            "epoch 2\n",
            "\tloss= tensor(0.8658, device='cuda:0', grad_fn=<NllLossBackward>)\n",
            "\tloss= tensor(0.7444, device='cuda:0', grad_fn=<NllLossBackward>)\n",
            "\tloss= tensor(0.5613, device='cuda:0', grad_fn=<NllLossBackward>)\n",
            "\tloss= tensor(0.7387, device='cuda:0', grad_fn=<NllLossBackward>)\n",
            "\tloss= tensor(0.6653, device='cuda:0', grad_fn=<NllLossBackward>)\n",
            "\tloss= tensor(0.7112, device='cuda:0', grad_fn=<NllLossBackward>)\n",
            "\tloss= tensor(0.5703, device='cuda:0', grad_fn=<NllLossBackward>)\n",
            "\tloss= tensor(0.6425, device='cuda:0', grad_fn=<NllLossBackward>)\n",
            "\tloss= tensor(0.9969, device='cuda:0', grad_fn=<NllLossBackward>)\n",
            "\tloss= tensor(0.6272, device='cuda:0', grad_fn=<NllLossBackward>)\n",
            "\tloss= tensor(0.3988, device='cuda:0', grad_fn=<NllLossBackward>)\n",
            "epoch 3\n",
            "\tloss= tensor(0.4814, device='cuda:0', grad_fn=<NllLossBackward>)\n",
            "\tloss= tensor(0.5559, device='cuda:0', grad_fn=<NllLossBackward>)\n",
            "\tloss= tensor(0.5196, device='cuda:0', grad_fn=<NllLossBackward>)\n",
            "\tloss= tensor(0.6461, device='cuda:0', grad_fn=<NllLossBackward>)\n",
            "\tloss= tensor(0.6583, device='cuda:0', grad_fn=<NllLossBackward>)\n",
            "\tloss= tensor(0.3489, device='cuda:0', grad_fn=<NllLossBackward>)\n",
            "\tloss= tensor(0.4945, device='cuda:0', grad_fn=<NllLossBackward>)\n",
            "\tloss= tensor(0.4240, device='cuda:0', grad_fn=<NllLossBackward>)\n",
            "\tloss= tensor(0.5081, device='cuda:0', grad_fn=<NllLossBackward>)\n",
            "\tloss= tensor(0.6584, device='cuda:0', grad_fn=<NllLossBackward>)\n",
            "\tloss= tensor(0.6051, device='cuda:0', grad_fn=<NllLossBackward>)\n",
            "epoch 4\n",
            "\tloss= tensor(0.3466, device='cuda:0', grad_fn=<NllLossBackward>)\n",
            "\tloss= tensor(0.4807, device='cuda:0', grad_fn=<NllLossBackward>)\n",
            "\tloss= tensor(0.3532, device='cuda:0', grad_fn=<NllLossBackward>)\n",
            "\tloss= tensor(0.4689, device='cuda:0', grad_fn=<NllLossBackward>)\n",
            "\tloss= tensor(0.3732, device='cuda:0', grad_fn=<NllLossBackward>)\n",
            "\tloss= tensor(0.7129, device='cuda:0', grad_fn=<NllLossBackward>)\n",
            "\tloss= tensor(0.1449, device='cuda:0', grad_fn=<NllLossBackward>)\n",
            "\tloss= tensor(0.5978, device='cuda:0', grad_fn=<NllLossBackward>)\n",
            "\tloss= tensor(0.2412, device='cuda:0', grad_fn=<NllLossBackward>)\n",
            "[[ 934    0   10    4    1   12   18    2    9   10]\n",
            " [   0 1094    8    4    1    3    4   16    8    4]\n",
            " [   7    8  926   32    5   16   30   16    5    0]\n",
            " [   7    7   10  859    0   47    2    5   36   10]\n",
            " [   1    1   17    5  915   14    9   13   21   97]\n",
            " [   9    5    3   40    1  749   27    4   11    1]\n",
            " [   5    3   21    3    7   11  860    0   10    1]\n",
            " [  10    2   23   28    6   13    1  943   30   55]\n",
            " [   7   15   12   25    4   15    6    4  831    8]\n",
            " [   0    0    2   10   42   12    1   25   13  823]]\n",
            "0.8934\n"
          ],
          "name": "stdout"
        }
      ]
    },
    {
      "cell_type": "markdown",
      "metadata": {
        "id": "laPww2Bnurqy"
      },
      "source": [
        "**Q7 (moyenne) :** faites une fonction qui ajoute du bruit (pour chaque pixel, mettez le à 0 ou à 1 avec une petite probabilité - le bruit est différent pour chaque image train et test)\n"
      ]
    },
    {
      "cell_type": "code",
      "metadata": {
        "id": "-caGUzxVE5Hs"
      },
      "source": [
        "def addnoise(image,n=80):\n",
        "  noiserow = np.random.randint(0,32,size=n)\n",
        "  noisecol = np.random.randint(0,32,size=n)\n",
        "  randvalue = np.random.randint(0,2,size=n)\n",
        "  for i in range(n):\n",
        "    image[:,:,noiserow[i],noisecol[i]]=randvalue[i]\n",
        "  return image"
      ],
      "execution_count": null,
      "outputs": []
    },
    {
      "cell_type": "markdown",
      "metadata": {
        "id": "QJzlLXTAEyql"
      },
      "source": [
        "**Q8 (facile)** : Regarder les images avant et après permutation -- pourriez vous (vous même) classer les images APRES permutation ??\n",
        "\n",
        "\n"
      ]
    },
    {
      "cell_type": "code",
      "metadata": {
        "colab": {
          "base_uri": "https://localhost:8080/",
          "height": 286
        },
        "id": "cGiAvpKQEyh9",
        "outputId": "6da73ff6-5f31-492b-bb65-c5ab20cfa7d7"
      },
      "source": [
        "sample = next(iter(trainloader))[0]\n",
        "print(sample.shape)\n",
        "sample = addnoise(sample)\n",
        "show(torchvision.utils.make_grid(sample))"
      ],
      "execution_count": null,
      "outputs": [
        {
          "output_type": "stream",
          "text": [
            "torch.Size([64, 1, 32, 32])\n"
          ],
          "name": "stdout"
        },
        {
          "output_type": "display_data",
          "data": {
            "image/png": "[encoded data removed]",
            "text/plain": [
              "<Figure size 432x288 with 1 Axes>"
            ]
          },
          "metadata": {
            "tags": [],
            "needs_background": "light"
          }
        }
      ]
    },
    {
      "cell_type": "markdown",
      "metadata": {
        "id": "CekiyPfhEz2U"
      },
      "source": [
        "**Q9 (facile)** : Tester le MLP et le CNN -> cette fois c'est le CNN qui devrait être \"plutôt\" invariant (le bruit est +/- filtré par la convolution) alors que le MLP devrait être gêné par le bruit !"
      ]
    },
    {
      "cell_type": "code",
      "metadata": {
        "id": "WTA3zrQyxphh",
        "colab": {
          "base_uri": "https://localhost:8080/"
        },
        "outputId": "04767c37-66ed-46eb-c349-48798bf2fade"
      },
      "source": [
        "monreseau = MonReseau()\n",
        "monreseau = monreseau.cuda()\n",
        "optimizer = optim.Adam(monreseau.parameters(), lr=0.00001)\n",
        "for epoch in range(nbepoch):\n",
        "  monreseau.train()\n",
        "  print(\"epoch\", epoch)\n",
        "  for inputs, targets in trainloader:   ## on itere sur les données \n",
        "    inputs, targets = addnoise(inputs).cuda(),targets.cuda()\n",
        "\n",
        "    mespredictions = monreseau(inputs)  ## on les fait rentrer dans le réseau\n",
        "    loss = criterion(mespredictions,targets)  ## on compare la sortie courante à la sortie voulue\n",
        "\n",
        "    optimizer.zero_grad() ## supprime les gradients courants\n",
        "    loss.backward() ## le gradient -- la magie par rapport à comment c'était long en court :-)\n",
        "    optimizer.step() ## on actualise les poids pour que la sortie courante soit plus proche que la sortie voulue\n",
        "\n",
        "    if random.randint(0,90)==0:\n",
        "      print(\"\\tloss=\",loss) ## on affiche pour valider que ça diverge pas\n",
        "\n",
        "cm = np.zeros((10,10),dtype=int)\n",
        "monreseau.eval()\n",
        "with torch.no_grad():  ### ici pas besoin de calculer les gradients\n",
        "    for inputs, targets in testloader:\n",
        "        inputs = addnoise(inputs).cuda()\n",
        "        outputs = monreseau(inputs)\n",
        "        _,pred = outputs.max(1)\n",
        "        cm += confusion_matrix(pred.cpu().numpy(),targets.cpu().numpy(),list(range(10)))      \n",
        "\n",
        "print(cm)\n",
        "print(accuracy(cm))\n",
        "\n",
        "for epoch in range(nbepoch):\n",
        "    monreseauCNN.train()\n",
        "    print(\"epoch\", epoch)\n",
        "    for inputs, targets in trainloader:     ## on itere sur les données \n",
        "        inputs, targets = addnoise(inputs).cuda(),targets.cuda()\n",
        "\n",
        "        mespredictions = monreseauCNN(inputs)    ## on les fait rentrer dans le réseau\n",
        "        loss = criterion(mespredictions,targets)    ## on compare la sortie courante à la sortie voulue\n",
        "\n",
        "        optimizerCNN.zero_grad() ## supprime les gradients courants\n",
        "        loss.backward() ## le gradient -- la magie par rapport à comment c'était long en court :-)\n",
        "        optimizerCNN.step() ## on actualise les poids pour que la sortie courante soit plus proche que la sortie voulue\n",
        "\n",
        "        if random.randint(0,90)==0:\n",
        "            print(\"\\tloss=\",loss) ## on affiche pour valider que ça diverge pas\n",
        "\n",
        "cm = np.zeros((10,10),dtype=int)\n",
        "monreseauCNN.eval()\n",
        "with torch.no_grad():  ### ici pas besoin de calculer les gradients\n",
        "    for inputs, targets in testloader:\n",
        "        inputs = addnoise(inputs).cuda()\n",
        "        outputs = monreseauCNN(inputs)\n",
        "        _,pred = outputs.max(1)\n",
        "        cm += confusion_matrix(pred.cpu().numpy(),targets.cpu().numpy(),list(range(10)))\n",
        "\n",
        "print(cm)\n",
        "print(accuracy(cm))"
      ],
      "execution_count": null,
      "outputs": [
        {
          "output_type": "stream",
          "text": [
            "epoch 0\n",
            "\tloss= tensor(1.6763, device='cuda:0', grad_fn=<NllLossBackward>)\n",
            "\tloss= tensor(1.4275, device='cuda:0', grad_fn=<NllLossBackward>)\n",
            "\tloss= tensor(2.0836, device='cuda:0', grad_fn=<NllLossBackward>)\n",
            "\tloss= tensor(0.8722, device='cuda:0', grad_fn=<NllLossBackward>)\n",
            "\tloss= tensor(0.8305, device='cuda:0', grad_fn=<NllLossBackward>)\n",
            "\tloss= tensor(0.6374, device='cuda:0', grad_fn=<NllLossBackward>)\n",
            "\tloss= tensor(0.3432, device='cuda:0', grad_fn=<NllLossBackward>)\n",
            "\tloss= tensor(0.2838, device='cuda:0', grad_fn=<NllLossBackward>)\n",
            "\tloss= tensor(0.5394, device='cuda:0', grad_fn=<NllLossBackward>)\n",
            "\tloss= tensor(0.8943, device='cuda:0', grad_fn=<NllLossBackward>)\n",
            "\tloss= tensor(0.7995, device='cuda:0', grad_fn=<NllLossBackward>)\n",
            "\tloss= tensor(0.5423, device='cuda:0', grad_fn=<NllLossBackward>)\n",
            "epoch 1\n",
            "\tloss= tensor(0.4677, device='cuda:0', grad_fn=<NllLossBackward>)\n",
            "\tloss= tensor(0.4150, device='cuda:0', grad_fn=<NllLossBackward>)\n",
            "\tloss= tensor(0.5387, device='cuda:0', grad_fn=<NllLossBackward>)\n",
            "\tloss= tensor(0.2634, device='cuda:0', grad_fn=<NllLossBackward>)\n",
            "\tloss= tensor(0.3504, device='cuda:0', grad_fn=<NllLossBackward>)\n",
            "\tloss= tensor(0.2915, device='cuda:0', grad_fn=<NllLossBackward>)\n",
            "\tloss= tensor(0.2975, device='cuda:0', grad_fn=<NllLossBackward>)\n",
            "\tloss= tensor(0.2187, device='cuda:0', grad_fn=<NllLossBackward>)\n",
            "epoch 2\n",
            "\tloss= tensor(0.1993, device='cuda:0', grad_fn=<NllLossBackward>)\n",
            "\tloss= tensor(0.3158, device='cuda:0', grad_fn=<NllLossBackward>)\n",
            "\tloss= tensor(0.3221, device='cuda:0', grad_fn=<NllLossBackward>)\n",
            "\tloss= tensor(0.3976, device='cuda:0', grad_fn=<NllLossBackward>)\n",
            "\tloss= tensor(0.2066, device='cuda:0', grad_fn=<NllLossBackward>)\n",
            "\tloss= tensor(0.3564, device='cuda:0', grad_fn=<NllLossBackward>)\n",
            "\tloss= tensor(0.2585, device='cuda:0', grad_fn=<NllLossBackward>)\n",
            "\tloss= tensor(0.1987, device='cuda:0', grad_fn=<NllLossBackward>)\n",
            "epoch 3\n",
            "\tloss= tensor(0.2335, device='cuda:0', grad_fn=<NllLossBackward>)\n",
            "\tloss= tensor(0.1279, device='cuda:0', grad_fn=<NllLossBackward>)\n",
            "\tloss= tensor(0.3582, device='cuda:0', grad_fn=<NllLossBackward>)\n",
            "\tloss= tensor(0.1655, device='cuda:0', grad_fn=<NllLossBackward>)\n",
            "\tloss= tensor(0.0466, device='cuda:0', grad_fn=<NllLossBackward>)\n",
            "\tloss= tensor(0.1477, device='cuda:0', grad_fn=<NllLossBackward>)\n",
            "\tloss= tensor(0.3524, device='cuda:0', grad_fn=<NllLossBackward>)\n",
            "\tloss= tensor(0.2824, device='cuda:0', grad_fn=<NllLossBackward>)\n",
            "\tloss= tensor(0.1731, device='cuda:0', grad_fn=<NllLossBackward>)\n",
            "\tloss= tensor(0.0783, device='cuda:0', grad_fn=<NllLossBackward>)\n",
            "\tloss= tensor(0.0962, device='cuda:0', grad_fn=<NllLossBackward>)\n",
            "\tloss= tensor(0.0836, device='cuda:0', grad_fn=<NllLossBackward>)\n",
            "\tloss= tensor(0.1884, device='cuda:0', grad_fn=<NllLossBackward>)\n",
            "\tloss= tensor(0.1997, device='cuda:0', grad_fn=<NllLossBackward>)\n",
            "\tloss= tensor(0.1978, device='cuda:0', grad_fn=<NllLossBackward>)\n",
            "\tloss= tensor(0.0904, device='cuda:0', grad_fn=<NllLossBackward>)\n",
            "epoch 4\n",
            "\tloss= tensor(0.1262, device='cuda:0', grad_fn=<NllLossBackward>)\n",
            "\tloss= tensor(0.2878, device='cuda:0', grad_fn=<NllLossBackward>)\n",
            "\tloss= tensor(0.2180, device='cuda:0', grad_fn=<NllLossBackward>)\n",
            "\tloss= tensor(0.2929, device='cuda:0', grad_fn=<NllLossBackward>)\n",
            "\tloss= tensor(0.2540, device='cuda:0', grad_fn=<NllLossBackward>)\n",
            "\tloss= tensor(0.1442, device='cuda:0', grad_fn=<NllLossBackward>)\n",
            "\tloss= tensor(0.0610, device='cuda:0', grad_fn=<NllLossBackward>)\n",
            "[[ 962    0   12    1    1    3    6    2    9    8]\n",
            " [   0 1124    5    8    0    2    2   15   19    7]\n",
            " [   2    3  988   26    4    0    0   17   12    3]\n",
            " [   0    0    0  884    0    6    1    0    6    1]\n",
            " [   3    0   11    1  953    6   14   14   10   52]\n",
            " [   3    1    1   48    1  846    5    0   15    9]\n",
            " [   6    5    5    0    5   20  928    0   19    0]\n",
            " [   2    0    6    6    0    0    0  940   10    1]\n",
            " [   1    2    4   23    3    7    2    0  865    7]\n",
            " [   1    0    0   13   15    2    0   40    9  921]]\n",
            "0.9411\n",
            "epoch 0\n",
            "\tloss= tensor(0.7541, device='cuda:0', grad_fn=<NllLossBackward>)\n",
            "\tloss= tensor(0.6931, device='cuda:0', grad_fn=<NllLossBackward>)\n",
            "\tloss= tensor(0.8894, device='cuda:0', grad_fn=<NllLossBackward>)\n",
            "\tloss= tensor(0.4651, device='cuda:0', grad_fn=<NllLossBackward>)\n",
            "\tloss= tensor(0.4936, device='cuda:0', grad_fn=<NllLossBackward>)\n",
            "\tloss= tensor(0.4900, device='cuda:0', grad_fn=<NllLossBackward>)\n",
            "\tloss= tensor(0.3798, device='cuda:0', grad_fn=<NllLossBackward>)\n",
            "\tloss= tensor(0.4783, device='cuda:0', grad_fn=<NllLossBackward>)\n",
            "\tloss= tensor(0.5441, device='cuda:0', grad_fn=<NllLossBackward>)\n",
            "\tloss= tensor(0.8753, device='cuda:0', grad_fn=<NllLossBackward>)\n",
            "epoch 1\n",
            "\tloss= tensor(0.5291, device='cuda:0', grad_fn=<NllLossBackward>)\n",
            "\tloss= tensor(0.5687, device='cuda:0', grad_fn=<NllLossBackward>)\n",
            "\tloss= tensor(0.5011, device='cuda:0', grad_fn=<NllLossBackward>)\n",
            "\tloss= tensor(0.5810, device='cuda:0', grad_fn=<NllLossBackward>)\n",
            "\tloss= tensor(0.6727, device='cuda:0', grad_fn=<NllLossBackward>)\n",
            "\tloss= tensor(0.4222, device='cuda:0', grad_fn=<NllLossBackward>)\n",
            "\tloss= tensor(0.4309, device='cuda:0', grad_fn=<NllLossBackward>)\n",
            "\tloss= tensor(0.5904, device='cuda:0', grad_fn=<NllLossBackward>)\n",
            "\tloss= tensor(0.5209, device='cuda:0', grad_fn=<NllLossBackward>)\n",
            "\tloss= tensor(0.5253, device='cuda:0', grad_fn=<NllLossBackward>)\n",
            "\tloss= tensor(0.3134, device='cuda:0', grad_fn=<NllLossBackward>)\n",
            "\tloss= tensor(0.3239, device='cuda:0', grad_fn=<NllLossBackward>)\n",
            "\tloss= tensor(0.5084, device='cuda:0', grad_fn=<NllLossBackward>)\n",
            "epoch 2\n",
            "\tloss= tensor(0.1332, device='cuda:0', grad_fn=<NllLossBackward>)\n",
            "\tloss= tensor(0.2412, device='cuda:0', grad_fn=<NllLossBackward>)\n",
            "\tloss= tensor(0.6716, device='cuda:0', grad_fn=<NllLossBackward>)\n",
            "\tloss= tensor(0.3598, device='cuda:0', grad_fn=<NllLossBackward>)\n",
            "\tloss= tensor(0.2458, device='cuda:0', grad_fn=<NllLossBackward>)\n",
            "\tloss= tensor(0.4478, device='cuda:0', grad_fn=<NllLossBackward>)\n",
            "\tloss= tensor(0.3236, device='cuda:0', grad_fn=<NllLossBackward>)\n",
            "\tloss= tensor(0.4262, device='cuda:0', grad_fn=<NllLossBackward>)\n",
            "\tloss= tensor(0.5427, device='cuda:0', grad_fn=<NllLossBackward>)\n",
            "\tloss= tensor(0.4100, device='cuda:0', grad_fn=<NllLossBackward>)\n",
            "\tloss= tensor(0.2831, device='cuda:0', grad_fn=<NllLossBackward>)\n",
            "\tloss= tensor(0.7380, device='cuda:0', grad_fn=<NllLossBackward>)\n",
            "\tloss= tensor(0.4894, device='cuda:0', grad_fn=<NllLossBackward>)\n",
            "\tloss= tensor(0.4333, device='cuda:0', grad_fn=<NllLossBackward>)\n",
            "epoch 3\n",
            "\tloss= tensor(0.4290, device='cuda:0', grad_fn=<NllLossBackward>)\n",
            "\tloss= tensor(0.3589, device='cuda:0', grad_fn=<NllLossBackward>)\n",
            "\tloss= tensor(0.4012, device='cuda:0', grad_fn=<NllLossBackward>)\n",
            "\tloss= tensor(0.1739, device='cuda:0', grad_fn=<NllLossBackward>)\n",
            "\tloss= tensor(0.5194, device='cuda:0', grad_fn=<NllLossBackward>)\n",
            "\tloss= tensor(0.3781, device='cuda:0', grad_fn=<NllLossBackward>)\n",
            "\tloss= tensor(0.4377, device='cuda:0', grad_fn=<NllLossBackward>)\n",
            "\tloss= tensor(0.2691, device='cuda:0', grad_fn=<NllLossBackward>)\n",
            "\tloss= tensor(0.5253, device='cuda:0', grad_fn=<NllLossBackward>)\n",
            "\tloss= tensor(0.4389, device='cuda:0', grad_fn=<NllLossBackward>)\n",
            "\tloss= tensor(0.4793, device='cuda:0', grad_fn=<NllLossBackward>)\n",
            "\tloss= tensor(0.5255, device='cuda:0', grad_fn=<NllLossBackward>)\n",
            "\tloss= tensor(0.1724, device='cuda:0', grad_fn=<NllLossBackward>)\n",
            "\tloss= tensor(0.2354, device='cuda:0', grad_fn=<NllLossBackward>)\n",
            "\tloss= tensor(0.1021, device='cuda:0', grad_fn=<NllLossBackward>)\n",
            "\tloss= tensor(0.1246, device='cuda:0', grad_fn=<NllLossBackward>)\n",
            "epoch 4\n",
            "\tloss= tensor(0.3379, device='cuda:0', grad_fn=<NllLossBackward>)\n",
            "\tloss= tensor(0.3449, device='cuda:0', grad_fn=<NllLossBackward>)\n",
            "\tloss= tensor(0.5847, device='cuda:0', grad_fn=<NllLossBackward>)\n",
            "\tloss= tensor(0.4634, device='cuda:0', grad_fn=<NllLossBackward>)\n",
            "\tloss= tensor(0.3743, device='cuda:0', grad_fn=<NllLossBackward>)\n",
            "\tloss= tensor(0.4161, device='cuda:0', grad_fn=<NllLossBackward>)\n",
            "\tloss= tensor(0.2078, device='cuda:0', grad_fn=<NllLossBackward>)\n",
            "\tloss= tensor(0.6952, device='cuda:0', grad_fn=<NllLossBackward>)\n",
            "\tloss= tensor(0.4621, device='cuda:0', grad_fn=<NllLossBackward>)\n",
            "[[ 920    0    3    0    1    1   10    3    1    3]\n",
            " [   0 1044    1    0    1    1    1    1    0    1]\n",
            " [  11   29  991   29   10    3    3   53   46   10]\n",
            " [   3    1   11  947    5   23    0   21   18   18]\n",
            " [   0    2    0    0  887    0    5    2    2   11]\n",
            " [  17   13    5   21   11  849   19    1   75   46]\n",
            " [  24    8    4    0   27    2  916    0    4    2]\n",
            " [   3    6   10   10    2    1    0  917    7   28]\n",
            " [   2   32    7    3   17   11    4    9  813   25]\n",
            " [   0    0    0    0   21    1    0   21    8  865]]\n",
            "0.9149\n"
          ],
          "name": "stdout"
        }
      ]
    },
    {
      "cell_type": "markdown",
      "metadata": {
        "id": "QYYZMfsixq7g"
      },
      "source": [
        "## conclusion\n",
        "\n",
        "**-> se souvenir que si on prend TOUS les problèmes, tous les algos de classification sont tous aussi mauvais**\n",
        "\n",
        "**-> ce qui compte c'est qu'ils soient adaptés aux données qu'on peut réellement rencontrer**\n",
        "\n",
        "**En comparant les images avec permutation des pixels vs avec un bruit... Vous pouvez comprendre pourquoi le CNN est plus adapté à l'image naturelle \n",
        "que le MLP !**"
      ]
    }
  ]
}