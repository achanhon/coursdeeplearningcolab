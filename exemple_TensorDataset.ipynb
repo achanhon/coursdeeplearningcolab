{
  "nbformat": 4,
  "nbformat_minor": 0,
  "metadata": {
    "colab": {
      "provenance": [],
      "authorship_tag": "ABX9TyMhtXaMfoiuyf41TrYXfY1s",
      "include_colab_link": true
    },
    "kernelspec": {
      "name": "python3",
      "display_name": "Python 3"
    },
    "language_info": {
      "name": "python"
    }
  },
  "cells": [
    {
      "cell_type": "markdown",
      "metadata": {
        "id": "view-in-github",
        "colab_type": "text"
      },
      "source": [
        "<a href=\"https://colab.research.google.com/github/achanhon/coursdeeplearningcolab/blob/master/exemple_TensorDataset.ipynb\" target=\"_parent\"><img src=\"https://colab.research.google.com/assets/colab-badge.svg\" alt=\"Open In Colab\"/></a>"
      ]
    },
    {
      "cell_type": "markdown",
      "source": [
        "Exemple d'utilisation de torch.utils.data.TensorDataset : on a des bi,xi et on voudrait que f(bi)=xi"
      ],
      "metadata": {
        "id": "zV1qFbfWrQC2"
      }
    },
    {
      "cell_type": "markdown",
      "source": [
        "générer un dataset"
      ],
      "metadata": {
        "id": "GmZ9fhzqrq3l"
      }
    },
    {
      "cell_type": "code",
      "execution_count": 1,
      "metadata": {
        "colab": {
          "base_uri": "https://localhost:8080/"
        },
        "id": "aU562SFXrMLv",
        "outputId": "e250591e-19e9-4168-d81b-51acd58a0eb8"
      },
      "outputs": [
        {
          "output_type": "stream",
          "name": "stderr",
          "text": [
            "/usr/local/lib/python3.10/dist-packages/torch/utils/data/dataloader.py:558: UserWarning: This DataLoader will create 3 worker processes in total. Our suggested max number of worker in current system is 2, which is smaller than what this DataLoader is going to create. Please be aware that excessive worker creation might get DataLoader running slow or even freeze, lower the worker number to avoid potential slowness/freeze if necessary.\n",
            "  warnings.warn(_create_warning_msg(\n"
          ]
        }
      ],
      "source": [
        "import torch\n",
        "import time\n",
        "A = torch.rand(30,30)\n",
        "B = torch.rand(10000,30)\n",
        "X = torch.linalg.solve(A.expand(10000, -1, -1), B)\n",
        "\n",
        "dataset = torch.utils.data.TensorDataset(B,X)\n",
        "dataloader = torch.utils.data.DataLoader(dataset, batch_size=32, shuffle=True,num_workers=3)"
      ]
    },
    {
      "cell_type": "markdown",
      "source": [
        "apprendre un réseau"
      ],
      "metadata": {
        "id": "QOraJScVttqt"
      }
    },
    {
      "cell_type": "code",
      "source": [
        "class MyNet(torch.nn.Module):\n",
        "    def __init__(self):\n",
        "        super(MyNet,self).__init__()\n",
        "        self.f1 = torch.nn.Linear(30,64)\n",
        "        self.f2 = torch.nn.Linear(64,128)\n",
        "        self.f3 = torch.nn.Linear(128,30)\n",
        "\n",
        "    def forward(self,x):\n",
        "        x = torch.nn.functional.leaky_relu(self.f1(x))\n",
        "        x = torch.nn.functional.leaky_relu(self.f2(x))\n",
        "        return self.f3(x)\n",
        "\n",
        "print(\"train loop\")\n",
        "t0 = time.time()\n",
        "net = MyNet()\n",
        "avgloss = []\n",
        "optimizer = torch.optim.Adam(net.parameters(), lr=0.001)\n",
        "for b,x in dataloader:\n",
        "    xpred = net(b)\n",
        "    loss = ((x-xpred)**2).mean()\n",
        "\n",
        "    optimizer.zero_grad()\n",
        "    loss.backward()\n",
        "    optimizer.step()\n",
        "\n",
        "    avgloss.append(float(loss))\n",
        "    if len(avgloss)==50:\n",
        "        print(\"\\t\",sum(avgloss)/50)\n",
        "        avgloss = []\n",
        "\n",
        "print(time.time()-t0)"
      ],
      "metadata": {
        "colab": {
          "base_uri": "https://localhost:8080/"
        },
        "id": "z4aHuj7vtyUD",
        "outputId": "1197811a-25c5-4183-b52c-d3259809f7af"
      },
      "execution_count": 2,
      "outputs": [
        {
          "output_type": "stream",
          "name": "stdout",
          "text": [
            "train loop\n"
          ]
        },
        {
          "output_type": "stream",
          "name": "stderr",
          "text": [
            "/usr/local/lib/python3.10/dist-packages/torch/utils/data/dataloader.py:558: UserWarning: This DataLoader will create 3 worker processes in total. Our suggested max number of worker in current system is 2, which is smaller than what this DataLoader is going to create. Please be aware that excessive worker creation might get DataLoader running slow or even freeze, lower the worker number to avoid potential slowness/freeze if necessary.\n",
            "  warnings.warn(_create_warning_msg(\n"
          ]
        },
        {
          "output_type": "stream",
          "name": "stdout",
          "text": [
            "\t 1.9573113799095154\n",
            "\t 0.9533476036787033\n",
            "\t 0.2262219974398613\n",
            "\t 0.13377402409911154\n",
            "\t 0.07987812243402004\n",
            "\t 0.05406187027692795\n",
            "4.517619371414185\n"
          ]
        }
      ]
    },
    {
      "cell_type": "markdown",
      "source": [
        "sans dataloader"
      ],
      "metadata": {
        "id": "ZB6_aU_ov0OU"
      }
    },
    {
      "cell_type": "code",
      "source": [
        "print(\"train loop\")\n",
        "t0 = time.time()\n",
        "net = MyNet()\n",
        "avgloss = []\n",
        "optimizer = torch.optim.Adam(net.parameters(), lr=0.001)\n",
        "for i in range(10000//32):\n",
        "    I = (torch.rand(32)*10000).long()\n",
        "    b,x = B[I],X[I]\n",
        "    xpred = net(b)\n",
        "    loss = ((x-xpred)**2).mean()\n",
        "\n",
        "    optimizer.zero_grad()\n",
        "    loss.backward()\n",
        "    optimizer.step()\n",
        "\n",
        "    avgloss.append(float(loss))\n",
        "    if len(avgloss)==50:\n",
        "        print(\"\\t\",sum(avgloss)/50)\n",
        "        avgloss = []\n",
        "\n",
        "print(time.time()-t0)"
      ],
      "metadata": {
        "colab": {
          "base_uri": "https://localhost:8080/"
        },
        "id": "W6Rd_QuAv4HC",
        "outputId": "45d79d7f-55dd-4349-a07d-80d6e3f9f7f0"
      },
      "execution_count": 3,
      "outputs": [
        {
          "output_type": "stream",
          "name": "stdout",
          "text": [
            "train loop\n",
            "\t 1.8767308855056763\n",
            "\t 1.0280935436487197\n",
            "\t 0.21374112904071807\n",
            "\t 0.12835330188274383\n",
            "\t 0.08580434218049049\n",
            "\t 0.05971808761358261\n",
            "0.3272550106048584\n"
          ]
        }
      ]
    }
  ]
}