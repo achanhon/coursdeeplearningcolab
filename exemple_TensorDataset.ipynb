{
  "nbformat": 4,
  "nbformat_minor": 0,
  "metadata": {
    "colab": {
      "provenance": [],
      "authorship_tag": "ABX9TyOdwPS9VqiMNlw8+hlyAGHl",
      "include_colab_link": true
    },
    "kernelspec": {
      "name": "python3",
      "display_name": "Python 3"
    },
    "language_info": {
      "name": "python"
    }
  },
  "cells": [
    {
      "cell_type": "markdown",
      "metadata": {
        "id": "view-in-github",
        "colab_type": "text"
      },
      "source": [
        "<a href=\"https://colab.research.google.com/github/achanhon/coursdeeplearningcolab/blob/master/exemple_TensorDataset.ipynb\" target=\"_parent\"><img src=\"https://colab.research.google.com/assets/colab-badge.svg\" alt=\"Open In Colab\"/></a>"
      ]
    },
    {
      "cell_type": "markdown",
      "source": [
        "Exemple d'utilisation de torch.utils.data.TensorDataset : on a des bi,xi et on voudrait que f(bi)=xi"
      ],
      "metadata": {
        "id": "zV1qFbfWrQC2"
      }
    },
    {
      "cell_type": "markdown",
      "source": [
        "générer un dataset"
      ],
      "metadata": {
        "id": "GmZ9fhzqrq3l"
      }
    },
    {
      "cell_type": "code",
      "execution_count": 4,
      "metadata": {
        "id": "aU562SFXrMLv"
      },
      "outputs": [],
      "source": [
        "import torch\n",
        "A = torch.rand(30,30)\n",
        "B = torch.rand(10000,30)\n",
        "X = torch.linalg.solve(A.expand(10000, -1, -1), B)\n",
        "\n",
        "dataset = torch.utils.data.TensorDataset(B,X)\n",
        "dataloader = torch.utils.data.DataLoader(dataset, batch_size=32, shuffle=True)"
      ]
    },
    {
      "cell_type": "markdown",
      "source": [
        "apprendre un réseau"
      ],
      "metadata": {
        "id": "QOraJScVttqt"
      }
    },
    {
      "cell_type": "code",
      "source": [],
      "metadata": {
        "id": "z4aHuj7vtyUD"
      },
      "execution_count": null,
      "outputs": []
    }
  ]
}